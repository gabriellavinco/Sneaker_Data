{
 "cells": [
  {
   "cell_type": "code",
   "execution_count": 295,
   "metadata": {},
   "outputs": [],
   "source": [
    "import os\n",
    "import selenium\n",
    "from selenium import webdriver\n",
    "import time\n",
    "from PIL import Image\n",
    "import io\n",
    "import requests\n",
    "from webdriver_manager.chrome import ChromeDriverManager\n",
    "from selenium.webdriver.chrome.options import Options\n",
    "from selenium.webdriver.support.ui import WebDriverWait\n",
    "from selenium.webdriver.support import expected_conditions as EC\n",
    "from selenium.webdriver.common.by import By\n",
    "from selenium.common.exceptions import ElementClickInterceptedException\n",
    "from selenium.common.exceptions import NoSuchElementException\n",
    "import datetime as dt\n",
    "import pandas as pd\n",
    "import csv\n",
    "import collections"
   ]
  },
  {
   "cell_type": "code",
   "execution_count": 331,
   "metadata": {},
   "outputs": [
    {
     "name": "stderr",
     "output_type": "stream",
     "text": [
      "[WDM] - ====== WebDriver manager ======\n",
      "[WDM] - Current google-chrome version is 90.0.4430\n",
      "[WDM] - Get LATEST driver version for 90.0.4430\n",
      "[WDM] - Driver [/Users/gabbyvinco/.wdm/drivers/chromedriver/mac64/90.0.4430.24/chromedriver] found in cache\n"
     ]
    },
    {
     "name": "stdout",
     "output_type": "stream",
     "text": [
      "\n",
      "\n"
     ]
    }
   ],
   "source": [
    "# Install and initiate driver\n",
    "driver = webdriver.Chrome(ChromeDriverManager().install())\n",
    "\n",
    "# URL from brand pages\n",
    "# adidas_url = 'https://stockx.com/adidas'\n",
    "# jordan_url = 'https://stockx.com/retro-jordans'\n",
    "# nike_url = 'https://stockx.com/nike'\n",
    "# other_sneakers_url = 'https://stockx.com/other-sneakers'\n",
    "luxury_sneakers_url = 'https://stockx.com/luxury-brands'\n",
    "\n",
    "# open and maximize the browser window\n",
    "# (change url if needed)\n",
    "driver.get(luxury_sneakers_url)\n",
    "driver.maximize_window()"
   ]
  },
  {
   "cell_type": "code",
   "execution_count": 332,
   "metadata": {},
   "outputs": [],
   "source": [
    "# initiate the action object\n",
    "action = webdriver.ActionChains(driver)\n",
    "\n",
    "# get rid of the pop up message upon opening the website\n",
    "wait = WebDriverWait(driver, 10)\n",
    "\n",
    "pop_up_confirm = wait.until(EC.element_to_be_clickable((By.XPATH, '/html/body/div[6]/div[4]/div/section/footer/button')))\n",
    "\n",
    "pop_up_confirm.click()"
   ]
  },
  {
   "cell_type": "code",
   "execution_count": 333,
   "metadata": {},
   "outputs": [],
   "source": [
    "all_xpaths = []\n",
    "all_hrefs = []\n",
    "shoe_link = []"
   ]
  },
  {
   "cell_type": "code",
   "execution_count": 334,
   "metadata": {},
   "outputs": [],
   "source": [
    "# create xpath routes for all the links on the page\n",
    "for tile in range (1,21):\n",
    "    # no need to adjust tile path with the change of url\n",
    "    tile_path = \"/html/body/div[1]/div[1]/div[2]/div[2]/div[3]/div/div/div[2]/div[2]/div[2]/div[2]/div[\"+str(tile)+\"]/div/a\"\n",
    "    all_xpaths.append(tile_path)\n",
    "#print(all_xpaths)\n"
   ]
  },
  {
   "cell_type": "code",
   "execution_count": 335,
   "metadata": {},
   "outputs": [],
   "source": [
    "# scrape all the href links for each tile on the page\n",
    "def scrape_href():\n",
    "    for path in all_xpaths:\n",
    "        link = driver.find_element_by_xpath(path).get_attribute('href')\n",
    "        all_hrefs.append(link)\n",
    "    #print(all_hrefs)"
   ]
  },
  {
   "cell_type": "code",
   "execution_count": 336,
   "metadata": {},
   "outputs": [],
   "source": [
    "# split to isolate the link needed for the request\n",
    "def split_href():\n",
    "    for href in all_hrefs:\n",
    "        link = href.split(\"m/\")\n",
    "        shoe_link.append(link[1])\n",
    "    #print(\"links added to list\")"
   ]
  },
  {
   "cell_type": "code",
   "execution_count": 337,
   "metadata": {},
   "outputs": [
    {
     "name": "stdout",
     "output_type": "stream",
     "text": [
      "working....\n",
      "working\n",
      "working\n",
      "working\n",
      "working\n",
      "working\n",
      "working\n",
      "working\n",
      "working\n",
      "working\n",
      "working\n",
      "working\n",
      "working\n",
      "working\n",
      "working\n",
      "working\n",
      "working\n",
      "working\n",
      "working\n",
      "working\n",
      "working\n",
      "working\n",
      "working\n",
      "working\n",
      "working\n",
      "working\n",
      "working\n",
      "working\n",
      "working\n",
      "working\n",
      "working\n"
     ]
    }
   ],
   "source": [
    "# automate it to click through all the pages until we have a duplicate link\n",
    "page_count = 0\n",
    "tile_count = 0\n",
    "# make sure lists are empty before scraping\n",
    "all_hrefs = []\n",
    "shoe_link = []\n",
    "\n",
    "# range 1 to 51 because there are a maximum number of 50 pages to go through\n",
    "while page_count <= 30:\n",
    "    page_count += 1 # add to count so you know how many iterations you're doing\n",
    "    tile_count += 20 # add to tile count so you can check to see if the current page duplicates with the first page\n",
    "    scrape_href() # get hrefs\n",
    "    split_href() # split hrefs\n",
    "    driver.refresh()\n",
    "    # next button is also the same regardless of switch in url\n",
    "    element = driver.find_element_by_xpath(\"/html/body/div[1]/div[1]/div[2]/div[2]/div[3]/div/div/div[2]/div[3]/ul/a[7]\")\n",
    "    driver.execute_script(\"arguments[0].click();\", element) \n",
    "    # skip the first iteration becuase we know there aren't any duplicates on the first page\n",
    "    if page_count == 1:\n",
    "        print(\"working....\")\n",
    "        continue\n",
    "    # if not first iteration, then we need to check for duplicates\n",
    "    elif page_count != 1:\n",
    "        first_shoe = shoe_link[0]\n",
    "        counter=collections.Counter(shoe_link)\n",
    "        unique_shoes = list(counter.keys())\n",
    "        if unique_shoes.count(first_shoe) > 1:\n",
    "            print(\"duplicate found\")\n",
    "            break\n",
    "        else:\n",
    "            print(\"working\")\n",
    "            continue\n",
    "        \n"
   ]
  },
  {
   "cell_type": "code",
   "execution_count": 338,
   "metadata": {},
   "outputs": [
    {
     "name": "stdout",
     "output_type": "stream",
     "text": [
      "['louis-vuitton-don-kanye-red', 'alexander-mcqueen-oversized-ivory-black', 'gucci-rubber-slides-red-green', 'off-white-low-vulc-white-black-aw20', 'off-white-industrial-slides-black-fw20', 'gucci-bambi-web-silver', 'lv-trainer-white-ss21', 'gucci-web-slide-sandal-black', 'gucci-pursuit-pool-slides-white', 'gucci-slides-bloom-supreme', 'balenciaga-speed-trainers-clearsole', 'balenciaga-track-black', 'gucci-flashtrek-sega-green-removable-crystal', 'balenciaga-speed-20-black', 'off-white-odsy-1000-light-blue-fw20', 'balenciaga-speed-20-black-white', 'dior-b23-high-top-logo-oblique', 'alexander-mcqueen-oversized-ivory-black-w', 'balenciaga-triple-s-black-2019', 'common-projects-original-achilles-white', 'alexander-mcqueen-oversized-worker-blue', 'balenciaga-triple-s-neon-green', 'alexander-mcqueen-oversized-black', 'dior-b22-white-red', 'balenciaga-triple-s-allover-logo-white', 'alexander-mcqueen-oversized-shock-pink', 'off-white-vulc-low-white-red-arrow', 'off-white-slides-industrial', 'off-white-slides-arrows-w', 'burberry-slides-vintage-check', 'balenciaga-track-runners-blue-w', 'gucci-stripe-slide-white', 'balenciaga-triple-s-clear-sole-black', 'gucci-web-slide-sandal-white', 'gucci-ace-embroidered-snake', 'burberry-vintage-check-cotton-beige', 'gucci-ace-classic', 'gucci-rython-vintage-logo', 'gucci-ace-stripe-black', 'gucci-ace-blade', 'gucci-rhyton-worldwide', 'alexander-mcqueen-oversized-shock-pink-w', 'gucci-flashtrek-sega-blue-suede', 'dior-b23-high-top-oblique', 'common-projects-original-achilles-white-w', 'alexander-mcqueen-oversized-worker-blue-w', 'burberry-logo-print-vintage-check', 'balenciaga-track2-black-white', 'balenciaga-speed-20-black-white-w', 'louis-vuitton-trainer-sneaker-denim-monogram', 'off-white-vulc-low-white-brown', 'balenciaga-speed-trainer-black-white-2018', 'gucci-ace-bee-w', 'off-white-low-vulc-white-black-w', 'gucci-gg-slide-rubber-black', 'alexander-mcqueen-oversized-red-w', 'alexander-mcqueen-oversized-white', 'balenciaga-track-2-blue-red', 'balenciaga-triple-s-off-white', 'gucci-ace-gg-silver', 'off-white-vulc-low-white-leather-fw19', 'balenciaga-track-white', 'gucci-logo-slide-rubber-black', 'off-white-low-vulc-black-white-w', 'balenciaga-track2-multicolor', 'balenciaga-track2-beige', 'off-white-low-vulc-black-iridescent', 'gucci-rython-beige-ebony-w', 'off-white-low-vulc-white-iridescent', 'balenciaga-triple-s-black-white-red-2018-reissue', 'dior-b22-black', 'balenciaga-triple-s-white-clear-sole-w', 'balenciaga-track-trainers-pink-red', 'dior-b23-low-top-canvas-oblique-black', 'off-white-odsy-2000-blue-black-aw20', 'louis-vuitton-trainer-eclipse', 'off-white-odsy-mesh-transparent-blue', 'versace-chain-reaction-2-chainz-black', 'off-white-low-vulc-grey-green-fluo-aw20', 'balenciaga-triple-s-allover-logo-black', 'gucci-matelasse-slide-black-double-g', 'alexander-mcqueen-oversized-white-black-trim', 'off-white-diagonal-stripes-flip-flops-yellow-black-aw-20', 'balenciaga-triple-s-cream-yellow-red-w', 'balenciaga-triple-s-pastels', 'gucci-ace-black-gg', 'dior-b27-low-white-gray', 'off-white-vulc-low-black-white-arrow', 'alexander-mcqueen-oversized-white-red-heart-w', 'versace-chain-reaction-print-black', 'off-white-odsy-1000-blue-grey-ss21', 'chanel-low-top-trainer-cc-grey', 'dior-b23-low-top-brown-leopard', 'off-white-odsy-2000-black-brown-ss21', 'alexander-mcqueen-oversized-black-white', 'balenciaga-track-green-white-blue', 'gucci-ace-bee', 'balenciaga-triple-s-grey-red-blue-2018-reissue', 'alexander-mcqueen-oversized-multicolor-w', 'off-white-vulc-low-black-red-arrow-fw20', 'balenciaga-track-white-orange', 'off-white-logo-patch-low-top-black', 'balenciaga-track-2-black', 'dior-and-shawn-b23-high-top-bee-embroidery', 'off-white-low-vulc-fluo-yellow', 'dior-b23-high-top-canvas-oblique-black', 'gucci-ace-gg-motif', 'balenciaga-track-trainers-burgundy-black', 'gucci-slide-pink-rubber-w', 'gucci-rython-tiger', 'balenciaga-triple-s-clear-sole-white', 'balenciaga-speed-trainer-black-white-logo', 'off-white-vulc-low-black-2018', 'balenciaga-track-black-red-w', 'off-white-vulc-low-black-ss20', 'balenciaga-triple-s-white-blue', 'alexander-mcqueen-oversized-black-white-sole', 'balenciaga-track-2-white', 'alexander-mcqueen-oversized-black-shiny-sole', 'balenciaga-track-trainers-black-orange-w', 'balenciaga-triple-s-white-pink-w', 'gucci-flashtrek-sega-reflective-grey', 'balenciaga-triple-s-red-black', 'off-white-odsy-1000-green', 'dior-b22-green', 'balenciaga-arena-high-red', 'prada-cloudbust-red', 'off-white-vulc-low-black-fuchsia', 'balenciaga-triple-s-purple-yellow-blue-w', 'alexander-mcqueen-oversized-white-w', 'gucci-off-the-grid-high-top-black-gg', 'off-white-arrow-low-top-green', 'versace-chain-reaction-multi-color-rubber-suede', 'balenciaga-triple-s-triple-black-2018-reissue-nondistressed-black', 'gucci-rhyton-green-red', 'balenciaga-track-silver', 'balenciaga-track-white-orange-w', 'alexander-mcqueen-oversized-neon-green-snake-print', 'balenciaga-triple-s-pink', 'gucci-ace-black', 'off-white-odsy-1000-white-pale-blue-ss20', 'louis-vuitton-waterfront-mule-monogram-eclipse', 'off-white-logo-typographic-flip-flop-yellow-ss20', 'gucci-ace-tiger', 'gucci-rhyton-sega', 'alexander-mcqueen-oversized-white-dream-blue', 'balenciaga-triple-s-white-2019', 'balenciaga-speed-trainer-clearsole-w', 'balenciaga-track-light-blue-w', 'versace-chain-reaction-2-chainz-red', 'balenciaga-speed-trainer-black-white-black', 'off-white-odsy-1000-blue-fw19', 'alexander-mcqueen-oversized-triple-black', 'balenciaga-triple-s-clearsole-fluo-yellow', 'balenciaga-speed-trainer-black-yellow', 'off-white-flip-flops-yellow', 'balenciaga-arena-high-iron-grey', 'gucci-ace-stripe-ivory', 'dior-b22-white-red-blue', 'gucci-rython-vintage-logo-w', 'gucci-ace-fur', 'balenciaga-triple-s-mr-porter-neon-green', 'off-white-low-vulc-black', 'balenciaga-triple-s-clearsole-pink-w', 'alexander-mcqueen-oversized-white-black-w', 'alexander-mcqueen-oversized-white-black-outline', 'off-white-odsy-1000-tech-white', 'dior-b22-red', 'balenciaga-triple-s-green-grey', 'balenciaga-speed-lace-up-black', 'dior-b22-light-blue-white', 'louis-vuitton-archlight-trainer-monogram-white-w', 'gucci-original-gucci-slide-black', 'louis-vuitton-trainer-monogram-denim', 'gucci-flashtrek-black-spike', 'off-white-diagonal-stripes-flip-flops-white-aw20', 'gucci-ace-gg-supreme-tigers', 'off-white-odsy-1000-pink-w', 'gucci-original-gucci-slide-white', 'balenciaga-speed-trainer-logo-print-black-white-w', 'louis-vuitton-waterfront-mule-monogram', 'off-white-low-vulc-white', 'louis-vuitton-lv-trainer-sneaker-low-black-grey', 'versace-squalo-black-white', 'gucci-tennis-1977-x-disney', 'dior-b22-white-yellow', 'gucci-rython-wave', 'chanel-low-top-trainer-cc-black-ivory-w', 'off-white-vulc-low-white-blue-grey', 'off-white-20-low-orange-fw19', 'alexander-mcqueen-oversized-light-gold-w', 'gucci-tennis-1977-gg-canvas', 'off-white-vulc-low-black-blue-arrow', 'alexander-mcqueen-oversized-black-gold', 'off-white-off-court-30-white-w', 'balenciaga-speed-graffiti-beige-black-w', 'balenciaga-pool-slide-beige-w', 'off-white-odsy-1000-beige', 'common-projects-original-achilles-navy', 'lv-ollie-yellow-ss21', 'lanvin-leather-curb-white-ivory', 'louisvuitton-run-away-sneaker-monogram-denim', 'louis-vuitton-run-away-triple-monogram', 'balenciaga-triple-s-navy-w', 'off-white-vulc-low-black-white-sole-w', 'off-white-vulc-low-black-green-ss21', 'lv-trainer-green-white', 'louis-vuitton-run-away-monogram-w', 'lv-ollie-blue-distorted-damier-ss21', 'off-white-vulc-low-white-blue-ss21', 'off-white-out-of-office-black-white', 'louis-vuitton-don-kanye-cream', 'gucci-ace-x-disney-huey-dewey-louie-print-w', 'balenciaga-speed-graffiti-black-pink-w', 'dior-b25-runner-navy-oblique-suede', 'gucci-slide-interlocking-g-wool-light-brown-w', 'balenciaga-track-clear-sole-black', 'balenciaga-track-yellow', 'balenciaga-track-burgundy', 'balenciaga-track-blue-pearl-w', 'louis-vuitton-tattoo-sneaker-boot-damier-cobalt', 'off-white-30-low-white-blue', 'common-projects-original-achilles-blush-w', 'off-white-vulc-low-white-violet-ss20', 'off-white-industrial-slider-black-ss20', 'alexander-mcqueen-oversized-red', 'off-white-vulc-low-white-black-ss20', 'gucci-rython-ny-yankees', 'off-white-low-vulc-black-orange', 'balenciaga-speed-graffiti-trainers-black', 'balenciaga-triple-s-white-black-red', 'off-white-vulc-low-updated-stripes-black-w', 'balenciaga-track-black-grey-red', 'balenciaga-speed-trainer-black-2019', 'off-white-industrial-strap-slides-black', 'gucci-rhyton-ny-yankees-blue', 'balenciaga-track-grey', 'balenciaga-speed-trainer-white-black-2019-w', 'balenciaga-speed-knit-high-black-2019', 'balenciaga-track2-black-green', 'balenciaga-track-runners-blue', 'balenciaga-triple-s-clear-sole-grey', 'dior-b23-low-top-logo-oblique', 'balenciaga-triple-s-white-black', 'off-white-vulc-low-stripe-violet-ss20', 'balenciaga-track-pink-blue-w', 'balenciaga-track-trainers-green-blue', 'balenciaga-track2-black-grey-red', 'balenciaga-track-trainers-black-bordeaux', 'balenciaga-track-orange-blue', 'off-white-vulc-low-white-2018', 'off-white-low-vulc-yellow-ss20', 'off-white-odsy-1000-red', 'dior-b22-white-blue', 'balenciaga-track-blue-grey-red', 'balenciaga-speed-trainer-black-red', 'off-white-arrows-patch-white', 'off-white-odsy-1000-black-ss20', 'balenciaga-speed-20-black-w', 'off-white-spray-stripes-slider-black-white-ss20', 'balenciaga-speed-sneaker-black-white-sole-w', 'off-white-vulc-low-black-leather-fw19', 'gucci-flashtrek-sega-black-leather', 'versace-chain-reaction-black', 'balenciaga-speed-graffiti-trainers-black-white', 'off-white-industrial-slides-medium-grey', 'balenciaga-track-black-glow-in-the-dark', 'balenciaga-track-trainer-pink-w', 'off-white-vulc-low-white-ss20', 'off-white-odsy-1000-white-orange-ss20', 'gucci-ace-gg-supreme-red', 'gucci-rhyton-logo-ivory', 'dior-b22-white-silver', 'off-white-logo-typographic-flip-flop-black-ss20', 'gucci-flashtrek-sega-green', 'versace-chain-reaction-twill', 'off-white-low-vulc-white-red-aw20', 'gucci-rython-brick-red', 'balenciaga-speed-trainer-nior', 'balenciaga-triple-s-white-2019-w', 'dior-b22-violet-white', 'balenciaga-triple-s-navy', 'gucci-slide-gg-supreme-tigers', 'balenciaga-arena-high-black-leather', 'off-white-odsy-1000-beige-w', 'dior-b22-yellow-red', 'dior-b22-blue-black', 'balenciaga-speed-trainer-black-2019-w', 'dior-b24-oblique-cannage-motif-white', 'off-white-motowrap-black', 'alexander-mcqueen-oversized-beige', 'arrow-canvas-mid-top-black', 'off-white-off-sliders-black-fw19', 'chanel-low-top-trainer-cc-white-navy-w', 'prada-cloudbust-thunder-knit-black', 'b22-blue-yellow', 'balenciaga-track2-blue-grey', 'off-white-vulc-low-black-white-ss20', 'dior-b22-black-red', 'balenciaga-track2-black-red-grey', 'off-white-low-vulc-white-aw20', 'gucci-ace-supreme-bees', 'off-white-odsy-1000-blue-yellow-ss20', 'balenciaga-triple-s-pink-w', 'versace-chain-reaction-white-mesh-rubber-suede', 'balenciaga-pool-slide-black-white', 'off-white-vulc-low-canvas-white-violet-ss20-w', 'dior-b23-high-top-daniel-arsham-light-blue', 'balenciaga-speed-trainer-black-pink-clear-sole-w', 'dior-b23-high-top-blue-oblique', 'balenciaga-triple-s-black-yellow-fluo', 'balenciaga-triple-s-red-clear-sole', 'off-white-vulc-low-black-yellow-green', 'dior-alpha-sandal-oblique', 'alexander-mcqueen-oversized-black-white-sole-w', 'versace-chain-reaction-2-fluo-barocco', 'balenciaga-speed-clearsole-red', 'balenciaga-track-trainer-white-w', 'off-white-odsy-1000-light-blue-fw19', 'off-white-odsy-1000-black-purple-aw20', 'gucci-logo-slide-pink-rubber', 'balenciaga-track-black-w', 'balenciaga-triple-s-crystal-clear-sole-w', 'dior-b23-low-top-oblique', 'balenciaga-track-2-black-yellow-blue', 'off-white-odsy-2000-multicolor-aw20', 'versace-chain-reaction-red-cheeta', 'balenciaga-speed-trainer-rose-hortensia-w', 'balenciaga-speed-trainer-logo-print-black-white', 'chanel-low-top-trainer-cc-triple-white', 'off-white-off-court-3-high-sharpie-distressed', 'off-white-odsy-1000-blue-red-fw19', 'dior-b22-pale-pink-grey', 'balenciaga-speed-20-beige-w', 'gucci-slide-gg-blue', 'balenciaga-triple-s-clear-sole-navy', 'gucci-matelasse-slide-black', 'common-projects-original-achilles-black', 'balenciaga-triple-s-split-black-grey', 'balenciaga-arena-high-white', 'gucci-ace-embroidered', 'chanel-low-top-trainer-cc-triple-black-suede', 'gucci-rython-beige-ebony', 'balenciaga-track2-beige-blue-red-w', 'balenciaga-triple-s-split-white-light-grey-yellow', 'alexander-mcqueen-oversized-red-reflective', 'balenciaga-triple-s-black-blue', 'balenciaga-triple-s-grey-red', 'balenciaga-track2-pastel-w', 'dior-b22-black-pink', 'alexander-mcqueen-oversized-teal', 'balenciaga-speed-trainer-white-2019-w', 'off-white-off-court-2-low-sharpie-distressed', 'balenciaga-speed-graffiti-trainers-white-black-logo-w', 'balenciaga-speed-20-gray', 'off-white-spray-stripes-slides-black', 'balenciaga-speed-graffiti-trainers-black-white-logo-w', 'balenciaga-speed-trainer-pink-sole-w', 'versace-chain-reaction-chunky-medallion', 'off-white-odsy-1000-black-w', 'balenciaga-triple-s-grey-2018-reissue', 'alexander-mcqueen-oversized-black-crocodile', 'balenciaga-speed-trainer-black-white-2019-w', 'off-white-low-vulc-grey-tie-dye', 'versace-baroque-chain-reaction-bluette-gold', 'balenciaga-track2-blue-grey-w', 'dior-b23-low-top-daniel-asham-newspaper', 'alexander-mcqueen-oversized-orange', 'prada-cloudbust-neon-green', 'alexander-mcqueen-oversized-white-suede', 'balenciaga-triple-s-white-grey-turquoise', 'versace-chain-reaction-blue-mesh-rubber-suede', 'balenciaga-track2-pink-green-w', 'off-white-low-vulc-khaki-red', 'off-white-off-sliders-black-ss20', 'off-white-spray-stripes-slider-black-white-fw19', 'off-white-odsy-1000-violet-fuchsia-w-ss20', 'common-projects-original-achilles-grey', 'gucci-rython-la-angels', 'balenciaga-triple-s-beige', 'dior-b23-high-top-red-blue-oblique', 'gucci-rhyton-mouth', 'gucci-ace-signature', 'balenciaga-track-orange-grey', 'gucci-matelasse-slide-red', 'off-white-20-green-spray-fw19', 'versace-chain-reaction-2-chainz-spotted', 'fear-of-god-101-lace-up-logoed-print', 'dior-b22-white-pink', 'alexander-mcqueen-oversized-white-black-red-outline', 'alexander-mcqueen-oversized-clear-sole-black', 'balenciaga-speed-trainer-lace-up-black', 'off-white-vulc-low-checkered-black-white', 'off-white-odsy-1000-green-fw19', 'off-white-spray-stripes-slides-orange', 'balenciaga-triple-s-triple-black-2018-reissue-nondistressed-black-w', 'balenciaga-track2-yellow-purple', 'louis-vuitton-trainer-sneaker-transparent', 'dior-b23-high-top-brown-leopard', 'balenciaga-track-yellow-grey-w', 'balenciaga-speed-trainer-red', 'balenciaga-speed-trainer-black-white-volt', 'off-white-industrial-strap-sandals-black', 'balenciaga-speed-recycled-black', 'balenciaga-triple-s-white-blue-w', 'off-white-off-court-low-top-purple-green', 'gucci-rython-gucci-band', 'gucci-gg-slide-rubber-red', 'alexander-mcqueen-oversized-light-gold', 'dior-cd1-tye-dye', 'dior-b24-pale-pink', 'balenciaga-speed-trainer-blue', 'dior-b23-high-top-flowers-oblique', 'off-white-vulcanized-low-orange', 'balenciaga-track-trainer-red', 'chanel-low-top-trainer-cc-dark-grey', 'balenciaga-track-purple-white-grey', 'alexander-mcqueen-oversized-iridescent', 'balenciaga-speed-pink-w', 'off-white-arrows-vulc-low-stripe-violet-ss20-w', 'gucci-ace-gg-high-top-beige-ebony', 'burberry-cotton-suede-vintage-check', 'louis-vuitton-trainer-ebene-multicolor', 'balenciaga-triple-s-beige-green-yellow-2018-reissue', 'balenciaga-triple-s-black-clear-sole-w', 'off-white-vulc-low-black', 'double-arrow-sliders-camo', 'dior-b01-daniel-arsham-logo', 'off-white-off-court-30-white-black', 'off-white-odsy-1000-transparent-fuchsia', 'balenciaga-speed-trainer-black-white-neon-2019-w', 'alexander-mcqueen-oversized-runner-black-silver', 'louis-vuitton-trainer-ebene', 'gucci-ace-blue', 'balenciaga-triple-s-cool-blue-grey', 'dior-b23-high-top-multicolor-oblique', 'dior-walkndior-oblique-knit-w', 'balenciaga-triple-s-allover-logo-gray', 'balenciaga-triple-s-white-w-2018', 'dior-b22-reflective-black', 'balenciaga-triple-s-green-black', 'balenciaga-triple-s-black-yellow-white', 'gucci-ace-classic-w', 'balenciaga-triple-s-white-w', 'off-white-low-vulc-black-white', 'gucci-flashtrek-sega-white', 'dior-b23-high-red', 'dior-b22-blue-black-gray', 'off-white-slides-black-ss18', 'gucci-flashtrek-brown-w', 'balenciaga-triple-s-light-blue-w', 'burberry-vintage-check-cotton-beige-w', 'dior-b22-blue-white-grey', 'balenciaga-track2-beige-metallic-w', 'balenciaga-speed-trainer-cristal-w', 'balenciaga-track2-white-fluo-yellow', 'dior-b23-red-oblique', 'dior-b23-blue-oblique', 'balenciaga-speed-trainer-clearsole-yellow-fluo', 'balenciaga-speed-trainer-black-red-2019-w', 'gucci-ace-gg-surpreme-navy', 'versace-chain-reaction-baroque-print', 'balenciaga-speed-beige-w', 'balenciaga-triple-s-vanille-w', 'gucci-falacer-blue-red', 'balenciaga-track-screen-blue', 'balenciaga-speed-trainer-burgundy', 'balenciaga-speed-trainer-black-white-w', 'gucci-matelasse-slide-white', 'balenciaga-pool-slide-blue-ocean', 'gucci-persuit-slides-navy-black', 'off-white-vulc-low-red', 'off-white-odsy-1000-violet', 'balenciaga-speed-trainer-dark-navy', 'gucci-rython-brick-red-w', 'louis-vuitton-trainer-black', 'dior-walkndior-oblique-navy-canvas-w', 'off-white-logo-sliders-white-blue-aw20', 'dior-b22-pink-blue', 'off-white-odsy-1000-multicolor-w-ss20', 'balenciaga-triple-s-neon-yellow-2018-reissue', 'balenciaga-triple-s-white-black-crimson', 'balenciaga-pool-slide-black-fluo-green', 'alexander-mcqueen-oversized-worker-blue-sole', 'balenciaga-speed-trainers-mid-pink-white-w', 'balenciaga-track-dark-green', 'off-white-vulc-low-white', 'off-white-off-court-30-beige-fw19', 'balenciaga-triple-s-triple-black-2018-reissue', 'dior-b27-low-gray-white', 'balenciaga-track-white-grey-red', 'louis-vuitton-sport-supreme-white-monogram', 'balenciaga-triple-s-curry', 'balenciaga-track-2-black-burgundy']\n"
     ]
    }
   ],
   "source": [
    "print(unique_shoes)"
   ]
  },
  {
   "cell_type": "code",
   "execution_count": 339,
   "metadata": {},
   "outputs": [
    {
     "data": {
      "text/plain": [
       "494"
      ]
     },
     "execution_count": 339,
     "metadata": {},
     "output_type": "execute_result"
    }
   ],
   "source": [
    "len(unique_shoes)"
   ]
  },
  {
   "cell_type": "code",
   "execution_count": 340,
   "metadata": {},
   "outputs": [],
   "source": [
    "counter=collections.Counter(shoe_link)\n",
    "# adidas_unique_shoes = list(counter.keys())\n",
    "# jordan_unique_shoes = list(counter.keys())\n",
    "# nike_unique_shoes = list(counter.keys())\n",
    "# other_unique_shoes = list(counter.keys())\n",
    "luxury_unique_shoes = list(counter.keys())"
   ]
  },
  {
   "cell_type": "code",
   "execution_count": null,
   "metadata": {},
   "outputs": [],
   "source": []
  },
  {
   "cell_type": "code",
   "execution_count": 341,
   "metadata": {},
   "outputs": [],
   "source": [
    "# save as csv to loop through later in requests\n",
    "# (make sure to change the name you are saving the csv to)\n",
    "with open('luxury_links.csv', 'w', newline='\\n') as csvfile:\n",
    "    csvwriter = csv.writer(csvfile)\n",
    "#     csvwriter.writerow(adidas_unique_shoes)\n",
    "#     csvwriter = csvwriter.writerow(jordan_unique_shoes)\n",
    "#     csvwriter = csvwriter.writerow(nike_unique_shoes)\n",
    "#     csvwriter = csvwriter.writerow(other_unique_shoes)\n",
    "    csvwriter = csvwriter.writerow(luxury_unique_shoes)"
   ]
  },
  {
   "cell_type": "code",
   "execution_count": null,
   "metadata": {},
   "outputs": [],
   "source": []
  }
 ],
 "metadata": {
  "kernelspec": {
   "display_name": "Python 3",
   "language": "python",
   "name": "python3"
  },
  "language_info": {
   "codemirror_mode": {
    "name": "ipython",
    "version": 3
   },
   "file_extension": ".py",
   "mimetype": "text/x-python",
   "name": "python",
   "nbconvert_exporter": "python",
   "pygments_lexer": "ipython3",
   "version": "3.8.5"
  }
 },
 "nbformat": 4,
 "nbformat_minor": 4
}
