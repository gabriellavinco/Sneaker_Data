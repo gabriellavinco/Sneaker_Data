{
 "cells": [
  {
   "cell_type": "code",
   "execution_count": 186,
   "metadata": {},
   "outputs": [],
   "source": [
    "import requests\n",
    "from datetime import datetime\n",
    "import pandas as pd\n",
    "import glob\n",
    "from urllib.request import Request, urlopen\n",
    "import time"
   ]
  },
  {
   "cell_type": "code",
   "execution_count": 234,
   "metadata": {},
   "outputs": [],
   "source": [
    "# import all the csvs with the url additions\n",
    "path = r'/Users/gabbyvinco/Desktop/sneaker_csv'\n",
    "all_files = glob.glob(path + \"/*.csv\")\n",
    "\n",
    "li = []\n",
    "\n",
    "for filename in all_files:\n",
    "    df = pd.read_csv(filename, index_col=None, header=0)\n",
    "    li.append(df)\n",
    "    \n",
    "frame = pd.concat(li, ignore_index=True)    "
   ]
  },
  {
   "cell_type": "code",
   "execution_count": 235,
   "metadata": {},
   "outputs": [],
   "source": [
    "# open a csv that has all the previous scrapes info to append to because it was cut off before by a 403 error\n",
    "second_path = r'/Users/gabbyvinco/Desktop/sneakers_df.csv'\n",
    "round2 = pd.read_csv(second_path, index_col=None, header=0)"
   ]
  },
  {
   "cell_type": "code",
   "execution_count": 236,
   "metadata": {},
   "outputs": [],
   "source": [
    "# take transpose of data frame\n",
    "frame = frame.T\n",
    "# set an index so the column with the keys is no longer the index\n",
    "frame = frame.reset_index()\n",
    "# rename column to 'urlKeys' and rename dataframe\n",
    "dataframe = frame.rename(columns={'index': 'urlKeys'})"
   ]
  },
  {
   "cell_type": "code",
   "execution_count": 237,
   "metadata": {},
   "outputs": [],
   "source": [
    "# taking the urlKeys and inserting them in to th complete url with parameters\n",
    "full_urls = []\n",
    "\n",
    "for value in dataframe['urlKeys']:\n",
    "    full = 'https://stockx.com/api/products/'+value+'?includes=market,360&currency=EUR&country=IT'\n",
    "    #'https://stockx.com/api/products/'+value+\n",
    "        # this part is determining which file/shoe you want to work with \n",
    "    #'?includes=market,360&currency=EUR&country=IT' \n",
    "        # this part is basically a string that is being passed down to your web browser to the web server\n",
    "    # with this url we can send a GET request and fetch the information that is listed in the Inspect>Network>Preview\n",
    "    full_urls.append(full)\n",
    "    \n",
    "# create a new column with the full urls    \n",
    "dataframe['urlFull'] = full_urls"
   ]
  },
  {
   "cell_type": "code",
   "execution_count": 238,
   "metadata": {},
   "outputs": [
    {
     "data": {
      "text/plain": [
       "2471"
      ]
     },
     "execution_count": 238,
     "metadata": {},
     "output_type": "execute_result"
    }
   ],
   "source": [
    "len(full_urls)"
   ]
  },
  {
   "cell_type": "code",
   "execution_count": 239,
   "metadata": {},
   "outputs": [
    {
     "data": {
      "text/plain": [
       "93"
      ]
     },
     "execution_count": 239,
     "metadata": {},
     "output_type": "execute_result"
    }
   ],
   "source": [
    "# another list to start where the full_url list got cut off with a 403 error\n",
    "cont_urls = full_urls[2378:]\n",
    "len(cont_urls)"
   ]
  },
  {
   "cell_type": "code",
   "execution_count": 240,
   "metadata": {},
   "outputs": [],
   "source": [
    "# del cont_urls[4:57]"
   ]
  },
  {
   "cell_type": "code",
   "execution_count": 241,
   "metadata": {},
   "outputs": [],
   "source": [
    "# del cont_urls[4]"
   ]
  },
  {
   "cell_type": "code",
   "execution_count": 242,
   "metadata": {},
   "outputs": [],
   "source": [
    "# cont_urls"
   ]
  },
  {
   "cell_type": "code",
   "execution_count": 243,
   "metadata": {},
   "outputs": [],
   "source": [
    "# create a new list to hold the sneakers and all their information\n",
    "info = []"
   ]
  },
  {
   "cell_type": "code",
   "execution_count": 244,
   "metadata": {},
   "outputs": [],
   "source": [
    "# create a function that loops through the full url list, extracts the variables that we want\n",
    "# and prints them out in a neat format\n",
    "\n",
    "def get_shoe_info(url_list):\n",
    "    for url in url_list:\n",
    "        headers = {\n",
    "            \"accept-encoding\": \"gzip, deflate, br\",\n",
    "            \"sec-fetch-mode\": \"cors\",\n",
    "            \"sec=fetch-site\": \"same-origin\",\n",
    "            \"user-agent\": \"Mozilla/5.0 (Windows NT 10.0; Win64; x64) AppleWebKit/537.36 (KHTML, like Gecko) Chrome/90.0.4430.93 Safari/537.36\",\n",
    "            \"x-requested-with\": \"XMLHttpRequest\"\n",
    "        }\n",
    "        response = requests.get(url, headers=headers, timeout=10)\n",
    "        response.raise_for_status()\n",
    "        product = response.json()[\"Product\"]\n",
    "        try:\n",
    "            id_num = product[\"id\"]\n",
    "        except:\n",
    "            print(\"no id\")\n",
    "            id_num = 0\n",
    "        try:\n",
    "            brand = product[\"brand\"]\n",
    "        except:\n",
    "            print(\"no brand\")\n",
    "            brand = 0\n",
    "        try:\n",
    "            colorway = product[\"colorway\"]\n",
    "        except:\n",
    "            print(\"no colorway\")\n",
    "            colorway = 0\n",
    "        try:    \n",
    "            release_date = product[\"releaseDate\"]\n",
    "        except:\n",
    "            print(\"no release date\")\n",
    "            release_date = 0\n",
    "        try:\n",
    "            retail_price = product[\"retailPrice\"]\n",
    "        except:\n",
    "            print(\"no retail price\")\n",
    "            retail_price = 0\n",
    "        try:\n",
    "            shoe_name = product[\"shoe\"]\n",
    "        except:\n",
    "            print(\"no shoe name\")\n",
    "            shoe_name = 0\n",
    "        try:\n",
    "            volatility = product[\"market\"][\"volatility\"]\n",
    "        except:\n",
    "            print(\"no volatility\")\n",
    "            volatility = 0\n",
    "        try:\n",
    "            change_percentage = product[\"market\"][\"changePercentage\"]\n",
    "        except:\n",
    "            print(\"no change percentage\")\n",
    "            change_percentage = 0\n",
    "        try:\n",
    "            gender = product[\"gender\"]\n",
    "        except:\n",
    "            print(\"no gender\")\n",
    "            gender = 0\n",
    "\n",
    "        info.append([id_num,\n",
    "                     brand,\n",
    "                     colorway,\n",
    "                     release_date,\n",
    "                     retail_price,\n",
    "                     shoe_name,\n",
    "                     volatility,\n",
    "                     change_percentage,\n",
    "                     gender])\n",
    "\n",
    "        print(\"shoe info added\")\n",
    "        time.sleep(5)\n",
    "\n",
    "\n",
    "#             print(f'ID: {id_num}\\n'\n",
    "#               f'Brand: {brand}\\n'\n",
    "#               f'Colorway: {colorway}\\n'\n",
    "#               f'Release Date: {release_date}\\n'\n",
    "#               f'Retail Price: {retail_price}\\n'\n",
    "#               f'Shoe Name: {shoe_name}\\n'\n",
    "#               f'Volatility: {volatility}\\n'\n",
    "#               f'Change Percentage: {change_percentage}\\n'\n",
    "#               f'Gender: {gender}')\n",
    "    #         print(p)\n",
    "    return 0\n",
    "    "
   ]
  },
  {
   "cell_type": "code",
   "execution_count": 245,
   "metadata": {},
   "outputs": [
    {
     "name": "stdout",
     "output_type": "stream",
     "text": [
      "shoe info added\n",
      "shoe info added\n",
      "shoe info added\n",
      "shoe info added\n",
      "shoe info added\n",
      "no release date\n",
      "shoe info added\n",
      "shoe info added\n",
      "shoe info added\n",
      "shoe info added\n",
      "shoe info added\n",
      "shoe info added\n",
      "shoe info added\n",
      "shoe info added\n",
      "shoe info added\n",
      "no release date\n",
      "no retail price\n",
      "shoe info added\n",
      "shoe info added\n",
      "shoe info added\n",
      "shoe info added\n",
      "shoe info added\n",
      "shoe info added\n",
      "shoe info added\n",
      "shoe info added\n",
      "shoe info added\n",
      "shoe info added\n",
      "shoe info added\n",
      "no release date\n",
      "shoe info added\n",
      "shoe info added\n",
      "shoe info added\n",
      "no release date\n",
      "shoe info added\n",
      "shoe info added\n",
      "shoe info added\n",
      "shoe info added\n",
      "no release date\n",
      "shoe info added\n",
      "shoe info added\n",
      "shoe info added\n",
      "no retail price\n",
      "shoe info added\n",
      "shoe info added\n",
      "no release date\n",
      "no retail price\n",
      "shoe info added\n",
      "no release date\n",
      "shoe info added\n",
      "shoe info added\n",
      "shoe info added\n",
      "shoe info added\n",
      "no retail price\n",
      "shoe info added\n",
      "no retail price\n",
      "shoe info added\n",
      "no release date\n",
      "shoe info added\n",
      "shoe info added\n",
      "no release date\n",
      "shoe info added\n",
      "shoe info added\n",
      "shoe info added\n",
      "shoe info added\n",
      "shoe info added\n",
      "shoe info added\n",
      "shoe info added\n",
      "shoe info added\n",
      "shoe info added\n",
      "shoe info added\n",
      "shoe info added\n",
      "shoe info added\n",
      "shoe info added\n",
      "shoe info added\n",
      "shoe info added\n",
      "shoe info added\n",
      "shoe info added\n",
      "shoe info added\n",
      "shoe info added\n",
      "shoe info added\n",
      "shoe info added\n",
      "shoe info added\n",
      "no release date\n",
      "shoe info added\n",
      "shoe info added\n",
      "shoe info added\n",
      "shoe info added\n",
      "shoe info added\n",
      "no release date\n",
      "shoe info added\n",
      "shoe info added\n",
      "shoe info added\n",
      "shoe info added\n",
      "shoe info added\n",
      "shoe info added\n",
      "shoe info added\n",
      "shoe info added\n",
      "shoe info added\n",
      "shoe info added\n",
      "shoe info added\n",
      "shoe info added\n",
      "shoe info added\n",
      "shoe info added\n",
      "shoe info added\n",
      "shoe info added\n",
      "shoe info added\n",
      "no release date\n",
      "shoe info added\n",
      "no release date\n",
      "shoe info added\n",
      "shoe info added\n"
     ]
    },
    {
     "ename": "SystemExit",
     "evalue": "0",
     "output_type": "error",
     "traceback": [
      "An exception has occurred, use %tb to see the full traceback.\n",
      "\u001b[0;31mSystemExit\u001b[0m\u001b[0;31m:\u001b[0m 0\n"
     ]
    },
    {
     "name": "stderr",
     "output_type": "stream",
     "text": [
      "/Users/gabbyvinco/opt/anaconda3/lib/python3.8/site-packages/IPython/core/interactiveshell.py:3426: UserWarning: To exit: use 'exit', 'quit', or Ctrl-D.\n",
      "  warn(\"To exit: use 'exit', 'quit', or Ctrl-D.\", stacklevel=1)\n"
     ]
    }
   ],
   "source": [
    "#  brief explanation of __name__ == \"__main__\"\n",
    "# the global variable = __name__ and the entry point = __main__ (or the name that you import the module by)\n",
    "# so the code below this if statement will only run if the module == entry point to your program\n",
    "# it allows the code in the module to be importable by other modules without executing the code beneath the block on import\n",
    "\n",
    "if __name__ == \"__main__\":\n",
    "    import sys\n",
    "    sys.exit(get_shoe_info(cont_urls))"
   ]
  },
  {
   "cell_type": "code",
   "execution_count": 246,
   "metadata": {},
   "outputs": [
    {
     "data": {
      "text/plain": [
       "93"
      ]
     },
     "execution_count": 246,
     "metadata": {},
     "output_type": "execute_result"
    }
   ],
   "source": [
    "len(info)"
   ]
  },
  {
   "cell_type": "code",
   "execution_count": 216,
   "metadata": {},
   "outputs": [],
   "source": [
    "#round2.head(200)"
   ]
  },
  {
   "cell_type": "code",
   "execution_count": 247,
   "metadata": {},
   "outputs": [],
   "source": [
    "# add info into sneakers_df\n",
    "# sneaker_df = pd.DataFrame(info, columns = [\"ID\",\"Brand\", \"Colorway\",\"ReleaseDate\",\"RetailPrice\",\"Name\",\"Volatility\",\"ChangePercentage\",\"Gender\"])\n",
    "\n",
    "round2 = round2.append(info)"
   ]
  },
  {
   "cell_type": "code",
   "execution_count": 248,
   "metadata": {},
   "outputs": [],
   "source": [
    "round2.to_csv (r'/Users/gabbyvinco/Desktop/sneakers_df.csv', index = False, header=True)"
   ]
  },
  {
   "cell_type": "code",
   "execution_count": null,
   "metadata": {},
   "outputs": [],
   "source": []
  },
  {
   "cell_type": "code",
   "execution_count": null,
   "metadata": {},
   "outputs": [],
   "source": []
  },
  {
   "cell_type": "code",
   "execution_count": null,
   "metadata": {},
   "outputs": [],
   "source": []
  },
  {
   "cell_type": "code",
   "execution_count": null,
   "metadata": {},
   "outputs": [],
   "source": []
  },
  {
   "cell_type": "code",
   "execution_count": 5,
   "metadata": {},
   "outputs": [],
   "source": [
    "def get_price_history():\n",
    "\n",
    "    url = \"https://stockx.com/api/products/f27be8fd-2e05-4caa-a70e-fe787aa6283e/chart\"\n",
    "\n",
    "    params = {\n",
    "        \"start_date\": \"all\",\n",
    "        \"end_date\": \"2021-05-01\",\n",
    "        \"intervals\": \"100\",\n",
    "        \"format\": \"highstock\",\n",
    "        \"currency\": \"EUR\",\n",
    "        \"country\": \"IT\"\n",
    "    }\n",
    "\n",
    "    headers = {\n",
    "        \"accept-encoding\": \"gzip, deflate\",\n",
    "        \"sec-fetch-mode\": \"cors\",\n",
    "        \"sec-fetch-site\": \"same-origin\",\n",
    "        \"user-agent\": \"Mozilla/5.0 (Windows NT 10.0; Win64; x64) AppleWebKit/537.36 (KHTML, like Gecko) Chrome/90.0.4430.93 Safari/537.36\",\n",
    "        \"x-requested-with\": \"XMLHttpRequest\"\n",
    "    }\n",
    "\n",
    "    response = requests.get(url, params=params, headers=headers)\n",
    "    response.raise_for_status()\n",
    "\n",
    "    for timestamp, price in response.json()[\"series\"][0][\"data\"]:\n",
    "        date = datetime.utcfromtimestamp(int(timestamp) // 1000)\n",
    "        yield date, price\n",
    "    \n",
    "    "
   ]
  },
  {
   "cell_type": "code",
   "execution_count": 6,
   "metadata": {},
   "outputs": [],
   "source": [
    "def main():\n",
    "\n",
    "    for date, price in get_price_history():\n",
    "        print(f\"[{date}]: €{price}\")\n",
    "    \n",
    "    return 0"
   ]
  },
  {
   "cell_type": "code",
   "execution_count": 7,
   "metadata": {},
   "outputs": [
    {
     "name": "stdout",
     "output_type": "stream",
     "text": [
      "[2021-04-01 13:36:27]: €358\n",
      "[2021-04-01 20:50:46]: €358\n",
      "[2021-04-02 04:05:05]: €358\n",
      "[2021-04-02 11:19:25]: €401\n",
      "[2021-04-02 18:33:44]: €401\n",
      "[2021-04-03 01:48:04]: €404\n",
      "[2021-04-03 09:02:23]: €445\n",
      "[2021-04-03 16:16:42]: €411\n",
      "[2021-04-03 23:31:02]: €422\n",
      "[2021-04-04 06:45:21]: €422\n",
      "[2021-04-04 13:59:41]: €422\n",
      "[2021-04-04 21:14:00]: €414\n",
      "[2021-04-05 04:28:19]: €414\n",
      "[2021-04-05 11:42:39]: €462\n",
      "[2021-04-05 18:56:58]: €500\n",
      "[2021-04-06 02:11:18]: €500\n",
      "[2021-04-06 09:25:37]: €500\n",
      "[2021-04-06 16:39:56]: €401\n",
      "[2021-04-06 23:54:16]: €450\n",
      "[2021-04-07 07:08:35]: €351\n",
      "[2021-04-07 14:22:55]: €335\n",
      "[2021-04-07 21:37:14]: €379\n",
      "[2021-04-08 04:51:33]: €338\n",
      "[2021-04-08 12:05:53]: €322\n",
      "[2021-04-08 19:20:12]: €406\n",
      "[2021-04-09 02:34:32]: €425\n",
      "[2021-04-09 09:48:51]: €381\n",
      "[2021-04-09 17:03:10]: €372\n",
      "[2021-04-10 00:17:30]: €342\n",
      "[2021-04-10 07:31:49]: €326\n",
      "[2021-04-10 14:46:09]: €386\n",
      "[2021-04-10 22:00:28]: €420\n",
      "[2021-04-11 05:14:47]: €420\n",
      "[2021-04-11 12:29:07]: €382\n",
      "[2021-04-11 19:43:26]: €392\n",
      "[2021-04-12 02:57:46]: €375\n",
      "[2021-04-12 10:12:05]: €357\n",
      "[2021-04-12 17:26:24]: €375\n",
      "[2021-04-13 00:40:44]: €430\n",
      "[2021-04-13 07:55:03]: €356\n",
      "[2021-04-13 15:09:23]: €372\n",
      "[2021-04-13 22:23:42]: €408\n",
      "[2021-04-14 05:38:01]: €433\n",
      "[2021-04-14 12:52:21]: €435\n",
      "[2021-04-14 20:06:40]: €392\n",
      "[2021-04-15 03:21:00]: €436\n",
      "[2021-04-15 10:35:19]: €414\n",
      "[2021-04-15 17:49:38]: €393\n",
      "[2021-04-16 01:03:58]: €391\n",
      "[2021-04-16 08:18:17]: €367\n",
      "[2021-04-16 15:32:37]: €427\n",
      "[2021-04-16 22:46:56]: €474\n",
      "[2021-04-17 06:01:15]: €436\n",
      "[2021-04-17 13:15:35]: €430\n",
      "[2021-04-17 20:29:54]: €428\n",
      "[2021-04-18 03:44:14]: €428\n",
      "[2021-04-18 10:58:33]: €374\n",
      "[2021-04-18 18:12:52]: €475\n",
      "[2021-04-19 01:27:12]: €458\n",
      "[2021-04-19 08:41:31]: €431\n",
      "[2021-04-19 15:55:51]: €415\n",
      "[2021-04-19 23:10:10]: €437\n",
      "[2021-04-20 06:24:29]: €368\n",
      "[2021-04-20 13:38:49]: €431\n",
      "[2021-04-20 20:53:08]: €404\n",
      "[2021-04-21 04:07:28]: €420\n",
      "[2021-04-21 11:21:47]: €399\n",
      "[2021-04-21 18:36:06]: €395\n",
      "[2021-04-22 01:50:26]: €387\n",
      "[2021-04-22 09:04:45]: €380\n",
      "[2021-04-22 16:19:05]: €361\n",
      "[2021-04-22 23:33:24]: €354\n",
      "[2021-04-23 06:47:43]: €339\n",
      "[2021-04-23 14:02:03]: €340\n",
      "[2021-04-23 21:16:22]: €340\n",
      "[2021-04-24 04:30:42]: €315\n",
      "[2021-04-24 11:45:01]: €319\n",
      "[2021-04-24 18:59:20]: €330\n",
      "[2021-04-25 02:13:40]: €331\n",
      "[2021-04-25 09:27:59]: €334\n",
      "[2021-04-25 16:42:19]: €327\n",
      "[2021-04-25 23:56:38]: €320\n",
      "[2021-04-26 07:10:57]: €312\n",
      "[2021-04-26 14:25:17]: €309\n",
      "[2021-04-26 21:39:36]: €307\n",
      "[2021-04-27 04:53:56]: €302\n",
      "[2021-04-27 12:08:15]: €297\n",
      "[2021-04-27 19:22:34]: €294\n",
      "[2021-04-28 02:36:54]: €293\n",
      "[2021-04-28 09:51:13]: €289\n",
      "[2021-04-28 17:05:33]: €287\n",
      "[2021-04-29 00:19:52]: €285\n",
      "[2021-04-29 07:34:11]: €283\n",
      "[2021-04-29 14:48:31]: €286\n",
      "[2021-04-29 22:02:50]: €288\n",
      "[2021-04-30 05:17:10]: €285\n",
      "[2021-04-30 12:31:29]: €288\n",
      "[2021-04-30 19:45:48]: €294\n",
      "[2021-05-01 03:00:08]: €291\n",
      "[2021-05-01 10:14:27]: €288\n"
     ]
    },
    {
     "ename": "SystemExit",
     "evalue": "0",
     "output_type": "error",
     "traceback": [
      "An exception has occurred, use %tb to see the full traceback.\n",
      "\u001b[0;31mSystemExit\u001b[0m\u001b[0;31m:\u001b[0m 0\n"
     ]
    },
    {
     "name": "stderr",
     "output_type": "stream",
     "text": [
      "/Users/gabbyvinco/opt/anaconda3/lib/python3.8/site-packages/IPython/core/interactiveshell.py:3426: UserWarning: To exit: use 'exit', 'quit', or Ctrl-D.\n",
      "  warn(\"To exit: use 'exit', 'quit', or Ctrl-D.\", stacklevel=1)\n"
     ]
    }
   ],
   "source": [
    "if __name__ == \"__main__\":\n",
    "    import sys\n",
    "    sys.exit(main())"
   ]
  },
  {
   "cell_type": "code",
   "execution_count": null,
   "metadata": {},
   "outputs": [],
   "source": []
  }
 ],
 "metadata": {
  "kernelspec": {
   "display_name": "Python 3",
   "language": "python",
   "name": "python3"
  },
  "language_info": {
   "codemirror_mode": {
    "name": "ipython",
    "version": 3
   },
   "file_extension": ".py",
   "mimetype": "text/x-python",
   "name": "python",
   "nbconvert_exporter": "python",
   "pygments_lexer": "ipython3",
   "version": "3.8.5"
  }
 },
 "nbformat": 4,
 "nbformat_minor": 4
}
