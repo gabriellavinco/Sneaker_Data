{
 "cells": [
  {
   "cell_type": "code",
   "execution_count": 331,
   "metadata": {},
   "outputs": [],
   "source": [
    "import requests\n",
    "from datetime import datetime\n",
    "import pandas as pd\n",
    "import glob\n",
    "from urllib.request import Request, urlopen\n",
    "import time\n",
    "import random"
   ]
  },
  {
   "cell_type": "code",
   "execution_count": 234,
   "metadata": {},
   "outputs": [],
   "source": [
    "# import all the csvs with the url additions\n",
    "path = r'/Users/gabbyvinco/Desktop/sneaker_csv'\n",
    "all_files = glob.glob(path + \"/*.csv\")\n",
    "\n",
    "li = []\n",
    "\n",
    "for filename in all_files:\n",
    "    df = pd.read_csv(filename, index_col=None, header=0)\n",
    "    li.append(df)\n",
    "    \n",
    "frame = pd.concat(li, ignore_index=True)    "
   ]
  },
  {
   "cell_type": "code",
   "execution_count": 235,
   "metadata": {},
   "outputs": [],
   "source": [
    "# open a csv that has all the previous scrapes info to append to because it was cut off before by a 403 error\n",
    "second_path = r'/Users/gabbyvinco/Desktop/sneakers_df.csv'\n",
    "round2 = pd.read_csv(second_path, index_col=None, header=0)"
   ]
  },
  {
   "cell_type": "code",
   "execution_count": 236,
   "metadata": {},
   "outputs": [],
   "source": [
    "# take transpose of data frame\n",
    "frame = frame.T\n",
    "# set an index so the column with the keys is no longer the index\n",
    "frame = frame.reset_index()\n",
    "# rename column to 'urlKeys' and rename dataframe\n",
    "dataframe = frame.rename(columns={'index': 'urlKeys'})"
   ]
  },
  {
   "cell_type": "code",
   "execution_count": 237,
   "metadata": {},
   "outputs": [],
   "source": [
    "# taking the urlKeys and inserting them in to th complete url with parameters\n",
    "full_urls = []\n",
    "\n",
    "for value in dataframe['urlKeys']:\n",
    "    full = 'https://stockx.com/api/products/'+value+'?includes=market,360&currency=EUR&country=IT'\n",
    "    #'https://stockx.com/api/products/'+value+\n",
    "        # this part is determining which file/shoe you want to work with \n",
    "    #'?includes=market,360&currency=EUR&country=IT' \n",
    "        # this part is basically a string that is being passed down to your web browser to the web server\n",
    "    # with this url we can send a GET request and fetch the information that is listed in the Inspect>Network>Preview\n",
    "    full_urls.append(full)\n",
    "    \n",
    "# create a new column with the full urls    \n",
    "dataframe['urlFull'] = full_urls"
   ]
  },
  {
   "cell_type": "code",
   "execution_count": 238,
   "metadata": {},
   "outputs": [
    {
     "data": {
      "text/plain": [
       "2471"
      ]
     },
     "execution_count": 238,
     "metadata": {},
     "output_type": "execute_result"
    }
   ],
   "source": [
    "len(full_urls)"
   ]
  },
  {
   "cell_type": "code",
   "execution_count": 239,
   "metadata": {},
   "outputs": [
    {
     "data": {
      "text/plain": [
       "93"
      ]
     },
     "execution_count": 239,
     "metadata": {},
     "output_type": "execute_result"
    }
   ],
   "source": [
    "# another list to start where the full_url list got cut off with a 403 error\n",
    "cont_urls = full_urls[2378:]\n",
    "len(cont_urls)"
   ]
  },
  {
   "cell_type": "code",
   "execution_count": 240,
   "metadata": {},
   "outputs": [],
   "source": [
    "# del cont_urls[4:57]"
   ]
  },
  {
   "cell_type": "code",
   "execution_count": 241,
   "metadata": {},
   "outputs": [],
   "source": [
    "# del cont_urls[4]"
   ]
  },
  {
   "cell_type": "code",
   "execution_count": 242,
   "metadata": {},
   "outputs": [],
   "source": [
    "# cont_urls"
   ]
  },
  {
   "cell_type": "code",
   "execution_count": 243,
   "metadata": {},
   "outputs": [],
   "source": [
    "# create a new list to hold the sneakers and all their information\n",
    "info = []"
   ]
  },
  {
   "cell_type": "markdown",
   "metadata": {},
   "source": [
    "# Shoe Info (getting the basic information regarding the shoe)"
   ]
  },
  {
   "cell_type": "code",
   "execution_count": 244,
   "metadata": {},
   "outputs": [],
   "source": [
    "# create a function that loops through the full url list, extracts the variables that we want\n",
    "# and prints them out in a neat format\n",
    "\n",
    "def get_shoe_info(url_list):\n",
    "    for url in url_list:\n",
    "        headers = {\n",
    "            \"accept-encoding\": \"gzip, deflate, br\",\n",
    "            \"sec-fetch-mode\": \"cors\",\n",
    "            \"sec=fetch-site\": \"same-origin\",\n",
    "            \"user-agent\": \"Mozilla/5.0 (Windows NT 10.0; Win64; x64) AppleWebKit/537.36 (KHTML, like Gecko) Chrome/90.0.4430.93 Safari/537.36\",\n",
    "            \"x-requested-with\": \"XMLHttpRequest\"\n",
    "        }\n",
    "        response = requests.get(url, headers=headers, timeout=10)\n",
    "        response.raise_for_status()\n",
    "        product = response.json()[\"Product\"]\n",
    "        try:\n",
    "            id_num = product[\"id\"]\n",
    "        except:\n",
    "            print(\"no id\")\n",
    "            id_num = 0\n",
    "        try:\n",
    "            brand = product[\"brand\"]\n",
    "        except:\n",
    "            print(\"no brand\")\n",
    "            brand = 0\n",
    "        try:\n",
    "            colorway = product[\"colorway\"]\n",
    "        except:\n",
    "            print(\"no colorway\")\n",
    "            colorway = 0\n",
    "        try:    \n",
    "            release_date = product[\"releaseDate\"]\n",
    "        except:\n",
    "            print(\"no release date\")\n",
    "            release_date = 0\n",
    "        try:\n",
    "            retail_price = product[\"retailPrice\"]\n",
    "        except:\n",
    "            print(\"no retail price\")\n",
    "            retail_price = 0\n",
    "        try:\n",
    "            shoe_name = product[\"shoe\"]\n",
    "        except:\n",
    "            print(\"no shoe name\")\n",
    "            shoe_name = 0\n",
    "        try:\n",
    "            volatility = product[\"market\"][\"volatility\"]\n",
    "        except:\n",
    "            print(\"no volatility\")\n",
    "            volatility = 0\n",
    "        try:\n",
    "            change_percentage = product[\"market\"][\"changePercentage\"]\n",
    "        except:\n",
    "            print(\"no change percentage\")\n",
    "            change_percentage = 0\n",
    "        try:\n",
    "            gender = product[\"gender\"]\n",
    "        except:\n",
    "            print(\"no gender\")\n",
    "            gender = 0\n",
    "\n",
    "        info.append([id_num,\n",
    "                     brand,\n",
    "                     colorway,\n",
    "                     release_date,\n",
    "                     retail_price,\n",
    "                     shoe_name,\n",
    "                     volatility,\n",
    "                     change_percentage,\n",
    "                     gender])\n",
    "\n",
    "        print(\"shoe info added\")\n",
    "        time.sleep(5)\n",
    "\n",
    "\n",
    "#             print(f'ID: {id_num}\\n'\n",
    "#               f'Brand: {brand}\\n'\n",
    "#               f'Colorway: {colorway}\\n'\n",
    "#               f'Release Date: {release_date}\\n'\n",
    "#               f'Retail Price: {retail_price}\\n'\n",
    "#               f'Shoe Name: {shoe_name}\\n'\n",
    "#               f'Volatility: {volatility}\\n'\n",
    "#               f'Change Percentage: {change_percentage}\\n'\n",
    "#               f'Gender: {gender}')\n",
    "    #         print(p)\n",
    "    return 0\n",
    "    "
   ]
  },
  {
   "cell_type": "code",
   "execution_count": 245,
   "metadata": {},
   "outputs": [
    {
     "name": "stdout",
     "output_type": "stream",
     "text": [
      "shoe info added\n",
      "shoe info added\n",
      "shoe info added\n",
      "shoe info added\n",
      "shoe info added\n",
      "no release date\n",
      "shoe info added\n",
      "shoe info added\n",
      "shoe info added\n",
      "shoe info added\n",
      "shoe info added\n",
      "shoe info added\n",
      "shoe info added\n",
      "shoe info added\n",
      "shoe info added\n",
      "no release date\n",
      "no retail price\n",
      "shoe info added\n",
      "shoe info added\n",
      "shoe info added\n",
      "shoe info added\n",
      "shoe info added\n",
      "shoe info added\n",
      "shoe info added\n",
      "shoe info added\n",
      "shoe info added\n",
      "shoe info added\n",
      "shoe info added\n",
      "no release date\n",
      "shoe info added\n",
      "shoe info added\n",
      "shoe info added\n",
      "no release date\n",
      "shoe info added\n",
      "shoe info added\n",
      "shoe info added\n",
      "shoe info added\n",
      "no release date\n",
      "shoe info added\n",
      "shoe info added\n",
      "shoe info added\n",
      "no retail price\n",
      "shoe info added\n",
      "shoe info added\n",
      "no release date\n",
      "no retail price\n",
      "shoe info added\n",
      "no release date\n",
      "shoe info added\n",
      "shoe info added\n",
      "shoe info added\n",
      "shoe info added\n",
      "no retail price\n",
      "shoe info added\n",
      "no retail price\n",
      "shoe info added\n",
      "no release date\n",
      "shoe info added\n",
      "shoe info added\n",
      "no release date\n",
      "shoe info added\n",
      "shoe info added\n",
      "shoe info added\n",
      "shoe info added\n",
      "shoe info added\n",
      "shoe info added\n",
      "shoe info added\n",
      "shoe info added\n",
      "shoe info added\n",
      "shoe info added\n",
      "shoe info added\n",
      "shoe info added\n",
      "shoe info added\n",
      "shoe info added\n",
      "shoe info added\n",
      "shoe info added\n",
      "shoe info added\n",
      "shoe info added\n",
      "shoe info added\n",
      "shoe info added\n",
      "shoe info added\n",
      "shoe info added\n",
      "no release date\n",
      "shoe info added\n",
      "shoe info added\n",
      "shoe info added\n",
      "shoe info added\n",
      "shoe info added\n",
      "no release date\n",
      "shoe info added\n",
      "shoe info added\n",
      "shoe info added\n",
      "shoe info added\n",
      "shoe info added\n",
      "shoe info added\n",
      "shoe info added\n",
      "shoe info added\n",
      "shoe info added\n",
      "shoe info added\n",
      "shoe info added\n",
      "shoe info added\n",
      "shoe info added\n",
      "shoe info added\n",
      "shoe info added\n",
      "shoe info added\n",
      "shoe info added\n",
      "no release date\n",
      "shoe info added\n",
      "no release date\n",
      "shoe info added\n",
      "shoe info added\n"
     ]
    },
    {
     "ename": "SystemExit",
     "evalue": "0",
     "output_type": "error",
     "traceback": [
      "An exception has occurred, use %tb to see the full traceback.\n",
      "\u001b[0;31mSystemExit\u001b[0m\u001b[0;31m:\u001b[0m 0\n"
     ]
    },
    {
     "name": "stderr",
     "output_type": "stream",
     "text": [
      "/Users/gabbyvinco/opt/anaconda3/lib/python3.8/site-packages/IPython/core/interactiveshell.py:3426: UserWarning: To exit: use 'exit', 'quit', or Ctrl-D.\n",
      "  warn(\"To exit: use 'exit', 'quit', or Ctrl-D.\", stacklevel=1)\n"
     ]
    }
   ],
   "source": [
    "#  brief explanation of __name__ == \"__main__\"\n",
    "# the global variable = __name__ and the entry point = __main__ (or the name that you import the module by)\n",
    "# so the code below this if statement will only run if the module == entry point to your program\n",
    "# it allows the code in the module to be importable by other modules without executing the code beneath the block on import\n",
    "\n",
    "if __name__ == \"__main__\":\n",
    "    import sys\n",
    "    sys.exit(get_shoe_info(cont_urls))"
   ]
  },
  {
   "cell_type": "code",
   "execution_count": 246,
   "metadata": {},
   "outputs": [
    {
     "data": {
      "text/plain": [
       "93"
      ]
     },
     "execution_count": 246,
     "metadata": {},
     "output_type": "execute_result"
    }
   ],
   "source": [
    "len(info)"
   ]
  },
  {
   "cell_type": "code",
   "execution_count": 216,
   "metadata": {},
   "outputs": [],
   "source": [
    "#round2.head(200)"
   ]
  },
  {
   "cell_type": "code",
   "execution_count": 247,
   "metadata": {},
   "outputs": [],
   "source": [
    "# add info into sneakers_df\n",
    "# sneaker_df = pd.DataFrame(info, columns = [\"ID\",\"Brand\", \"Colorway\",\"ReleaseDate\",\"RetailPrice\",\"Name\",\"Volatility\",\"ChangePercentage\",\"Gender\"])\n",
    "\n",
    "round2 = round2.append(info)"
   ]
  },
  {
   "cell_type": "code",
   "execution_count": 248,
   "metadata": {},
   "outputs": [],
   "source": [
    "round2.to_csv (r'/Users/gabbyvinco/Desktop/sneakers_df.csv', index = False, header=True)"
   ]
  },
  {
   "cell_type": "markdown",
   "metadata": {},
   "source": [
    "# Shoe Name Seach to generate a url for price history"
   ]
  },
  {
   "cell_type": "code",
   "execution_count": 322,
   "metadata": {},
   "outputs": [],
   "source": [
    "###### SHOE NAME SEARCH PRICE HISTORY\n",
    "# select shoe by name\n",
    "# make an input \n",
    "# make input lowercase\n",
    "# take \"Name\" from df and make them all lowercase\n",
    "#if input == \"Name\"\n",
    "# print(\"shoe matched\")\n",
    "# if multiple shoe matched then list colorways\n",
    "# ask for clarification on which colorway\n",
    "# make another input for colorway\n",
    "# with clarification of colorway now we can identify a specific shoe\n",
    "# take shoe'd \"ID\" and insert it into the url \n",
    "# pass in the url to the function \n",
    "# run the function\n",
    "# save function output in csv\n"
   ]
  },
  {
   "cell_type": "code",
   "execution_count": 323,
   "metadata": {},
   "outputs": [
    {
     "name": "stdout",
     "output_type": "stream",
     "text": [
      "What is the name of the shoe you want to search? \n",
      "yeezy slide\n"
     ]
    }
   ],
   "source": [
    "# select shoe by name\n",
    "# make an input\n",
    "print(\"What is the name of the shoe you want to search? \")\n",
    "shoe_search = input()\n",
    "\n",
    "# make input lowercase \n",
    "shoe_search = shoe_search.lower()\n",
    "\n",
    "#import sneaker dataset\n",
    "path = r'/Users/gabbyvinco/Desktop/Sneaker_Info_data.csv'\n",
    "sneaker_info_df = pd.read_csv(path, index_col=None, header=0)\n"
   ]
  },
  {
   "cell_type": "code",
   "execution_count": 324,
   "metadata": {},
   "outputs": [],
   "source": [
    "# sneaker_info_df[\"Name\"]"
   ]
  },
  {
   "cell_type": "code",
   "execution_count": 325,
   "metadata": {},
   "outputs": [],
   "source": [
    "#create a list with all the sneaker names in the dataset\n",
    "# all lowercased so we can compare it with the input\n",
    "shoe_names = sneaker_info_df[\"Name\"].to_list()\n",
    "lower_names = []\n",
    "\n",
    "for i in shoe_names:\n",
    "    i = i.lower()\n",
    "    lower_names.append(i)\n",
    "\n",
    "# unique brands    \n",
    "unique_names = set(shoe_names)\n",
    "# print(unique_names)\n",
    "\n",
    "#unique brands by lowercase\n",
    "unique_lower_names = set(lower_names)\n",
    "# print(unique_lower_names)\n",
    "\n",
    "# capitalize the first letter of the searched term from the input\n",
    "shoe_search_capitalized = shoe_search.title()"
   ]
  },
  {
   "cell_type": "code",
   "execution_count": 329,
   "metadata": {},
   "outputs": [
    {
     "name": "stdout",
     "output_type": "stream",
     "text": [
      "We have found that shoe in our data.\n",
      "There are 8 different colorways of that shoe.\n",
      "     \n",
      "                                 Colorway     Gender\n",
      "6     Earth Brown/Earth Brown/Earth Brown        men\n",
      "10    Desert Sand/Desert Sand/Desert Sand        men\n",
      "47                      Resin/Resin/Resin  preschool\n",
      "51                         Bone/Bone/Bone    toddler\n",
      "98    Desert Sand/Desert Sand/Desert Sand    toddler\n",
      "123                     Resin/Resin/Resin    toddler\n",
      "209   Earth Brown/Earth Brown/Earth Brown  preschool\n",
      "1727                       Pure/Pure/Pure        men\n",
      "     \n",
      "Please specify which colorway you would like: \n",
      "Pure/Pure/Pure\n",
      "     \n",
      "ID has been grabbed, proceed to make the request\n"
     ]
    }
   ],
   "source": [
    "if shoe_search in unique_lower_names:\n",
    "    print(\"We have found that shoe in our data.\")\n",
    "    \n",
    "    # count of how many types of that name shoe there are\n",
    "    count_of_name = sum(shoe_search in s for s in lower_names)\n",
    "    print(f'There are {count_of_name} different colorways of that shoe.')\n",
    "\n",
    "    # take the shoes of that name and display the colorways to choose from\n",
    "    sneaker_search_responses = sneaker_info_df.set_index([\"Name\"])\n",
    "    print(\"     \")\n",
    "    colorway_options = sneaker_info_df[sneaker_info_df[\"Name\"] == shoe_search_capitalized]\n",
    "#     colorway_options = sneaker_search_responses.loc[shoe_search_capitalized]\n",
    "    print(colorway_options[[\"Colorway\",\"Gender\"]])\n",
    "    print(\"     \")\n",
    "    \n",
    "    # choose the colorway\n",
    "    print(\"Please specify which colorway you would like: \")\n",
    "    color_search = input()\n",
    "    print(\"     \")\n",
    "    \n",
    "    # take the selected colorway and output the ID number\n",
    "    selected_shoe = colorway_options[colorway_options[\"Colorway\"] == color_search]\n",
    "    sku_id = selected_shoe[\"ID\"]\n",
    "    print(\"ID has been grabbed, proceed to make the request\")\n",
    "#     print(id_num)\n",
    "\n",
    "else:\n",
    "    print(\"We're sorry, the brand you entered wasn't found in our data.\")"
   ]
  },
  {
   "cell_type": "code",
   "execution_count": 330,
   "metadata": {},
   "outputs": [],
   "source": [
    "# take the ID number from previous cell and insert it in the url\n",
    "\n",
    "search_url = \"https://stockx.com/api/products/\" + sku_id + \"/chart\"\n"
   ]
  },
  {
   "cell_type": "code",
   "execution_count": null,
   "metadata": {},
   "outputs": [],
   "source": [
    "print(search_url)"
   ]
  },
  {
   "cell_type": "code",
   "execution_count": null,
   "metadata": {},
   "outputs": [],
   "source": [
    "###### RANDOM SHOE PRICE HISTORY\n",
    "# take a random number between 1 and however many shoes are in the dataframe\n",
    "# find the row for that number\n",
    "# take the \"ID\" from the row\n",
    "# insert it into the url \n",
    "# pass in the url to the function \n",
    "# run the function\n",
    "# save function output in csv\n"
   ]
  },
  {
   "cell_type": "code",
   "execution_count": 332,
   "metadata": {},
   "outputs": [
    {
     "data": {
      "text/plain": [
       "2206"
      ]
     },
     "execution_count": 332,
     "metadata": {},
     "output_type": "execute_result"
    }
   ],
   "source": [
    "len(sneaker_info_df)"
   ]
  },
  {
   "cell_type": "markdown",
   "metadata": {},
   "source": [
    "# Random Shoe Generator to create url for price history"
   ]
  },
  {
   "cell_type": "code",
   "execution_count": 352,
   "metadata": {},
   "outputs": [
    {
     "name": "stdout",
     "output_type": "stream",
     "text": [
      "Name                                  NMD R1\n",
      "Colorway    Core Black/Core Black/Core Black\n",
      "Name: 2201, dtype: object\n"
     ]
    }
   ],
   "source": [
    "n = random.randint(0,2205)\n",
    "# print(n)\n",
    "random_sneaker = sneaker_info_df.loc[n,:]\n",
    "print(random_sneaker[[\"Name\",\"Colorway\"]])\n",
    "random_id = random_sneaker[\"ID\"]\n",
    "random_url = \"https://stockx.com/api/products/\" + random_id + \"/chart\"\n"
   ]
  },
  {
   "cell_type": "code",
   "execution_count": 353,
   "metadata": {},
   "outputs": [
    {
     "name": "stdout",
     "output_type": "stream",
     "text": [
      "https://stockx.com/api/products/0c970fa9-0809-4247-a101-171ce2c8914f/chart\n"
     ]
    }
   ],
   "source": [
    "print(random_url)"
   ]
  },
  {
   "cell_type": "markdown",
   "metadata": {},
   "source": [
    "# Price History Function (Getting the data from the interactive plots)"
   ]
  },
  {
   "cell_type": "code",
   "execution_count": 357,
   "metadata": {},
   "outputs": [],
   "source": [
    "def get_price_history(url_with_id):\n",
    "\n",
    "    \n",
    "\n",
    "    params = {\n",
    "        \"start_date\": \"all\",\n",
    "        \"end_date\": \"2021-05-01\",\n",
    "        \"intervals\": \"250\",\n",
    "        \"format\": \"highstock\",\n",
    "        \"currency\": \"EUR\",\n",
    "        \"country\": \"IT\"\n",
    "    }\n",
    "\n",
    "    headers = {\n",
    "        \"accept-encoding\": \"gzip, deflate\",\n",
    "        \"sec-fetch-mode\": \"cors\",\n",
    "        \"sec-fetch-site\": \"same-origin\",\n",
    "        \"user-agent\": \"Mozilla/5.0 (Windows NT 10.0; Win64; x64) AppleWebKit/537.36 (KHTML, like Gecko) Chrome/90.0.4430.93 Safari/537.36\",\n",
    "        \"x-requested-with\": \"XMLHttpRequest\"\n",
    "    }\n",
    "\n",
    "    response = requests.get(url_with_id, params=params, headers=headers)\n",
    "    response.raise_for_status()\n",
    "    price_history = response.json()[\"series\"][0][\"data\"]\n",
    "    \n",
    "    \n",
    "\n",
    "    for timestamp, price in response.json()[\"series\"][0][\"data\"]:\n",
    "        date = datetime.utcfromtimestamp(int(timestamp) // 1000)\n",
    "        print(f\"[{date}]: €{price}\")\n",
    "    return 0\n",
    "    "
   ]
  },
  {
   "cell_type": "markdown",
   "metadata": {},
   "source": [
    "## Don't forget to pass in the url variable (either search_url or random_url)"
   ]
  },
  {
   "cell_type": "code",
   "execution_count": 359,
   "metadata": {},
   "outputs": [
    {
     "name": "stdout",
     "output_type": "stream",
     "text": [
      "[2017-07-25 18:34:47]: €280\n",
      "[2017-07-31 06:39:55]: €218\n",
      "[2017-08-05 18:45:03]: €193\n",
      "[2017-08-11 06:50:12]: €195\n",
      "[2017-08-16 18:55:20]: €185\n",
      "[2017-08-22 07:00:28]: €183\n",
      "[2017-08-27 19:05:37]: €184\n",
      "[2017-09-02 07:10:45]: €187\n",
      "[2017-09-07 19:15:53]: €185\n",
      "[2017-09-13 07:21:02]: €183\n",
      "[2017-09-18 19:26:10]: €182\n",
      "[2017-09-24 07:31:18]: €175\n",
      "[2017-09-29 19:36:27]: €168\n",
      "[2017-10-05 07:41:35]: €180\n",
      "[2017-10-10 19:46:43]: €178\n",
      "[2017-10-16 07:51:52]: €182\n",
      "[2017-10-21 19:57:00]: €180\n",
      "[2017-10-27 08:02:09]: €185\n",
      "[2017-11-01 20:07:17]: €185\n",
      "[2017-11-07 08:12:25]: €185\n",
      "[2017-11-12 20:17:34]: €184\n",
      "[2017-11-18 08:22:42]: €189\n",
      "[2017-11-23 20:27:50]: €195\n",
      "[2017-11-29 08:32:59]: €195\n",
      "[2017-12-04 20:38:07]: €199\n",
      "[2017-12-10 08:43:15]: €206\n",
      "[2017-12-15 20:48:24]: €214\n",
      "[2017-12-21 08:53:32]: €213\n",
      "[2017-12-26 20:58:40]: €211\n",
      "[2018-01-01 09:03:49]: €215\n",
      "[2018-01-06 21:08:57]: €210\n",
      "[2018-01-12 09:14:06]: €210\n",
      "[2018-01-17 21:19:14]: €216\n",
      "[2018-01-23 09:24:22]: €215\n",
      "[2018-01-28 21:29:31]: €218\n",
      "[2018-02-03 09:34:39]: €220\n",
      "[2018-02-08 21:39:47]: €222\n",
      "[2018-02-14 09:44:56]: €215\n",
      "[2018-02-19 21:50:04]: €216\n",
      "[2018-02-25 09:55:12]: €215\n",
      "[2018-03-02 22:00:21]: €215\n",
      "[2018-03-08 10:05:29]: €218\n",
      "[2018-03-13 22:10:37]: €220\n",
      "[2018-03-19 10:15:46]: €217\n",
      "[2018-03-24 22:20:54]: €215\n",
      "[2018-03-30 10:26:03]: €218\n",
      "[2018-04-04 22:31:11]: €220\n",
      "[2018-04-10 10:36:19]: €214\n",
      "[2018-04-15 22:41:28]: €225\n",
      "[2018-04-21 10:46:36]: €220\n",
      "[2018-04-26 22:51:44]: €225\n",
      "[2018-05-02 10:56:53]: €227\n",
      "[2018-05-07 23:02:01]: €225\n",
      "[2018-05-13 11:07:09]: €225\n",
      "[2018-05-18 23:12:18]: €228\n",
      "[2018-05-24 11:17:26]: €221\n",
      "[2018-05-29 23:22:34]: €221\n",
      "[2018-06-04 11:27:43]: €220\n",
      "[2018-06-09 23:32:51]: €210\n",
      "[2018-06-15 11:38:00]: €221\n",
      "[2018-06-20 23:43:08]: €225\n",
      "[2018-06-26 11:48:16]: €210\n",
      "[2018-07-01 23:53:25]: €215\n",
      "[2018-07-07 11:58:33]: €218\n",
      "[2018-07-13 00:03:41]: €216\n",
      "[2018-07-18 12:08:50]: €219\n",
      "[2018-07-24 00:13:58]: €223\n",
      "[2018-07-29 12:19:06]: €226\n",
      "[2018-08-04 00:24:15]: €236\n",
      "[2018-08-09 12:29:23]: €235\n",
      "[2018-08-15 00:34:31]: €231\n",
      "[2018-08-20 12:39:40]: €220\n",
      "[2018-08-26 00:44:48]: €241\n",
      "[2018-08-31 12:49:56]: €225\n",
      "[2018-09-06 00:55:05]: €234\n",
      "[2018-09-11 13:00:13]: €228\n",
      "[2018-09-17 01:05:22]: €220\n",
      "[2018-09-22 13:10:30]: €211\n",
      "[2018-09-28 01:15:38]: €223\n",
      "[2018-10-03 13:20:47]: €232\n",
      "[2018-10-09 01:25:55]: €227\n",
      "[2018-10-14 13:31:03]: €217\n",
      "[2018-10-20 01:36:12]: €217\n",
      "[2018-10-25 13:41:20]: €210\n",
      "[2018-10-31 01:46:28]: €206\n",
      "[2018-11-05 13:51:37]: €219\n",
      "[2018-11-11 01:56:45]: €222\n",
      "[2018-11-16 14:01:53]: €219\n",
      "[2018-11-22 02:07:02]: €222\n",
      "[2018-11-27 14:12:10]: €216\n",
      "[2018-12-03 02:17:19]: €226\n",
      "[2018-12-08 14:22:27]: €222\n",
      "[2018-12-14 02:27:35]: €227\n",
      "[2018-12-19 14:32:44]: €226\n",
      "[2018-12-25 02:37:52]: €242\n",
      "[2018-12-30 14:43:00]: €230\n",
      "[2019-01-05 02:48:09]: €221\n",
      "[2019-01-10 14:53:17]: €223\n",
      "[2019-01-16 02:58:25]: €189\n",
      "[2019-01-21 15:03:34]: €211\n",
      "[2019-01-27 03:08:42]: €184\n",
      "[2019-02-01 15:13:50]: €218\n",
      "[2019-02-07 03:18:59]: €225\n",
      "[2019-02-12 15:24:07]: €220\n",
      "[2019-02-18 03:29:16]: €229\n",
      "[2019-02-23 15:34:24]: €225\n",
      "[2019-03-01 03:39:32]: €228\n",
      "[2019-03-06 15:44:41]: €221\n",
      "[2019-03-12 03:49:49]: €217\n",
      "[2019-03-17 15:54:57]: €220\n",
      "[2019-03-23 04:00:06]: €216\n",
      "[2019-03-28 16:05:14]: €203\n",
      "[2019-04-03 04:10:22]: €211\n",
      "[2019-04-08 16:15:31]: €220\n",
      "[2019-04-14 04:20:39]: €215\n",
      "[2019-04-19 16:25:47]: €219\n",
      "[2019-04-25 04:30:56]: €222\n",
      "[2019-04-30 16:36:04]: €215\n",
      "[2019-05-06 04:41:13]: €209\n",
      "[2019-05-11 16:46:21]: €200\n",
      "[2019-05-17 04:51:29]: €215\n",
      "[2019-05-22 16:56:38]: €200\n",
      "[2019-05-28 05:01:46]: €202\n",
      "[2019-06-02 17:06:54]: €214\n",
      "[2019-06-08 05:12:03]: €220\n",
      "[2019-06-13 17:17:11]: €220\n",
      "[2019-06-19 05:22:19]: €211\n",
      "[2019-06-24 17:27:28]: €220\n",
      "[2019-06-30 05:32:36]: €206\n",
      "[2019-07-05 17:37:44]: €206\n",
      "[2019-07-11 05:42:53]: €225\n",
      "[2019-07-16 17:48:01]: €195\n",
      "[2019-07-22 05:53:09]: €205\n",
      "[2019-07-27 17:58:18]: €207\n",
      "[2019-08-02 06:03:26]: €206\n",
      "[2019-08-07 18:08:35]: €215\n",
      "[2019-08-13 06:13:43]: €219\n",
      "[2019-08-18 18:18:51]: €219\n",
      "[2019-08-24 06:24:00]: €224\n",
      "[2019-08-29 18:29:08]: €230\n",
      "[2019-09-04 06:34:16]: €220\n",
      "[2019-09-09 18:39:25]: €233\n",
      "[2019-09-15 06:44:33]: €215\n",
      "[2019-09-20 18:49:41]: €205\n",
      "[2019-09-26 06:54:50]: €224\n",
      "[2019-10-01 18:59:58]: €211\n",
      "[2019-10-07 07:05:06]: €218\n",
      "[2019-10-12 19:10:15]: €196\n",
      "[2019-10-18 07:15:23]: €225\n",
      "[2019-10-23 19:20:32]: €216\n",
      "[2019-10-29 07:25:40]: €211\n",
      "[2019-11-03 19:30:48]: €206\n",
      "[2019-11-09 07:35:57]: €227\n",
      "[2019-11-14 19:41:05]: €214\n",
      "[2019-11-20 07:46:13]: €210\n",
      "[2019-11-25 19:51:22]: €214\n",
      "[2019-12-01 07:56:30]: €240\n",
      "[2019-12-06 20:01:38]: €247\n",
      "[2019-12-12 08:06:47]: €229\n",
      "[2019-12-17 20:11:55]: €225\n",
      "[2019-12-23 08:17:03]: €218\n",
      "[2019-12-28 20:22:12]: €259\n",
      "[2020-01-03 08:27:20]: €215\n",
      "[2020-01-08 20:32:29]: €215\n",
      "[2020-01-14 08:37:37]: €225\n",
      "[2020-01-19 20:42:45]: €189\n",
      "[2020-01-25 08:47:54]: €223\n",
      "[2020-01-30 20:53:02]: €220\n",
      "[2020-02-05 08:58:10]: €225\n",
      "[2020-02-10 21:03:19]: €227\n",
      "[2020-02-16 09:08:27]: €229\n",
      "[2020-02-21 21:13:35]: €210\n",
      "[2020-02-27 09:18:44]: €215\n",
      "[2020-03-03 21:23:52]: €203\n",
      "[2020-03-09 09:29:00]: €193\n",
      "[2020-03-14 21:34:09]: €276\n",
      "[2020-03-20 09:39:17]: €200\n",
      "[2020-03-25 21:44:26]: €239\n",
      "[2020-03-31 09:49:34]: €202\n",
      "[2020-04-05 21:54:42]: €200\n",
      "[2020-04-11 09:59:51]: €180\n",
      "[2020-04-16 22:04:59]: €222\n",
      "[2020-04-22 10:10:07]: €207\n",
      "[2020-04-27 22:15:16]: €261\n",
      "[2020-05-03 10:20:24]: €214\n",
      "[2020-05-08 22:25:32]: €220\n",
      "[2020-05-14 10:30:41]: €238\n",
      "[2020-05-19 22:35:49]: €239\n",
      "[2020-05-25 10:40:57]: €237\n",
      "[2020-05-30 22:46:06]: €231\n",
      "[2020-06-05 10:51:14]: €254\n",
      "[2020-06-10 22:56:22]: €219\n",
      "[2020-06-16 11:01:31]: €268\n",
      "[2020-06-21 23:06:39]: €225\n",
      "[2020-06-27 11:11:48]: €251\n",
      "[2020-07-02 23:16:56]: €232\n",
      "[2020-07-08 11:22:04]: €232\n",
      "[2020-07-13 23:27:13]: €240\n",
      "[2020-07-19 11:32:21]: €264\n",
      "[2020-07-24 23:37:29]: €259\n",
      "[2020-07-30 11:42:38]: €245\n",
      "[2020-08-04 23:47:46]: €245\n",
      "[2020-08-10 11:52:54]: €263\n",
      "[2020-08-15 23:58:03]: €253\n",
      "[2020-08-21 12:03:11]: €260\n",
      "[2020-08-27 00:08:19]: €267\n",
      "[2020-09-01 12:13:28]: €263\n",
      "[2020-09-07 00:18:36]: €268\n",
      "[2020-09-12 12:23:45]: €220\n",
      "[2020-09-18 00:28:53]: €223\n",
      "[2020-09-23 12:34:01]: €225\n",
      "[2020-09-29 00:39:10]: €251\n",
      "[2020-10-04 12:44:18]: €229\n",
      "[2020-10-10 00:49:26]: €251\n",
      "[2020-10-15 12:54:35]: €285\n",
      "[2020-10-21 00:59:43]: €247\n",
      "[2020-10-26 13:04:51]: €240\n",
      "[2020-11-01 01:10:00]: €198\n",
      "[2020-11-06 13:15:08]: €237\n",
      "[2020-11-12 01:20:16]: €224\n",
      "[2020-11-17 13:25:25]: €239\n",
      "[2020-11-23 01:30:33]: €239\n",
      "[2020-11-28 13:35:42]: €201\n",
      "[2020-12-04 01:40:50]: €249\n",
      "[2020-12-09 13:45:58]: €233\n",
      "[2020-12-15 01:51:07]: €305\n",
      "[2020-12-20 13:56:15]: €293\n",
      "[2020-12-26 02:01:23]: €248\n",
      "[2020-12-31 14:06:32]: €264\n",
      "[2021-01-06 02:11:40]: €226\n",
      "[2021-01-11 14:16:48]: €278\n",
      "[2021-01-17 02:21:57]: €254\n",
      "[2021-01-22 14:27:05]: €267\n",
      "[2021-01-28 02:32:13]: €245\n",
      "[2021-02-02 14:37:22]: €225\n",
      "[2021-02-08 02:42:30]: €266\n",
      "[2021-02-13 14:47:39]: €219\n",
      "[2021-02-19 02:52:47]: €299\n",
      "[2021-02-24 14:57:55]: €247\n",
      "[2021-03-02 03:03:04]: €235\n",
      "[2021-03-07 15:08:12]: €225\n",
      "[2021-03-13 03:13:20]: €240\n",
      "[2021-03-18 15:18:29]: €261\n",
      "[2021-03-24 03:23:37]: €251\n",
      "[2021-03-29 15:28:45]: €205\n",
      "[2021-04-04 03:33:54]: €234\n",
      "[2021-04-09 15:39:02]: €250\n",
      "[2021-04-15 03:44:10]: €273\n",
      "[2021-04-20 15:49:19]: €274\n",
      "[2021-04-26 03:54:27]: €272\n"
     ]
    },
    {
     "ename": "SystemExit",
     "evalue": "0",
     "output_type": "error",
     "traceback": [
      "An exception has occurred, use %tb to see the full traceback.\n",
      "\u001b[0;31mSystemExit\u001b[0m\u001b[0;31m:\u001b[0m 0\n"
     ]
    }
   ],
   "source": [
    "if __name__ == \"__main__\":\n",
    "    import sys\n",
    "    sys.exit(get_price_history(random_url))"
   ]
  },
  {
   "cell_type": "code",
   "execution_count": null,
   "metadata": {},
   "outputs": [],
   "source": []
  }
 ],
 "metadata": {
  "kernelspec": {
   "display_name": "Python 3",
   "language": "python",
   "name": "python3"
  },
  "language_info": {
   "codemirror_mode": {
    "name": "ipython",
    "version": 3
   },
   "file_extension": ".py",
   "mimetype": "text/x-python",
   "name": "python",
   "nbconvert_exporter": "python",
   "pygments_lexer": "ipython3",
   "version": "3.8.5"
  }
 },
 "nbformat": 4,
 "nbformat_minor": 4
}
