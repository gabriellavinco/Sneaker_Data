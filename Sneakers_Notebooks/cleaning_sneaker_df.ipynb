{
 "cells": [
  {
   "cell_type": "code",
   "execution_count": 83,
   "metadata": {},
   "outputs": [],
   "source": [
    "import pandas as pd"
   ]
  },
  {
   "cell_type": "code",
   "execution_count": 118,
   "metadata": {},
   "outputs": [],
   "source": [
    "# import sneakers_df.csv\n",
    "path = r'/Users/gabbyvinco/Desktop/sneakers_df.csv'\n",
    "sneakers_df = pd.read_csv(path, index_col=None, header=0)"
   ]
  },
  {
   "cell_type": "code",
   "execution_count": 135,
   "metadata": {},
   "outputs": [],
   "source": [
    "#sneakers_df"
   ]
  },
  {
   "cell_type": "code",
   "execution_count": 120,
   "metadata": {},
   "outputs": [],
   "source": [
    "# select rows that you want to work with and create subsets to then align and rearrange the data\n",
    "\n",
    "set0 = sneakers_df.loc[0:211,:]\n",
    "set1 = sneakers_df.loc[212:366,:]\n",
    "set2 = sneakers_df.loc[367:522,:]\n",
    "set3 = sneakers_df.loc[523:677,:]\n",
    "set4 = sneakers_df.loc[678:832,:]\n",
    "set5 = sneakers_df.loc[833:987,:]\n",
    "set6 = sneakers_df.loc[988:1141,:]\n",
    "set7 = sneakers_df.loc[1142:1291,:]\n",
    "set8 = sneakers_df.loc[1292:1446,:]\n",
    "set9 = sneakers_df.loc[1447:1601,:]\n",
    "set10 = sneakers_df.loc[1602:1756,:]\n",
    "set11 = sneakers_df.loc[1757:1911,:]\n",
    "set12 = sneakers_df.loc[1912:2066,:]\n",
    "set13 = sneakers_df.loc[2067:2221,:]\n",
    "set14 = sneakers_df.loc[2222:2376,:]\n",
    "set15 = sneakers_df.loc[2377:2532,:]\n",
    "set16 = sneakers_df.loc[2533:,:]"
   ]
  },
  {
   "cell_type": "code",
   "execution_count": 121,
   "metadata": {},
   "outputs": [],
   "source": [
    "# get rid of all NaN rows that were created by some issue in the scraping code\n",
    "set0 = set0.dropna(axis='columns', how ='all')\n",
    "set1 = set1.dropna(axis='columns', how ='all')\n",
    "set2 = set2.dropna(axis='columns', how ='all')\n",
    "set3 = set3.dropna(axis='columns', how ='all')\n",
    "set4 = set4.dropna(axis='columns', how ='all')\n",
    "set5 = set5.dropna(axis='columns', how ='all')\n",
    "set6 = set6.dropna(axis='columns', how ='all')\n",
    "set7 = set7.dropna(axis='columns', how ='all')\n",
    "set8 = set8.dropna(axis='columns', how ='all')\n",
    "set9 = set9.dropna(axis='columns', how ='all')\n",
    "set10 = set10.dropna(axis='columns', how ='all')\n",
    "set11 = set11.dropna(axis='columns', how ='all')\n",
    "set12 = set12.dropna(axis='columns', how ='all')\n",
    "set13 = set13.dropna(axis='columns', how ='all')\n",
    "set14 = set14.dropna(axis='columns', how ='all')\n",
    "set15 = set15.dropna(axis='columns', how ='all')\n",
    "set16 = set16.dropna(axis='columns', how ='all')"
   ]
  },
  {
   "cell_type": "code",
   "execution_count": 134,
   "metadata": {},
   "outputs": [],
   "source": [
    "#set0"
   ]
  },
  {
   "cell_type": "code",
   "execution_count": 124,
   "metadata": {},
   "outputs": [],
   "source": [
    "# create a list of all the dataframes to then loop through \n",
    "df_list = [set1,set2,set3,set4,set5,set6,set7,set8,set9,set10,set11,set12,set13,set14,set15,set16]"
   ]
  },
  {
   "cell_type": "code",
   "execution_count": 129,
   "metadata": {},
   "outputs": [],
   "source": [
    "# create a new cumulative df\n",
    "sneaker_info_df = pd.DataFrame()"
   ]
  },
  {
   "cell_type": "code",
   "execution_count": 130,
   "metadata": {},
   "outputs": [],
   "source": [
    "# create an empty list to append to \n",
    "sets_list = []"
   ]
  },
  {
   "cell_type": "code",
   "execution_count": 132,
   "metadata": {},
   "outputs": [],
   "source": [
    "# change the column names for all of these randomly named columns\n",
    "for df in df_list:\n",
    "    df = df.rename(columns={df.columns[0]: 'ID'})\n",
    "    df = df.rename(columns={df.columns[1]: 'Brand'})\n",
    "    df = df.rename(columns={df.columns[2]: 'Colorway'})\n",
    "    df = df.rename(columns={df.columns[3]: 'ReleaseDate'})\n",
    "    df = df.rename(columns={df.columns[4]: 'RetailPrice'})\n",
    "    df = df.rename(columns={df.columns[5]: 'Name'})\n",
    "    df = df.rename(columns={df.columns[6]: 'Volatility'})\n",
    "    df = df.rename(columns={df.columns[7]: 'ChangePercent'})\n",
    "    df = df.rename(columns={df.columns[8]: 'Gender'})\n",
    "    sets_list.append(df)\n",
    "    "
   ]
  },
  {
   "cell_type": "code",
   "execution_count": 142,
   "metadata": {},
   "outputs": [],
   "source": [
    "# reorder set0 and add it to the main df\n",
    "# look at the dataset\n",
    "#set0\n",
    "\n",
    "# check the order of which the columns are in right now\n",
    "cols = list(set0.columns.values)\n",
    "#cols\n",
    "\n",
    "col_correct = list(sneaker_info_df.columns.values)\n",
    "#col_correct\n",
    "\n",
    "set0 = set0[['ID',\n",
    " 'Brand',\n",
    " 'Colorway',\n",
    " 'ReleaseDate',\n",
    " 'RetailPrice',\n",
    " 'Name',\n",
    " 'Volatility',\n",
    " 'ChangePercent',\n",
    " 'Gender']]"
   ]
  },
  {
   "cell_type": "code",
   "execution_count": 145,
   "metadata": {},
   "outputs": [],
   "source": [
    "# add in set 0 to complete the dataframe\n",
    "sets_list.append(set0)\n",
    "sneaker_info_df = pd.concat(sets_list)"
   ]
  },
  {
   "cell_type": "code",
   "execution_count": 147,
   "metadata": {},
   "outputs": [],
   "source": [
    "sneaker_info_df = sneaker_info_df.sort_index(ascending=True)"
   ]
  },
  {
   "cell_type": "code",
   "execution_count": 148,
   "metadata": {},
   "outputs": [
    {
     "data": {
      "text/html": [
       "<div>\n",
       "<style scoped>\n",
       "    .dataframe tbody tr th:only-of-type {\n",
       "        vertical-align: middle;\n",
       "    }\n",
       "\n",
       "    .dataframe tbody tr th {\n",
       "        vertical-align: top;\n",
       "    }\n",
       "\n",
       "    .dataframe thead th {\n",
       "        text-align: right;\n",
       "    }\n",
       "</style>\n",
       "<table border=\"1\" class=\"dataframe\">\n",
       "  <thead>\n",
       "    <tr style=\"text-align: right;\">\n",
       "      <th></th>\n",
       "      <th>ID</th>\n",
       "      <th>Brand</th>\n",
       "      <th>Colorway</th>\n",
       "      <th>ReleaseDate</th>\n",
       "      <th>RetailPrice</th>\n",
       "      <th>Name</th>\n",
       "      <th>Volatility</th>\n",
       "      <th>ChangePercent</th>\n",
       "      <th>Gender</th>\n",
       "    </tr>\n",
       "  </thead>\n",
       "  <tbody>\n",
       "    <tr>\n",
       "      <th>0</th>\n",
       "      <td>bd225b2f-362f-4475-bd4a-375a23986dee</td>\n",
       "      <td>Yeezy</td>\n",
       "      <td>Resin/Resin/Resin</td>\n",
       "      <td>2021-04-26</td>\n",
       "      <td>55.0</td>\n",
       "      <td>Yeezy Slide</td>\n",
       "      <td>0.086295</td>\n",
       "      <td>0.018072</td>\n",
       "      <td>men</td>\n",
       "    </tr>\n",
       "    <tr>\n",
       "      <th>1</th>\n",
       "      <td>a5d54b52-13e4-42fc-8821-71729bfb8b72</td>\n",
       "      <td>Yeezy</td>\n",
       "      <td>Core/Core/Core</td>\n",
       "      <td>2021-04-26</td>\n",
       "      <td>55.0</td>\n",
       "      <td>Yeezy Slide</td>\n",
       "      <td>0.060720</td>\n",
       "      <td>-0.061611</td>\n",
       "      <td>men</td>\n",
       "    </tr>\n",
       "    <tr>\n",
       "      <th>2</th>\n",
       "      <td>802d45e3-6eb2-4733-816f-87c7af67f249</td>\n",
       "      <td>New Balance</td>\n",
       "      <td>White/Natural-Green</td>\n",
       "      <td>2021-04-16</td>\n",
       "      <td>130.0</td>\n",
       "      <td>New Balance 550</td>\n",
       "      <td>0.133226</td>\n",
       "      <td>-0.104348</td>\n",
       "      <td>men</td>\n",
       "    </tr>\n",
       "    <tr>\n",
       "      <th>3</th>\n",
       "      <td>5f9d25f9-a884-43ee-bf2c-6a066ce66eee</td>\n",
       "      <td>New Balance</td>\n",
       "      <td>White/Navy-Red</td>\n",
       "      <td>2021-04-16</td>\n",
       "      <td>130.0</td>\n",
       "      <td>New Balance 550</td>\n",
       "      <td>0.209088</td>\n",
       "      <td>0.236104</td>\n",
       "      <td>men</td>\n",
       "    </tr>\n",
       "    <tr>\n",
       "      <th>4</th>\n",
       "      <td>24453042-3907-4c9c-9a2c-ca7e2ce7ed1a</td>\n",
       "      <td>Converse</td>\n",
       "      <td>White/Bold Orange-Black</td>\n",
       "      <td>2018-10-08</td>\n",
       "      <td>130.0</td>\n",
       "      <td>Converse Chuck Taylor All-Star</td>\n",
       "      <td>0.084268</td>\n",
       "      <td>0.028391</td>\n",
       "      <td>men</td>\n",
       "    </tr>\n",
       "    <tr>\n",
       "      <th>...</th>\n",
       "      <td>...</td>\n",
       "      <td>...</td>\n",
       "      <td>...</td>\n",
       "      <td>...</td>\n",
       "      <td>...</td>\n",
       "      <td>...</td>\n",
       "      <td>...</td>\n",
       "      <td>...</td>\n",
       "      <td>...</td>\n",
       "    </tr>\n",
       "    <tr>\n",
       "      <th>2621</th>\n",
       "      <td>0c970fa9-0809-4247-a101-171ce2c8914f</td>\n",
       "      <td>adidas</td>\n",
       "      <td>Core Black/Core Black/Core Black</td>\n",
       "      <td>2017-08-11</td>\n",
       "      <td>180.0</td>\n",
       "      <td>adidas NMD R1</td>\n",
       "      <td>0.097151</td>\n",
       "      <td>-0.227581</td>\n",
       "      <td>men</td>\n",
       "    </tr>\n",
       "    <tr>\n",
       "      <th>2622</th>\n",
       "      <td>fe2e237b-039b-45bb-a192-ba5b1edf8214</td>\n",
       "      <td>adidas</td>\n",
       "      <td>Core Black/Core Black/Core Black</td>\n",
       "      <td>2019-11-29</td>\n",
       "      <td>200.0</td>\n",
       "      <td>adidas Ultra Boost All Terrain</td>\n",
       "      <td>0.522436</td>\n",
       "      <td>-0.163830</td>\n",
       "      <td>men</td>\n",
       "    </tr>\n",
       "    <tr>\n",
       "      <th>2623</th>\n",
       "      <td>8c68d245-d234-4a0b-b1ad-e44e7e1a2d91</td>\n",
       "      <td>adidas</td>\n",
       "      <td>Core Black/ Night Metallic/ Cloud White</td>\n",
       "      <td>0</td>\n",
       "      <td>180.0</td>\n",
       "      <td>adidas Ultra Boost 20</td>\n",
       "      <td>0.201387</td>\n",
       "      <td>-0.295000</td>\n",
       "      <td>women</td>\n",
       "    </tr>\n",
       "    <tr>\n",
       "      <th>2624</th>\n",
       "      <td>33dd4849-1672-45f8-8b21-1cd0517ccdc0</td>\n",
       "      <td>adidas</td>\n",
       "      <td>Green/Brown/Orange</td>\n",
       "      <td>0</td>\n",
       "      <td>250.0</td>\n",
       "      <td>adidas Ultra 4D</td>\n",
       "      <td>0.070826</td>\n",
       "      <td>-0.142857</td>\n",
       "      <td>men</td>\n",
       "    </tr>\n",
       "    <tr>\n",
       "      <th>2625</th>\n",
       "      <td>6ec31bc2-0883-405f-b56d-bf197ed87048</td>\n",
       "      <td>adidas</td>\n",
       "      <td>Desert Sage/Desert Sage/Desert Sage</td>\n",
       "      <td>2020-03-14</td>\n",
       "      <td>140.0</td>\n",
       "      <td>adidas Yeezy Boost 350 V2</td>\n",
       "      <td>0.143764</td>\n",
       "      <td>0.482301</td>\n",
       "      <td>toddler</td>\n",
       "    </tr>\n",
       "  </tbody>\n",
       "</table>\n",
       "<p>2626 rows × 9 columns</p>\n",
       "</div>"
      ],
      "text/plain": [
       "                                        ID        Brand  \\\n",
       "0     bd225b2f-362f-4475-bd4a-375a23986dee        Yeezy   \n",
       "1     a5d54b52-13e4-42fc-8821-71729bfb8b72        Yeezy   \n",
       "2     802d45e3-6eb2-4733-816f-87c7af67f249  New Balance   \n",
       "3     5f9d25f9-a884-43ee-bf2c-6a066ce66eee  New Balance   \n",
       "4     24453042-3907-4c9c-9a2c-ca7e2ce7ed1a     Converse   \n",
       "...                                    ...          ...   \n",
       "2621  0c970fa9-0809-4247-a101-171ce2c8914f       adidas   \n",
       "2622  fe2e237b-039b-45bb-a192-ba5b1edf8214       adidas   \n",
       "2623  8c68d245-d234-4a0b-b1ad-e44e7e1a2d91       adidas   \n",
       "2624  33dd4849-1672-45f8-8b21-1cd0517ccdc0       adidas   \n",
       "2625  6ec31bc2-0883-405f-b56d-bf197ed87048       adidas   \n",
       "\n",
       "                                     Colorway ReleaseDate  RetailPrice  \\\n",
       "0                           Resin/Resin/Resin  2021-04-26         55.0   \n",
       "1                              Core/Core/Core  2021-04-26         55.0   \n",
       "2                         White/Natural-Green  2021-04-16        130.0   \n",
       "3                              White/Navy-Red  2021-04-16        130.0   \n",
       "4                     White/Bold Orange-Black  2018-10-08        130.0   \n",
       "...                                       ...         ...          ...   \n",
       "2621         Core Black/Core Black/Core Black  2017-08-11        180.0   \n",
       "2622         Core Black/Core Black/Core Black  2019-11-29        200.0   \n",
       "2623  Core Black/ Night Metallic/ Cloud White           0        180.0   \n",
       "2624                       Green/Brown/Orange           0        250.0   \n",
       "2625      Desert Sage/Desert Sage/Desert Sage  2020-03-14        140.0   \n",
       "\n",
       "                                Name  Volatility  ChangePercent   Gender  \n",
       "0                        Yeezy Slide    0.086295       0.018072      men  \n",
       "1                        Yeezy Slide    0.060720      -0.061611      men  \n",
       "2                    New Balance 550    0.133226      -0.104348      men  \n",
       "3                    New Balance 550    0.209088       0.236104      men  \n",
       "4     Converse Chuck Taylor All-Star    0.084268       0.028391      men  \n",
       "...                              ...         ...            ...      ...  \n",
       "2621                   adidas NMD R1    0.097151      -0.227581      men  \n",
       "2622  adidas Ultra Boost All Terrain    0.522436      -0.163830      men  \n",
       "2623           adidas Ultra Boost 20    0.201387      -0.295000    women  \n",
       "2624                 adidas Ultra 4D    0.070826      -0.142857      men  \n",
       "2625       adidas Yeezy Boost 350 V2    0.143764       0.482301  toddler  \n",
       "\n",
       "[2626 rows x 9 columns]"
      ]
     },
     "execution_count": 148,
     "metadata": {},
     "output_type": "execute_result"
    }
   ],
   "source": [
    "sneaker_info_df"
   ]
  },
  {
   "cell_type": "code",
   "execution_count": 150,
   "metadata": {},
   "outputs": [],
   "source": [
    "sneaker_info_df.drop_duplicates(subset =\"ID\",\n",
    "                     keep = False, inplace = True)"
   ]
  },
  {
   "cell_type": "code",
   "execution_count": 151,
   "metadata": {},
   "outputs": [
    {
     "data": {
      "text/plain": [
       "2206"
      ]
     },
     "execution_count": 151,
     "metadata": {},
     "output_type": "execute_result"
    }
   ],
   "source": [
    "len(sneaker_info_df)"
   ]
  },
  {
   "cell_type": "code",
   "execution_count": 152,
   "metadata": {},
   "outputs": [],
   "source": [
    "sneaker_info_df.to_csv (r'/Users/gabbyvinco/Desktop/Sneaker_Info_data.csv', index = False, header=True)"
   ]
  },
  {
   "cell_type": "code",
   "execution_count": null,
   "metadata": {},
   "outputs": [],
   "source": []
  }
 ],
 "metadata": {
  "kernelspec": {
   "display_name": "Python 3",
   "language": "python",
   "name": "python3"
  },
  "language_info": {
   "codemirror_mode": {
    "name": "ipython",
    "version": 3
   },
   "file_extension": ".py",
   "mimetype": "text/x-python",
   "name": "python",
   "nbconvert_exporter": "python",
   "pygments_lexer": "ipython3",
   "version": "3.8.5"
  }
 },
 "nbformat": 4,
 "nbformat_minor": 4
}
