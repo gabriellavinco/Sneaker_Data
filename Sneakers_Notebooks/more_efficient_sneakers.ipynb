{
 "cells": [
  {
   "cell_type": "code",
   "execution_count": 104,
   "metadata": {},
   "outputs": [],
   "source": [
    "import requests\n",
    "from datetime import datetime\n",
    "import pandas as pd\n",
    "import glob"
   ]
  },
  {
   "cell_type": "code",
   "execution_count": 105,
   "metadata": {},
   "outputs": [],
   "source": [
    "# import csv's with the url additions\n",
    "path = r'/Users/gabbyvinco/Desktop/sneaker_csv'\n",
    "all_files = glob.glob(path + \"/*.csv\")\n",
    "\n",
    "li = []\n",
    "\n",
    "for filename in all_files:\n",
    "    df = pd.read_csv(filename, index_col=None, header=0)\n",
    "    li.append(df)\n",
    "    \n",
    "frame = pd.concat(li, ignore_index=True)    "
   ]
  },
  {
   "cell_type": "code",
   "execution_count": 106,
   "metadata": {},
   "outputs": [],
   "source": [
    "# take transpose of data frame\n",
    "frame = frame.T\n",
    "# set an index so the column with the keys is no longer the index\n",
    "frame = frame.reset_index()\n",
    "# rename column to 'urlKeys'\n",
    "dataframe = frame.rename(columns={'index': 'urlKeys'})"
   ]
  },
  {
   "cell_type": "code",
   "execution_count": 107,
   "metadata": {},
   "outputs": [],
   "source": [
    "# adding new column with complete url for api call\n",
    "full_urls = []\n",
    "\n",
    "for value in dataframe['urlKeys']:\n",
    "    full = 'https://stockx.com/api/products/'+value+'?includes=market,360&currency=EUR&country=IT'\n",
    "    full_urls.append(full)\n",
    "    \n",
    "dataframe['urlFull'] = full_urls"
   ]
  },
  {
   "cell_type": "code",
   "execution_count": 108,
   "metadata": {},
   "outputs": [],
   "source": [
    "def get_shoe_info(url_list):\n",
    "    \n",
    "    for url in url_list:\n",
    "\n",
    "        headers = {\n",
    "            \"accept-encoding\": \"gzip, deflate, br\",\n",
    "            \"sec-fetch-mode\": \"cors\",\n",
    "            \"sec=fetch-site\": \"same-origin\",\n",
    "            \"user-agent\": \"Mozilla/5.0 (Windows NT 10.0; Win64; x64) AppleWebKit/537.36 (KHTML, like Gecko) Chrome/90.0.4430.93 Safari/537.36\",\n",
    "            \"x-requested-with\": \"XMLHttpRequest\"\n",
    "        }\n",
    "\n",
    "        response = requests.get(url, headers=headers)\n",
    "        response.raise_for_status()\n",
    "        \n",
    "        product = response.json()[\"Product\"]\n",
    "\n",
    "        for p in product:\n",
    "            id_num = p[\"id\"]\n",
    "            brand = p[\"brand\"]\n",
    "            colorway = p[\"colorway\"]\n",
    "            release_date = p[\"releaseDate\"]\n",
    "            retail_price = p[\"retailPrice\"]\n",
    "            shoe_name = p[\"shoe\"]\n",
    "            volatility = p[\"market\"][\"volatility\"]\n",
    "            change_percentage = p[\"market\"][\"changePercentage\"]\n",
    "            gender = p[\"gender\"]\n",
    "            print(f'ID: {id_num}\\n'\n",
    "              f'Brand: {brand}\\n'\n",
    "              f'Colorway: {colorway}\\n'\n",
    "              f'Release Date: {release_date}\\n'\n",
    "              f'Retail Price: {retail_price}\\n'\n",
    "              f'Shoe Name: {shoe_name}\\n'\n",
    "              f'Volatility: {volatility}\\n'\n",
    "              f'Change Percentage: {change_percentage}\\n'\n",
    "              f'Gender: {gender}')\n",
    "            print(p)\n",
    "        return 0\n",
    "    "
   ]
  },
  {
   "cell_type": "code",
   "execution_count": 100,
   "metadata": {},
   "outputs": [],
   "source": [
    "# def shoe_info():\n",
    "\n",
    "#     for id_num, brand, colorway, release_date, retail_price,shoe_name, volatility, change_percentage, gender in get_shoe_info():\n",
    "#         print(f'ID: {id_num}\\n'\n",
    "#               f'Brand: {brand}\\n'\n",
    "#               f'Colorway: {colorway}\\n'\n",
    "#               f'Release Date: {release_date}\\n'\n",
    "#               f'Retail Price: {retail_price}\\n'\n",
    "#               f'Shoe Name: {shoe_name}\\n'\n",
    "#               f'Volatility: {volatility}\\n'\n",
    "#               f'Change Percentage: {change_percentage}\\n'\n",
    "#               f'Gender: {gender}')\n",
    "  \n",
    "#     return 0"
   ]
  },
  {
   "cell_type": "code",
   "execution_count": 110,
   "metadata": {},
   "outputs": [
    {
     "ename": "TypeError",
     "evalue": "string indices must be integers",
     "output_type": "error",
     "traceback": [
      "\u001b[0;31m---------------------------------------------------------------------------\u001b[0m",
      "\u001b[0;31mTypeError\u001b[0m                                 Traceback (most recent call last)",
      "\u001b[0;32m<ipython-input-110-50091ef04866>\u001b[0m in \u001b[0;36m<module>\u001b[0;34m\u001b[0m\n\u001b[1;32m      1\u001b[0m \u001b[0;32mif\u001b[0m \u001b[0m__name__\u001b[0m \u001b[0;34m==\u001b[0m \u001b[0;34m\"__main__\"\u001b[0m\u001b[0;34m:\u001b[0m\u001b[0;34m\u001b[0m\u001b[0;34m\u001b[0m\u001b[0m\n\u001b[1;32m      2\u001b[0m     \u001b[0;32mimport\u001b[0m \u001b[0msys\u001b[0m\u001b[0;34m\u001b[0m\u001b[0;34m\u001b[0m\u001b[0m\n\u001b[0;32m----> 3\u001b[0;31m     \u001b[0msys\u001b[0m\u001b[0;34m.\u001b[0m\u001b[0mexit\u001b[0m\u001b[0;34m(\u001b[0m\u001b[0mget_shoe_info\u001b[0m\u001b[0;34m(\u001b[0m\u001b[0mfull_urls\u001b[0m\u001b[0;34m)\u001b[0m\u001b[0;34m)\u001b[0m\u001b[0;34m\u001b[0m\u001b[0;34m\u001b[0m\u001b[0m\n\u001b[0m",
      "\u001b[0;32m<ipython-input-108-534ef9969ef3>\u001b[0m in \u001b[0;36mget_shoe_info\u001b[0;34m(url_list)\u001b[0m\n\u001b[1;32m     17\u001b[0m \u001b[0;34m\u001b[0m\u001b[0m\n\u001b[1;32m     18\u001b[0m         \u001b[0;32mfor\u001b[0m \u001b[0mp\u001b[0m \u001b[0;32min\u001b[0m \u001b[0mproduct\u001b[0m\u001b[0;34m:\u001b[0m\u001b[0;34m\u001b[0m\u001b[0;34m\u001b[0m\u001b[0m\n\u001b[0;32m---> 19\u001b[0;31m             \u001b[0mid_num\u001b[0m \u001b[0;34m=\u001b[0m \u001b[0mp\u001b[0m\u001b[0;34m[\u001b[0m\u001b[0;34m\"id\"\u001b[0m\u001b[0;34m]\u001b[0m\u001b[0;34m\u001b[0m\u001b[0;34m\u001b[0m\u001b[0m\n\u001b[0m\u001b[1;32m     20\u001b[0m             \u001b[0mbrand\u001b[0m \u001b[0;34m=\u001b[0m \u001b[0mp\u001b[0m\u001b[0;34m[\u001b[0m\u001b[0;34m\"brand\"\u001b[0m\u001b[0;34m]\u001b[0m\u001b[0;34m\u001b[0m\u001b[0;34m\u001b[0m\u001b[0m\n\u001b[1;32m     21\u001b[0m             \u001b[0mcolorway\u001b[0m \u001b[0;34m=\u001b[0m \u001b[0mp\u001b[0m\u001b[0;34m[\u001b[0m\u001b[0;34m\"colorway\"\u001b[0m\u001b[0;34m]\u001b[0m\u001b[0;34m\u001b[0m\u001b[0;34m\u001b[0m\u001b[0m\n",
      "\u001b[0;31mTypeError\u001b[0m: string indices must be integers"
     ]
    }
   ],
   "source": [
    "if __name__ == \"__main__\":\n",
    "    import sys\n",
    "    sys.exit(get_shoe_info(full_urls))"
   ]
  },
  {
   "cell_type": "code",
   "execution_count": null,
   "metadata": {},
   "outputs": [],
   "source": []
  },
  {
   "cell_type": "code",
   "execution_count": null,
   "metadata": {},
   "outputs": [],
   "source": []
  },
  {
   "cell_type": "code",
   "execution_count": null,
   "metadata": {},
   "outputs": [],
   "source": []
  },
  {
   "cell_type": "code",
   "execution_count": 5,
   "metadata": {},
   "outputs": [],
   "source": [
    "def get_price_history():\n",
    "\n",
    "    url = \"https://stockx.com/api/products/f27be8fd-2e05-4caa-a70e-fe787aa6283e/chart\"\n",
    "\n",
    "    params = {\n",
    "        \"start_date\": \"all\",\n",
    "        \"end_date\": \"2021-05-01\",\n",
    "        \"intervals\": \"100\",\n",
    "        \"format\": \"highstock\",\n",
    "        \"currency\": \"EUR\",\n",
    "        \"country\": \"IT\"\n",
    "    }\n",
    "\n",
    "    headers = {\n",
    "        \"accept-encoding\": \"gzip, deflate\",\n",
    "        \"sec-fetch-mode\": \"cors\",\n",
    "        \"sec-fetch-site\": \"same-origin\",\n",
    "        \"user-agent\": \"Mozilla/5.0 (Windows NT 10.0; Win64; x64) AppleWebKit/537.36 (KHTML, like Gecko) Chrome/90.0.4430.93 Safari/537.36\",\n",
    "        \"x-requested-with\": \"XMLHttpRequest\"\n",
    "    }\n",
    "\n",
    "    response = requests.get(url, params=params, headers=headers)\n",
    "    response.raise_for_status()\n",
    "\n",
    "    for timestamp, price in response.json()[\"series\"][0][\"data\"]:\n",
    "        date = datetime.utcfromtimestamp(int(timestamp) // 1000)\n",
    "        yield date, price\n",
    "    \n",
    "    "
   ]
  },
  {
   "cell_type": "code",
   "execution_count": 6,
   "metadata": {},
   "outputs": [],
   "source": [
    "def main():\n",
    "\n",
    "    for date, price in get_price_history():\n",
    "        print(f\"[{date}]: €{price}\")\n",
    "    \n",
    "    return 0"
   ]
  },
  {
   "cell_type": "code",
   "execution_count": 7,
   "metadata": {},
   "outputs": [
    {
     "name": "stdout",
     "output_type": "stream",
     "text": [
      "[2021-04-01 13:36:27]: €358\n",
      "[2021-04-01 20:50:46]: €358\n",
      "[2021-04-02 04:05:05]: €358\n",
      "[2021-04-02 11:19:25]: €401\n",
      "[2021-04-02 18:33:44]: €401\n",
      "[2021-04-03 01:48:04]: €404\n",
      "[2021-04-03 09:02:23]: €445\n",
      "[2021-04-03 16:16:42]: €411\n",
      "[2021-04-03 23:31:02]: €422\n",
      "[2021-04-04 06:45:21]: €422\n",
      "[2021-04-04 13:59:41]: €422\n",
      "[2021-04-04 21:14:00]: €414\n",
      "[2021-04-05 04:28:19]: €414\n",
      "[2021-04-05 11:42:39]: €462\n",
      "[2021-04-05 18:56:58]: €500\n",
      "[2021-04-06 02:11:18]: €500\n",
      "[2021-04-06 09:25:37]: €500\n",
      "[2021-04-06 16:39:56]: €401\n",
      "[2021-04-06 23:54:16]: €450\n",
      "[2021-04-07 07:08:35]: €351\n",
      "[2021-04-07 14:22:55]: €335\n",
      "[2021-04-07 21:37:14]: €379\n",
      "[2021-04-08 04:51:33]: €338\n",
      "[2021-04-08 12:05:53]: €322\n",
      "[2021-04-08 19:20:12]: €406\n",
      "[2021-04-09 02:34:32]: €425\n",
      "[2021-04-09 09:48:51]: €381\n",
      "[2021-04-09 17:03:10]: €372\n",
      "[2021-04-10 00:17:30]: €342\n",
      "[2021-04-10 07:31:49]: €326\n",
      "[2021-04-10 14:46:09]: €386\n",
      "[2021-04-10 22:00:28]: €420\n",
      "[2021-04-11 05:14:47]: €420\n",
      "[2021-04-11 12:29:07]: €382\n",
      "[2021-04-11 19:43:26]: €392\n",
      "[2021-04-12 02:57:46]: €375\n",
      "[2021-04-12 10:12:05]: €357\n",
      "[2021-04-12 17:26:24]: €375\n",
      "[2021-04-13 00:40:44]: €430\n",
      "[2021-04-13 07:55:03]: €356\n",
      "[2021-04-13 15:09:23]: €372\n",
      "[2021-04-13 22:23:42]: €408\n",
      "[2021-04-14 05:38:01]: €433\n",
      "[2021-04-14 12:52:21]: €435\n",
      "[2021-04-14 20:06:40]: €392\n",
      "[2021-04-15 03:21:00]: €436\n",
      "[2021-04-15 10:35:19]: €414\n",
      "[2021-04-15 17:49:38]: €393\n",
      "[2021-04-16 01:03:58]: €391\n",
      "[2021-04-16 08:18:17]: €367\n",
      "[2021-04-16 15:32:37]: €427\n",
      "[2021-04-16 22:46:56]: €474\n",
      "[2021-04-17 06:01:15]: €436\n",
      "[2021-04-17 13:15:35]: €430\n",
      "[2021-04-17 20:29:54]: €428\n",
      "[2021-04-18 03:44:14]: €428\n",
      "[2021-04-18 10:58:33]: €374\n",
      "[2021-04-18 18:12:52]: €475\n",
      "[2021-04-19 01:27:12]: €458\n",
      "[2021-04-19 08:41:31]: €431\n",
      "[2021-04-19 15:55:51]: €415\n",
      "[2021-04-19 23:10:10]: €437\n",
      "[2021-04-20 06:24:29]: €368\n",
      "[2021-04-20 13:38:49]: €431\n",
      "[2021-04-20 20:53:08]: €404\n",
      "[2021-04-21 04:07:28]: €420\n",
      "[2021-04-21 11:21:47]: €399\n",
      "[2021-04-21 18:36:06]: €395\n",
      "[2021-04-22 01:50:26]: €387\n",
      "[2021-04-22 09:04:45]: €380\n",
      "[2021-04-22 16:19:05]: €361\n",
      "[2021-04-22 23:33:24]: €354\n",
      "[2021-04-23 06:47:43]: €339\n",
      "[2021-04-23 14:02:03]: €340\n",
      "[2021-04-23 21:16:22]: €340\n",
      "[2021-04-24 04:30:42]: €315\n",
      "[2021-04-24 11:45:01]: €319\n",
      "[2021-04-24 18:59:20]: €330\n",
      "[2021-04-25 02:13:40]: €331\n",
      "[2021-04-25 09:27:59]: €334\n",
      "[2021-04-25 16:42:19]: €327\n",
      "[2021-04-25 23:56:38]: €320\n",
      "[2021-04-26 07:10:57]: €312\n",
      "[2021-04-26 14:25:17]: €309\n",
      "[2021-04-26 21:39:36]: €307\n",
      "[2021-04-27 04:53:56]: €302\n",
      "[2021-04-27 12:08:15]: €297\n",
      "[2021-04-27 19:22:34]: €294\n",
      "[2021-04-28 02:36:54]: €293\n",
      "[2021-04-28 09:51:13]: €289\n",
      "[2021-04-28 17:05:33]: €287\n",
      "[2021-04-29 00:19:52]: €285\n",
      "[2021-04-29 07:34:11]: €283\n",
      "[2021-04-29 14:48:31]: €286\n",
      "[2021-04-29 22:02:50]: €288\n",
      "[2021-04-30 05:17:10]: €285\n",
      "[2021-04-30 12:31:29]: €288\n",
      "[2021-04-30 19:45:48]: €294\n",
      "[2021-05-01 03:00:08]: €291\n",
      "[2021-05-01 10:14:27]: €288\n"
     ]
    },
    {
     "ename": "SystemExit",
     "evalue": "0",
     "output_type": "error",
     "traceback": [
      "An exception has occurred, use %tb to see the full traceback.\n",
      "\u001b[0;31mSystemExit\u001b[0m\u001b[0;31m:\u001b[0m 0\n"
     ]
    },
    {
     "name": "stderr",
     "output_type": "stream",
     "text": [
      "/Users/gabbyvinco/opt/anaconda3/lib/python3.8/site-packages/IPython/core/interactiveshell.py:3426: UserWarning: To exit: use 'exit', 'quit', or Ctrl-D.\n",
      "  warn(\"To exit: use 'exit', 'quit', or Ctrl-D.\", stacklevel=1)\n"
     ]
    }
   ],
   "source": [
    "if __name__ == \"__main__\":\n",
    "    import sys\n",
    "    sys.exit(main())"
   ]
  },
  {
   "cell_type": "code",
   "execution_count": null,
   "metadata": {},
   "outputs": [],
   "source": []
  }
 ],
 "metadata": {
  "kernelspec": {
   "display_name": "Python 3",
   "language": "python",
   "name": "python3"
  },
  "language_info": {
   "codemirror_mode": {
    "name": "ipython",
    "version": 3
   },
   "file_extension": ".py",
   "mimetype": "text/x-python",
   "name": "python",
   "nbconvert_exporter": "python",
   "pygments_lexer": "ipython3",
   "version": "3.8.5"
  }
 },
 "nbformat": 4,
 "nbformat_minor": 4
}
