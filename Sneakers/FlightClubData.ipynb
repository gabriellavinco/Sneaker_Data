{
 "cells": [
  {
   "cell_type": "code",
   "execution_count": 34,
   "metadata": {},
   "outputs": [],
   "source": [
    "import bs4\n",
    "from urllib.request import Request, urlopen\n",
    "from bs4 import BeautifulSoup as soup\n",
    "from selenium import webdriver\n",
    "from selenium.webdriver.common.by import By\n",
    "from selenium.webdriver.support.ui import WebDriverWait\n",
    "from selenium.webdriver.support import expected_conditions as EC\n",
    "from selenium.common.exceptions import TimeoutException"
   ]
  },
  {
   "cell_type": "code",
   "execution_count": 35,
   "metadata": {},
   "outputs": [],
   "source": [
    "my_url = \"https://www.flightclub.com/air-jordans/air-jordan-1\""
   ]
  },
  {
   "cell_type": "code",
   "execution_count": 3,
   "metadata": {},
   "outputs": [],
   "source": [
    "req = Request(my_url, headers={'User-Agent': 'Mozilla/5.0'})\n",
    "webpage = urlopen(req).read()"
   ]
  },
  {
   "cell_type": "code",
   "execution_count": 77,
   "metadata": {},
   "outputs": [],
   "source": [
    "wait = WebDriverWait(driver, 10)"
   ]
  },
  {
   "cell_type": "code",
   "execution_count": 81,
   "metadata": {},
   "outputs": [],
   "source": [
    "# Set the executable path and initialize the chrome browser \n",
    "def init_driver():\n",
    "    driver = webdriver.Chrome(executable_path='/Users/gabbyvinco/desktop/Python/Web Scraping/Drivers/chromedriver')\n",
    "    return driver"
   ]
  },
  {
   "cell_type": "code",
   "execution_count": 88,
   "metadata": {},
   "outputs": [],
   "source": [
    "def get_data(driver):\n",
    "    driver.get(\"https://www.flightclub.com/air-jordans/air-jordan-1\")\n",
    "    element = driver.find_element_by_xpath('/html/body/div/div[2]/div[1]/div[3]/div/div[2]/div[2]/a[1]').click()\n",
    "    \n",
    "    \n",
    "    \n",
    "    "
   ]
  },
  {
   "cell_type": "code",
   "execution_count": 89,
   "metadata": {},
   "outputs": [],
   "source": [
    "driver = init_driver()\n",
    "get_data(driver)"
   ]
  },
  {
   "cell_type": "code",
   "execution_count": 4,
   "metadata": {},
   "outputs": [
    {
     "data": {
      "text/plain": [
       "<h1 class=\"yjwrzm-2 cVJiTp\" data-qa=\"GridTitle\" data-testid=\"gridTitle\">Air Jordan 1</h1>"
      ]
     },
     "execution_count": 4,
     "metadata": {},
     "output_type": "execute_result"
    }
   ],
   "source": [
    "#html parsing\n",
    "page_soup = soup(webpage, \"html.parser\")\n",
    "page_soup.h1"
   ]
  },
  {
   "cell_type": "code",
   "execution_count": 6,
   "metadata": {},
   "outputs": [
    {
     "data": {
      "text/plain": [
       "<button aria-label=\"Navigation menu\" class=\"sc-1ym5jjq-4 jCpMEX\" data-qa=\"MobileHamburgerMenu\"><span class=\"sc-1eexhri-0 fUZEQh\"><svg class=\"svg-icon \" height=\"16\" viewbox=\"0 0 16 16\" width=\"16\" xmlns=\"http://www.w3.org/2000/svg\"><g fill=\"none\" fill-rule=\"nonzero\" stroke=\"#000\" stroke-linecap=\"square\" stroke-width=\"2\"><path d=\"M1 1h18M1 7h18M1 13h18\"></path></g></svg></span></button>"
      ]
     },
     "execution_count": 6,
     "metadata": {},
     "output_type": "execute_result"
    }
   ],
   "source": [
    "page_soup.body.button"
   ]
  },
  {
   "cell_type": "code",
   "execution_count": 7,
   "metadata": {},
   "outputs": [],
   "source": [
    "#grabs each product\n",
    "containers = page_soup.findAll(\"a\",{\"class\":\"sc-12adlsx-0 hniSJt\"})"
   ]
  },
  {
   "cell_type": "code",
   "execution_count": 8,
   "metadata": {},
   "outputs": [
    {
     "data": {
      "text/plain": [
       "31"
      ]
     },
     "execution_count": 8,
     "metadata": {},
     "output_type": "execute_result"
    }
   ],
   "source": [
    "#looking to see how many we gathered\n",
    "len(containers)\n",
    "#we got 31 because it included the website logo"
   ]
  },
  {
   "cell_type": "code",
   "execution_count": 9,
   "metadata": {},
   "outputs": [
    {
     "data": {
      "text/plain": [
       "<a class=\"sc-12adlsx-0 hniSJt\" color=\"inherit\" href=\"/air-jordan-1-high-og-court-purple-white-black-144204\"><figure class=\"yszfz8-0 WmBgi\" data-qa=\"ProductItems\"><div class=\"yszfz8-1 kOlyPc\"><img alt='Air Jordan 1 High OG \"Court Purple\"' class=\"sc-htpNat ipJcZu\" data-qa=\"ProductItemThumbnail\" data-testid=\"gridItemImage\" src=\"https://cdn.flightclub.com/750/TEMPLATE/144204/1.jpg\" srcset=\"https://cdn.flightclub.com/75/TEMPLATE/144204/1.jpg 75w, https://cdn.flightclub.com/120/TEMPLATE/144204/1.jpg 120w, https://cdn.flightclub.com/150/TEMPLATE/144204/1.jpg 150w, https://cdn.flightclub.com/240/TEMPLATE/144204/1.jpg 240w, https://cdn.flightclub.com/375/TEMPLATE/144204/1.jpg 375w, https://cdn.flightclub.com/500/TEMPLATE/144204/1.jpg 500w, https://cdn.flightclub.com/750/TEMPLATE/144204/1.jpg 750w, https://cdn.flightclub.com/1000/TEMPLATE/144204/1.jpg 1000w, https://cdn.flightclub.com/1250/TEMPLATE/144204/1.jpg 1250w, https://cdn.flightclub.com/1500/TEMPLATE/144204/1.jpg 1500w, https://cdn.flightclub.com/1800/TEMPLATE/144204/1.jpg 1800w, https://cdn.flightclub.com/2200/TEMPLATE/144204/1.jpg 2200w, https://cdn.flightclub.com/2600/TEMPLATE/144204/1.jpg 2600w, https://cdn.flightclub.com/3000/TEMPLATE/144204/1.jpg 3000w, https://cdn.flightclub.com/3500/TEMPLATE/144204/1.jpg 3500w\"/></div><figcaption class=\"yszfz8-3 dqRPIk\"><div class=\"yszfz8-2 cCuuxh\"><div class=\"yszfz8-4 cwJayf\" data-qa=\"ProductItemBrandName\" data-testid=\"gridItemBrand\">Air Jordan</div><h2 class=\"bt2tlo-0 sc-13zm8u8-0 cQeHPV\" data-qa=\"ProductItemTitle\">Air Jordan 1 High OG \"Court Purple\"</h2></div><div class=\"yszfz8-5 lbGKhm\" data-qa=\"ProductItemPrice\" data-testid=\"gridItemPrice\">$235+</div></figcaption></figure></a>"
      ]
     },
     "execution_count": 9,
     "metadata": {},
     "output_type": "execute_result"
    }
   ],
   "source": [
    "#examining the html of the first shoe container\n",
    "containers[1]"
   ]
  },
  {
   "cell_type": "code",
   "execution_count": 10,
   "metadata": {},
   "outputs": [
    {
     "data": {
      "text/plain": [
       "<a class=\"sc-12adlsx-0 hniSJt\" color=\"inherit\" href=\"/\"><img alt=\"Flight Club Logo\" class=\"sc-1ym5jjq-2 grkinc\" data-qa=\"HeaderFlightClubHome\" src=\"/static/flightclub_logo.svg\"/></a>"
      ]
     },
     "execution_count": 10,
     "metadata": {},
     "output_type": "execute_result"
    }
   ],
   "source": [
    "containers.pop(0)"
   ]
  },
  {
   "cell_type": "code",
   "execution_count": 11,
   "metadata": {},
   "outputs": [
    {
     "data": {
      "text/plain": [
       "30"
      ]
     },
     "execution_count": 11,
     "metadata": {},
     "output_type": "execute_result"
    }
   ],
   "source": [
    "len(containers)"
   ]
  },
  {
   "cell_type": "code",
   "execution_count": 12,
   "metadata": {},
   "outputs": [],
   "source": [
    "  links = []"
   ]
  },
  {
   "cell_type": "code",
   "execution_count": 13,
   "metadata": {},
   "outputs": [
    {
     "name": "stdout",
     "output_type": "stream",
     "text": [
      "['/air-jordan-1-high-og-court-purple-white-black-144204']\n",
      "['/air-jordan-1-high-og-court-purple-white-black-144204', '/air-jordan-1-retro-high-og-sail-obsidian-university-blue-152035']\n",
      "['/air-jordan-1-high-og-court-purple-white-black-144204', '/air-jordan-1-retro-high-og-sail-obsidian-university-blue-152035', '/air-jordan-1-retro-high-og-black-pale-vanilla-starfish-147128']\n",
      "['/air-jordan-1-high-og-court-purple-white-black-144204', '/air-jordan-1-retro-high-og-sail-obsidian-university-blue-152035', '/air-jordan-1-retro-high-og-black-pale-vanilla-starfish-147128', '/air-jordan-1-retro-high-og-white-black-varsity-red-012234']\n",
      "['/air-jordan-1-high-og-court-purple-white-black-144204', '/air-jordan-1-retro-high-og-sail-obsidian-university-blue-152035', '/air-jordan-1-retro-high-og-black-pale-vanilla-starfish-147128', '/air-jordan-1-retro-high-og-white-black-varsity-red-012234', '/air-jordan-1-retro-high-og-game-royal-summit-white-black-803480']\n",
      "['/air-jordan-1-high-og-court-purple-white-black-144204', '/air-jordan-1-retro-high-og-sail-obsidian-university-blue-152035', '/air-jordan-1-retro-high-og-black-pale-vanilla-starfish-147128', '/air-jordan-1-retro-high-og-white-black-varsity-red-012234', '/air-jordan-1-retro-high-og-game-royal-summit-white-black-803480', '/air-jordan-1-high-og-ts-sp-sail-black-dark-mocha-806920']\n",
      "['/air-jordan-1-high-og-court-purple-white-black-144204', '/air-jordan-1-retro-high-og-sail-obsidian-university-blue-152035', '/air-jordan-1-retro-high-og-black-pale-vanilla-starfish-147128', '/air-jordan-1-retro-high-og-white-black-varsity-red-012234', '/air-jordan-1-retro-high-og-game-royal-summit-white-black-803480', '/air-jordan-1-high-og-ts-sp-sail-black-dark-mocha-806920', '/air-jordan-1-retro-high-og-black-white-gym-red-pine-green-135278']\n",
      "['/air-jordan-1-high-og-court-purple-white-black-144204', '/air-jordan-1-retro-high-og-sail-obsidian-university-blue-152035', '/air-jordan-1-retro-high-og-black-pale-vanilla-starfish-147128', '/air-jordan-1-retro-high-og-white-black-varsity-red-012234', '/air-jordan-1-retro-high-og-game-royal-summit-white-black-803480', '/air-jordan-1-high-og-ts-sp-sail-black-dark-mocha-806920', '/air-jordan-1-retro-high-og-black-white-gym-red-pine-green-135278', '/air-jordan-1-retro-high-og-black-white-medium-grey-803598']\n",
      "['/air-jordan-1-high-og-court-purple-white-black-144204', '/air-jordan-1-retro-high-og-sail-obsidian-university-blue-152035', '/air-jordan-1-retro-high-og-black-pale-vanilla-starfish-147128', '/air-jordan-1-retro-high-og-white-black-varsity-red-012234', '/air-jordan-1-retro-high-og-game-royal-summit-white-black-803480', '/air-jordan-1-high-og-ts-sp-sail-black-dark-mocha-806920', '/air-jordan-1-retro-high-og-black-white-gym-red-pine-green-135278', '/air-jordan-1-retro-high-og-black-white-medium-grey-803598', '/wmns-air-jordan-1-retro-high-og-obsidian-blue-chill-white-806667']\n",
      "['/air-jordan-1-high-og-court-purple-white-black-144204', '/air-jordan-1-retro-high-og-sail-obsidian-university-blue-152035', '/air-jordan-1-retro-high-og-black-pale-vanilla-starfish-147128', '/air-jordan-1-retro-high-og-white-black-varsity-red-012234', '/air-jordan-1-retro-high-og-game-royal-summit-white-black-803480', '/air-jordan-1-high-og-ts-sp-sail-black-dark-mocha-806920', '/air-jordan-1-retro-high-og-black-white-gym-red-pine-green-135278', '/air-jordan-1-retro-high-og-black-white-medium-grey-803598', '/wmns-air-jordan-1-retro-high-og-obsidian-blue-chill-white-806667', '/air-jordan-1-retro-high-og-gym-red-black-summit-white-802799']\n",
      "['/air-jordan-1-high-og-court-purple-white-black-144204', '/air-jordan-1-retro-high-og-sail-obsidian-university-blue-152035', '/air-jordan-1-retro-high-og-black-pale-vanilla-starfish-147128', '/air-jordan-1-retro-high-og-white-black-varsity-red-012234', '/air-jordan-1-retro-high-og-game-royal-summit-white-black-803480', '/air-jordan-1-high-og-ts-sp-sail-black-dark-mocha-806920', '/air-jordan-1-retro-high-og-black-white-gym-red-pine-green-135278', '/air-jordan-1-retro-high-og-black-white-medium-grey-803598', '/wmns-air-jordan-1-retro-high-og-obsidian-blue-chill-white-806667', '/air-jordan-1-retro-high-og-gym-red-black-summit-white-802799', '/wmns-air-jordan-1-high-og-black-dk-powder-blue-gym-red-149288']\n",
      "['/air-jordan-1-high-og-court-purple-white-black-144204', '/air-jordan-1-retro-high-og-sail-obsidian-university-blue-152035', '/air-jordan-1-retro-high-og-black-pale-vanilla-starfish-147128', '/air-jordan-1-retro-high-og-white-black-varsity-red-012234', '/air-jordan-1-retro-high-og-game-royal-summit-white-black-803480', '/air-jordan-1-high-og-ts-sp-sail-black-dark-mocha-806920', '/air-jordan-1-retro-high-og-black-white-gym-red-pine-green-135278', '/air-jordan-1-retro-high-og-black-white-medium-grey-803598', '/wmns-air-jordan-1-retro-high-og-obsidian-blue-chill-white-806667', '/air-jordan-1-retro-high-og-gym-red-black-summit-white-802799', '/wmns-air-jordan-1-high-og-black-dk-powder-blue-gym-red-149288', '/air-jordan-1-x-off-white-nrg-white-dark-powder-blue-cone-804093']\n",
      "['/air-jordan-1-high-og-court-purple-white-black-144204', '/air-jordan-1-retro-high-og-sail-obsidian-university-blue-152035', '/air-jordan-1-retro-high-og-black-pale-vanilla-starfish-147128', '/air-jordan-1-retro-high-og-white-black-varsity-red-012234', '/air-jordan-1-retro-high-og-game-royal-summit-white-black-803480', '/air-jordan-1-high-og-ts-sp-sail-black-dark-mocha-806920', '/air-jordan-1-retro-high-og-black-white-gym-red-pine-green-135278', '/air-jordan-1-retro-high-og-black-white-medium-grey-803598', '/wmns-air-jordan-1-retro-high-og-obsidian-blue-chill-white-806667', '/air-jordan-1-retro-high-og-gym-red-black-summit-white-802799', '/wmns-air-jordan-1-high-og-black-dk-powder-blue-gym-red-149288', '/air-jordan-1-x-off-white-nrg-white-dark-powder-blue-cone-804093', '/wmns-air-jordan-1-mid-se-white-black-lightbulb-team-orange-166381']\n",
      "['/air-jordan-1-high-og-court-purple-white-black-144204', '/air-jordan-1-retro-high-og-sail-obsidian-university-blue-152035', '/air-jordan-1-retro-high-og-black-pale-vanilla-starfish-147128', '/air-jordan-1-retro-high-og-white-black-varsity-red-012234', '/air-jordan-1-retro-high-og-game-royal-summit-white-black-803480', '/air-jordan-1-high-og-ts-sp-sail-black-dark-mocha-806920', '/air-jordan-1-retro-high-og-black-white-gym-red-pine-green-135278', '/air-jordan-1-retro-high-og-black-white-medium-grey-803598', '/wmns-air-jordan-1-retro-high-og-obsidian-blue-chill-white-806667', '/air-jordan-1-retro-high-og-gym-red-black-summit-white-802799', '/wmns-air-jordan-1-high-og-black-dk-powder-blue-gym-red-149288', '/air-jordan-1-x-off-white-nrg-white-dark-powder-blue-cone-804093', '/wmns-air-jordan-1-mid-se-white-black-lightbulb-team-orange-166381', '/air-jordan-1-retro-high-og-black-crimson-tint-white-137821']\n",
      "['/air-jordan-1-high-og-court-purple-white-black-144204', '/air-jordan-1-retro-high-og-sail-obsidian-university-blue-152035', '/air-jordan-1-retro-high-og-black-pale-vanilla-starfish-147128', '/air-jordan-1-retro-high-og-white-black-varsity-red-012234', '/air-jordan-1-retro-high-og-game-royal-summit-white-black-803480', '/air-jordan-1-high-og-ts-sp-sail-black-dark-mocha-806920', '/air-jordan-1-retro-high-og-black-white-gym-red-pine-green-135278', '/air-jordan-1-retro-high-og-black-white-medium-grey-803598', '/wmns-air-jordan-1-retro-high-og-obsidian-blue-chill-white-806667', '/air-jordan-1-retro-high-og-gym-red-black-summit-white-802799', '/wmns-air-jordan-1-high-og-black-dk-powder-blue-gym-red-149288', '/air-jordan-1-x-off-white-nrg-white-dark-powder-blue-cone-804093', '/wmns-air-jordan-1-mid-se-white-black-lightbulb-team-orange-166381', '/air-jordan-1-retro-high-og-black-crimson-tint-white-137821', '/air-jordan-1-retro-high-og-black-gym-red-white-140229']\n",
      "['/air-jordan-1-high-og-court-purple-white-black-144204', '/air-jordan-1-retro-high-og-sail-obsidian-university-blue-152035', '/air-jordan-1-retro-high-og-black-pale-vanilla-starfish-147128', '/air-jordan-1-retro-high-og-white-black-varsity-red-012234', '/air-jordan-1-retro-high-og-game-royal-summit-white-black-803480', '/air-jordan-1-high-og-ts-sp-sail-black-dark-mocha-806920', '/air-jordan-1-retro-high-og-black-white-gym-red-pine-green-135278', '/air-jordan-1-retro-high-og-black-white-medium-grey-803598', '/wmns-air-jordan-1-retro-high-og-obsidian-blue-chill-white-806667', '/air-jordan-1-retro-high-og-gym-red-black-summit-white-802799', '/wmns-air-jordan-1-high-og-black-dk-powder-blue-gym-red-149288', '/air-jordan-1-x-off-white-nrg-white-dark-powder-blue-cone-804093', '/wmns-air-jordan-1-mid-se-white-black-lightbulb-team-orange-166381', '/air-jordan-1-retro-high-og-black-crimson-tint-white-137821', '/air-jordan-1-retro-high-og-black-gym-red-white-140229', '/air-jordan-1-retro-high-og-black-varsity-red-white-012496']\n",
      "['/air-jordan-1-high-og-court-purple-white-black-144204', '/air-jordan-1-retro-high-og-sail-obsidian-university-blue-152035', '/air-jordan-1-retro-high-og-black-pale-vanilla-starfish-147128', '/air-jordan-1-retro-high-og-white-black-varsity-red-012234', '/air-jordan-1-retro-high-og-game-royal-summit-white-black-803480', '/air-jordan-1-high-og-ts-sp-sail-black-dark-mocha-806920', '/air-jordan-1-retro-high-og-black-white-gym-red-pine-green-135278', '/air-jordan-1-retro-high-og-black-white-medium-grey-803598', '/wmns-air-jordan-1-retro-high-og-obsidian-blue-chill-white-806667', '/air-jordan-1-retro-high-og-gym-red-black-summit-white-802799', '/wmns-air-jordan-1-high-og-black-dk-powder-blue-gym-red-149288', '/air-jordan-1-x-off-white-nrg-white-dark-powder-blue-cone-804093', '/wmns-air-jordan-1-mid-se-white-black-lightbulb-team-orange-166381', '/air-jordan-1-retro-high-og-black-crimson-tint-white-137821', '/air-jordan-1-retro-high-og-black-gym-red-white-140229', '/air-jordan-1-retro-high-og-black-varsity-red-white-012496', '/air-jordan-1-high-og-fearless-white-university-blue-varsity-red-black-149390']\n",
      "['/air-jordan-1-high-og-court-purple-white-black-144204', '/air-jordan-1-retro-high-og-sail-obsidian-university-blue-152035', '/air-jordan-1-retro-high-og-black-pale-vanilla-starfish-147128', '/air-jordan-1-retro-high-og-white-black-varsity-red-012234', '/air-jordan-1-retro-high-og-game-royal-summit-white-black-803480', '/air-jordan-1-high-og-ts-sp-sail-black-dark-mocha-806920', '/air-jordan-1-retro-high-og-black-white-gym-red-pine-green-135278', '/air-jordan-1-retro-high-og-black-white-medium-grey-803598', '/wmns-air-jordan-1-retro-high-og-obsidian-blue-chill-white-806667', '/air-jordan-1-retro-high-og-gym-red-black-summit-white-802799', '/wmns-air-jordan-1-high-og-black-dk-powder-blue-gym-red-149288', '/air-jordan-1-x-off-white-nrg-white-dark-powder-blue-cone-804093', '/wmns-air-jordan-1-mid-se-white-black-lightbulb-team-orange-166381', '/air-jordan-1-retro-high-og-black-crimson-tint-white-137821', '/air-jordan-1-retro-high-og-black-gym-red-white-140229', '/air-jordan-1-retro-high-og-black-varsity-red-white-012496', '/air-jordan-1-high-og-fearless-white-university-blue-varsity-red-black-149390', '/air-jordan-1-retro-high-og-turbo-green-sail-white-806889']\n",
      "['/air-jordan-1-high-og-court-purple-white-black-144204', '/air-jordan-1-retro-high-og-sail-obsidian-university-blue-152035', '/air-jordan-1-retro-high-og-black-pale-vanilla-starfish-147128', '/air-jordan-1-retro-high-og-white-black-varsity-red-012234', '/air-jordan-1-retro-high-og-game-royal-summit-white-black-803480', '/air-jordan-1-high-og-ts-sp-sail-black-dark-mocha-806920', '/air-jordan-1-retro-high-og-black-white-gym-red-pine-green-135278', '/air-jordan-1-retro-high-og-black-white-medium-grey-803598', '/wmns-air-jordan-1-retro-high-og-obsidian-blue-chill-white-806667', '/air-jordan-1-retro-high-og-gym-red-black-summit-white-802799', '/wmns-air-jordan-1-high-og-black-dk-powder-blue-gym-red-149288', '/air-jordan-1-x-off-white-nrg-white-dark-powder-blue-cone-804093', '/wmns-air-jordan-1-mid-se-white-black-lightbulb-team-orange-166381', '/air-jordan-1-retro-high-og-black-crimson-tint-white-137821', '/air-jordan-1-retro-high-og-black-gym-red-white-140229', '/air-jordan-1-retro-high-og-black-varsity-red-white-012496', '/air-jordan-1-high-og-fearless-white-university-blue-varsity-red-black-149390', '/air-jordan-1-retro-high-og-turbo-green-sail-white-806889', '/air-jordan-1-retro-high-zoom-white-racer-blue-white-164667']\n",
      "['/air-jordan-1-high-og-court-purple-white-black-144204', '/air-jordan-1-retro-high-og-sail-obsidian-university-blue-152035', '/air-jordan-1-retro-high-og-black-pale-vanilla-starfish-147128', '/air-jordan-1-retro-high-og-white-black-varsity-red-012234', '/air-jordan-1-retro-high-og-game-royal-summit-white-black-803480', '/air-jordan-1-high-og-ts-sp-sail-black-dark-mocha-806920', '/air-jordan-1-retro-high-og-black-white-gym-red-pine-green-135278', '/air-jordan-1-retro-high-og-black-white-medium-grey-803598', '/wmns-air-jordan-1-retro-high-og-obsidian-blue-chill-white-806667', '/air-jordan-1-retro-high-og-gym-red-black-summit-white-802799', '/wmns-air-jordan-1-high-og-black-dk-powder-blue-gym-red-149288', '/air-jordan-1-x-off-white-nrg-white-dark-powder-blue-cone-804093', '/wmns-air-jordan-1-mid-se-white-black-lightbulb-team-orange-166381', '/air-jordan-1-retro-high-og-black-crimson-tint-white-137821', '/air-jordan-1-retro-high-og-black-gym-red-white-140229', '/air-jordan-1-retro-high-og-black-varsity-red-white-012496', '/air-jordan-1-high-og-fearless-white-university-blue-varsity-red-black-149390', '/air-jordan-1-retro-high-og-turbo-green-sail-white-806889', '/air-jordan-1-retro-high-zoom-white-racer-blue-white-164667', '/air-jordan-1-retro-high-og-gs-sail-obsidian-university-blue-152180']\n",
      "['/air-jordan-1-high-og-court-purple-white-black-144204', '/air-jordan-1-retro-high-og-sail-obsidian-university-blue-152035', '/air-jordan-1-retro-high-og-black-pale-vanilla-starfish-147128', '/air-jordan-1-retro-high-og-white-black-varsity-red-012234', '/air-jordan-1-retro-high-og-game-royal-summit-white-black-803480', '/air-jordan-1-high-og-ts-sp-sail-black-dark-mocha-806920', '/air-jordan-1-retro-high-og-black-white-gym-red-pine-green-135278', '/air-jordan-1-retro-high-og-black-white-medium-grey-803598', '/wmns-air-jordan-1-retro-high-og-obsidian-blue-chill-white-806667', '/air-jordan-1-retro-high-og-gym-red-black-summit-white-802799', '/wmns-air-jordan-1-high-og-black-dk-powder-blue-gym-red-149288', '/air-jordan-1-x-off-white-nrg-white-dark-powder-blue-cone-804093', '/wmns-air-jordan-1-mid-se-white-black-lightbulb-team-orange-166381', '/air-jordan-1-retro-high-og-black-crimson-tint-white-137821', '/air-jordan-1-retro-high-og-black-gym-red-white-140229', '/air-jordan-1-retro-high-og-black-varsity-red-white-012496', '/air-jordan-1-high-og-fearless-white-university-blue-varsity-red-black-149390', '/air-jordan-1-retro-high-og-turbo-green-sail-white-806889', '/air-jordan-1-retro-high-zoom-white-racer-blue-white-164667', '/air-jordan-1-retro-high-og-gs-sail-obsidian-university-blue-152180', '/air-jordan-1-retro-high-og-black-white-sail-gym-red-142282']\n",
      "['/air-jordan-1-high-og-court-purple-white-black-144204', '/air-jordan-1-retro-high-og-sail-obsidian-university-blue-152035', '/air-jordan-1-retro-high-og-black-pale-vanilla-starfish-147128', '/air-jordan-1-retro-high-og-white-black-varsity-red-012234', '/air-jordan-1-retro-high-og-game-royal-summit-white-black-803480', '/air-jordan-1-high-og-ts-sp-sail-black-dark-mocha-806920', '/air-jordan-1-retro-high-og-black-white-gym-red-pine-green-135278', '/air-jordan-1-retro-high-og-black-white-medium-grey-803598', '/wmns-air-jordan-1-retro-high-og-obsidian-blue-chill-white-806667', '/air-jordan-1-retro-high-og-gym-red-black-summit-white-802799', '/wmns-air-jordan-1-high-og-black-dk-powder-blue-gym-red-149288', '/air-jordan-1-x-off-white-nrg-white-dark-powder-blue-cone-804093', '/wmns-air-jordan-1-mid-se-white-black-lightbulb-team-orange-166381', '/air-jordan-1-retro-high-og-black-crimson-tint-white-137821', '/air-jordan-1-retro-high-og-black-gym-red-white-140229', '/air-jordan-1-retro-high-og-black-varsity-red-white-012496', '/air-jordan-1-high-og-fearless-white-university-blue-varsity-red-black-149390', '/air-jordan-1-retro-high-og-turbo-green-sail-white-806889', '/air-jordan-1-retro-high-zoom-white-racer-blue-white-164667', '/air-jordan-1-retro-high-og-gs-sail-obsidian-university-blue-152180', '/air-jordan-1-retro-high-og-black-white-sail-gym-red-142282', '/air-jordan-1-low-og-sp-t-black-sail-dark-mocha-146236']\n",
      "['/air-jordan-1-high-og-court-purple-white-black-144204', '/air-jordan-1-retro-high-og-sail-obsidian-university-blue-152035', '/air-jordan-1-retro-high-og-black-pale-vanilla-starfish-147128', '/air-jordan-1-retro-high-og-white-black-varsity-red-012234', '/air-jordan-1-retro-high-og-game-royal-summit-white-black-803480', '/air-jordan-1-high-og-ts-sp-sail-black-dark-mocha-806920', '/air-jordan-1-retro-high-og-black-white-gym-red-pine-green-135278', '/air-jordan-1-retro-high-og-black-white-medium-grey-803598', '/wmns-air-jordan-1-retro-high-og-obsidian-blue-chill-white-806667', '/air-jordan-1-retro-high-og-gym-red-black-summit-white-802799', '/wmns-air-jordan-1-high-og-black-dk-powder-blue-gym-red-149288', '/air-jordan-1-x-off-white-nrg-white-dark-powder-blue-cone-804093', '/wmns-air-jordan-1-mid-se-white-black-lightbulb-team-orange-166381', '/air-jordan-1-retro-high-og-black-crimson-tint-white-137821', '/air-jordan-1-retro-high-og-black-gym-red-white-140229', '/air-jordan-1-retro-high-og-black-varsity-red-white-012496', '/air-jordan-1-high-og-fearless-white-university-blue-varsity-red-black-149390', '/air-jordan-1-retro-high-og-turbo-green-sail-white-806889', '/air-jordan-1-retro-high-zoom-white-racer-blue-white-164667', '/air-jordan-1-retro-high-og-gs-sail-obsidian-university-blue-152180', '/air-jordan-1-retro-high-og-black-white-sail-gym-red-142282', '/air-jordan-1-low-og-sp-t-black-sail-dark-mocha-146236', '/wmns-air-jordan-1high-og-black-black-white-varsity-red-140740']\n",
      "['/air-jordan-1-high-og-court-purple-white-black-144204', '/air-jordan-1-retro-high-og-sail-obsidian-university-blue-152035', '/air-jordan-1-retro-high-og-black-pale-vanilla-starfish-147128', '/air-jordan-1-retro-high-og-white-black-varsity-red-012234', '/air-jordan-1-retro-high-og-game-royal-summit-white-black-803480', '/air-jordan-1-high-og-ts-sp-sail-black-dark-mocha-806920', '/air-jordan-1-retro-high-og-black-white-gym-red-pine-green-135278', '/air-jordan-1-retro-high-og-black-white-medium-grey-803598', '/wmns-air-jordan-1-retro-high-og-obsidian-blue-chill-white-806667', '/air-jordan-1-retro-high-og-gym-red-black-summit-white-802799', '/wmns-air-jordan-1-high-og-black-dk-powder-blue-gym-red-149288', '/air-jordan-1-x-off-white-nrg-white-dark-powder-blue-cone-804093', '/wmns-air-jordan-1-mid-se-white-black-lightbulb-team-orange-166381', '/air-jordan-1-retro-high-og-black-crimson-tint-white-137821', '/air-jordan-1-retro-high-og-black-gym-red-white-140229', '/air-jordan-1-retro-high-og-black-varsity-red-white-012496', '/air-jordan-1-high-og-fearless-white-university-blue-varsity-red-black-149390', '/air-jordan-1-retro-high-og-turbo-green-sail-white-806889', '/air-jordan-1-retro-high-zoom-white-racer-blue-white-164667', '/air-jordan-1-retro-high-og-gs-sail-obsidian-university-blue-152180', '/air-jordan-1-retro-high-og-black-white-sail-gym-red-142282', '/air-jordan-1-low-og-sp-t-black-sail-dark-mocha-146236', '/wmns-air-jordan-1high-og-black-black-white-varsity-red-140740', '/air-jordan-1-retro-high-og-gs-red-green-575441-030']\n",
      "['/air-jordan-1-high-og-court-purple-white-black-144204', '/air-jordan-1-retro-high-og-sail-obsidian-university-blue-152035', '/air-jordan-1-retro-high-og-black-pale-vanilla-starfish-147128', '/air-jordan-1-retro-high-og-white-black-varsity-red-012234', '/air-jordan-1-retro-high-og-game-royal-summit-white-black-803480', '/air-jordan-1-high-og-ts-sp-sail-black-dark-mocha-806920', '/air-jordan-1-retro-high-og-black-white-gym-red-pine-green-135278', '/air-jordan-1-retro-high-og-black-white-medium-grey-803598', '/wmns-air-jordan-1-retro-high-og-obsidian-blue-chill-white-806667', '/air-jordan-1-retro-high-og-gym-red-black-summit-white-802799', '/wmns-air-jordan-1-high-og-black-dk-powder-blue-gym-red-149288', '/air-jordan-1-x-off-white-nrg-white-dark-powder-blue-cone-804093', '/wmns-air-jordan-1-mid-se-white-black-lightbulb-team-orange-166381', '/air-jordan-1-retro-high-og-black-crimson-tint-white-137821', '/air-jordan-1-retro-high-og-black-gym-red-white-140229', '/air-jordan-1-retro-high-og-black-varsity-red-white-012496', '/air-jordan-1-high-og-fearless-white-university-blue-varsity-red-black-149390', '/air-jordan-1-retro-high-og-turbo-green-sail-white-806889', '/air-jordan-1-retro-high-zoom-white-racer-blue-white-164667', '/air-jordan-1-retro-high-og-gs-sail-obsidian-university-blue-152180', '/air-jordan-1-retro-high-og-black-white-sail-gym-red-142282', '/air-jordan-1-low-og-sp-t-black-sail-dark-mocha-146236', '/wmns-air-jordan-1high-og-black-black-white-varsity-red-140740', '/air-jordan-1-retro-high-og-gs-red-green-575441-030', '/air-jordan-1-retro-high-og-black-royal-white-800564']\n",
      "['/air-jordan-1-high-og-court-purple-white-black-144204', '/air-jordan-1-retro-high-og-sail-obsidian-university-blue-152035', '/air-jordan-1-retro-high-og-black-pale-vanilla-starfish-147128', '/air-jordan-1-retro-high-og-white-black-varsity-red-012234', '/air-jordan-1-retro-high-og-game-royal-summit-white-black-803480', '/air-jordan-1-high-og-ts-sp-sail-black-dark-mocha-806920', '/air-jordan-1-retro-high-og-black-white-gym-red-pine-green-135278', '/air-jordan-1-retro-high-og-black-white-medium-grey-803598', '/wmns-air-jordan-1-retro-high-og-obsidian-blue-chill-white-806667', '/air-jordan-1-retro-high-og-gym-red-black-summit-white-802799', '/wmns-air-jordan-1-high-og-black-dk-powder-blue-gym-red-149288', '/air-jordan-1-x-off-white-nrg-white-dark-powder-blue-cone-804093', '/wmns-air-jordan-1-mid-se-white-black-lightbulb-team-orange-166381', '/air-jordan-1-retro-high-og-black-crimson-tint-white-137821', '/air-jordan-1-retro-high-og-black-gym-red-white-140229', '/air-jordan-1-retro-high-og-black-varsity-red-white-012496', '/air-jordan-1-high-og-fearless-white-university-blue-varsity-red-black-149390', '/air-jordan-1-retro-high-og-turbo-green-sail-white-806889', '/air-jordan-1-retro-high-zoom-white-racer-blue-white-164667', '/air-jordan-1-retro-high-og-gs-sail-obsidian-university-blue-152180', '/air-jordan-1-retro-high-og-black-white-sail-gym-red-142282', '/air-jordan-1-low-og-sp-t-black-sail-dark-mocha-146236', '/wmns-air-jordan-1high-og-black-black-white-varsity-red-140740', '/air-jordan-1-retro-high-og-gs-red-green-575441-030', '/air-jordan-1-retro-high-og-black-royal-white-800564', '/air-jordan-1-mid-chicago-black-toe-554724-069']\n",
      "['/air-jordan-1-high-og-court-purple-white-black-144204', '/air-jordan-1-retro-high-og-sail-obsidian-university-blue-152035', '/air-jordan-1-retro-high-og-black-pale-vanilla-starfish-147128', '/air-jordan-1-retro-high-og-white-black-varsity-red-012234', '/air-jordan-1-retro-high-og-game-royal-summit-white-black-803480', '/air-jordan-1-high-og-ts-sp-sail-black-dark-mocha-806920', '/air-jordan-1-retro-high-og-black-white-gym-red-pine-green-135278', '/air-jordan-1-retro-high-og-black-white-medium-grey-803598', '/wmns-air-jordan-1-retro-high-og-obsidian-blue-chill-white-806667', '/air-jordan-1-retro-high-og-gym-red-black-summit-white-802799', '/wmns-air-jordan-1-high-og-black-dk-powder-blue-gym-red-149288', '/air-jordan-1-x-off-white-nrg-white-dark-powder-blue-cone-804093', '/wmns-air-jordan-1-mid-se-white-black-lightbulb-team-orange-166381', '/air-jordan-1-retro-high-og-black-crimson-tint-white-137821', '/air-jordan-1-retro-high-og-black-gym-red-white-140229', '/air-jordan-1-retro-high-og-black-varsity-red-white-012496', '/air-jordan-1-high-og-fearless-white-university-blue-varsity-red-black-149390', '/air-jordan-1-retro-high-og-turbo-green-sail-white-806889', '/air-jordan-1-retro-high-zoom-white-racer-blue-white-164667', '/air-jordan-1-retro-high-og-gs-sail-obsidian-university-blue-152180', '/air-jordan-1-retro-high-og-black-white-sail-gym-red-142282', '/air-jordan-1-low-og-sp-t-black-sail-dark-mocha-146236', '/wmns-air-jordan-1high-og-black-black-white-varsity-red-140740', '/air-jordan-1-retro-high-og-gs-red-green-575441-030', '/air-jordan-1-retro-high-og-black-royal-white-800564', '/air-jordan-1-mid-chicago-black-toe-554724-069', '/the-10-air-jordan-1-white-black-varsity-red-black-801781']\n",
      "['/air-jordan-1-high-og-court-purple-white-black-144204', '/air-jordan-1-retro-high-og-sail-obsidian-university-blue-152035', '/air-jordan-1-retro-high-og-black-pale-vanilla-starfish-147128', '/air-jordan-1-retro-high-og-white-black-varsity-red-012234', '/air-jordan-1-retro-high-og-game-royal-summit-white-black-803480', '/air-jordan-1-high-og-ts-sp-sail-black-dark-mocha-806920', '/air-jordan-1-retro-high-og-black-white-gym-red-pine-green-135278', '/air-jordan-1-retro-high-og-black-white-medium-grey-803598', '/wmns-air-jordan-1-retro-high-og-obsidian-blue-chill-white-806667', '/air-jordan-1-retro-high-og-gym-red-black-summit-white-802799', '/wmns-air-jordan-1-high-og-black-dk-powder-blue-gym-red-149288', '/air-jordan-1-x-off-white-nrg-white-dark-powder-blue-cone-804093', '/wmns-air-jordan-1-mid-se-white-black-lightbulb-team-orange-166381', '/air-jordan-1-retro-high-og-black-crimson-tint-white-137821', '/air-jordan-1-retro-high-og-black-gym-red-white-140229', '/air-jordan-1-retro-high-og-black-varsity-red-white-012496', '/air-jordan-1-high-og-fearless-white-university-blue-varsity-red-black-149390', '/air-jordan-1-retro-high-og-turbo-green-sail-white-806889', '/air-jordan-1-retro-high-zoom-white-racer-blue-white-164667', '/air-jordan-1-retro-high-og-gs-sail-obsidian-university-blue-152180', '/air-jordan-1-retro-high-og-black-white-sail-gym-red-142282', '/air-jordan-1-low-og-sp-t-black-sail-dark-mocha-146236', '/wmns-air-jordan-1high-og-black-black-white-varsity-red-140740', '/air-jordan-1-retro-high-og-gs-red-green-575441-030', '/air-jordan-1-retro-high-og-black-royal-white-800564', '/air-jordan-1-mid-chicago-black-toe-554724-069', '/the-10-air-jordan-1-white-black-varsity-red-black-801781', '/air-jordan-1-retro-high-sb-light-bone-crimson-tint-hyper-pink-black-135711']\n",
      "['/air-jordan-1-high-og-court-purple-white-black-144204', '/air-jordan-1-retro-high-og-sail-obsidian-university-blue-152035', '/air-jordan-1-retro-high-og-black-pale-vanilla-starfish-147128', '/air-jordan-1-retro-high-og-white-black-varsity-red-012234', '/air-jordan-1-retro-high-og-game-royal-summit-white-black-803480', '/air-jordan-1-high-og-ts-sp-sail-black-dark-mocha-806920', '/air-jordan-1-retro-high-og-black-white-gym-red-pine-green-135278', '/air-jordan-1-retro-high-og-black-white-medium-grey-803598', '/wmns-air-jordan-1-retro-high-og-obsidian-blue-chill-white-806667', '/air-jordan-1-retro-high-og-gym-red-black-summit-white-802799', '/wmns-air-jordan-1-high-og-black-dk-powder-blue-gym-red-149288', '/air-jordan-1-x-off-white-nrg-white-dark-powder-blue-cone-804093', '/wmns-air-jordan-1-mid-se-white-black-lightbulb-team-orange-166381', '/air-jordan-1-retro-high-og-black-crimson-tint-white-137821', '/air-jordan-1-retro-high-og-black-gym-red-white-140229', '/air-jordan-1-retro-high-og-black-varsity-red-white-012496', '/air-jordan-1-high-og-fearless-white-university-blue-varsity-red-black-149390', '/air-jordan-1-retro-high-og-turbo-green-sail-white-806889', '/air-jordan-1-retro-high-zoom-white-racer-blue-white-164667', '/air-jordan-1-retro-high-og-gs-sail-obsidian-university-blue-152180', '/air-jordan-1-retro-high-og-black-white-sail-gym-red-142282', '/air-jordan-1-low-og-sp-t-black-sail-dark-mocha-146236', '/wmns-air-jordan-1high-og-black-black-white-varsity-red-140740', '/air-jordan-1-retro-high-og-gs-red-green-575441-030', '/air-jordan-1-retro-high-og-black-royal-white-800564', '/air-jordan-1-mid-chicago-black-toe-554724-069', '/the-10-air-jordan-1-white-black-varsity-red-black-801781', '/air-jordan-1-retro-high-sb-light-bone-crimson-tint-hyper-pink-black-135711', '/wmns-air-jordan-1-retro-high-og-black-black-metallic-gold-141219']\n",
      "['/air-jordan-1-high-og-court-purple-white-black-144204', '/air-jordan-1-retro-high-og-sail-obsidian-university-blue-152035', '/air-jordan-1-retro-high-og-black-pale-vanilla-starfish-147128', '/air-jordan-1-retro-high-og-white-black-varsity-red-012234', '/air-jordan-1-retro-high-og-game-royal-summit-white-black-803480', '/air-jordan-1-high-og-ts-sp-sail-black-dark-mocha-806920', '/air-jordan-1-retro-high-og-black-white-gym-red-pine-green-135278', '/air-jordan-1-retro-high-og-black-white-medium-grey-803598', '/wmns-air-jordan-1-retro-high-og-obsidian-blue-chill-white-806667', '/air-jordan-1-retro-high-og-gym-red-black-summit-white-802799', '/wmns-air-jordan-1-high-og-black-dk-powder-blue-gym-red-149288', '/air-jordan-1-x-off-white-nrg-white-dark-powder-blue-cone-804093', '/wmns-air-jordan-1-mid-se-white-black-lightbulb-team-orange-166381', '/air-jordan-1-retro-high-og-black-crimson-tint-white-137821', '/air-jordan-1-retro-high-og-black-gym-red-white-140229', '/air-jordan-1-retro-high-og-black-varsity-red-white-012496', '/air-jordan-1-high-og-fearless-white-university-blue-varsity-red-black-149390', '/air-jordan-1-retro-high-og-turbo-green-sail-white-806889', '/air-jordan-1-retro-high-zoom-white-racer-blue-white-164667', '/air-jordan-1-retro-high-og-gs-sail-obsidian-university-blue-152180', '/air-jordan-1-retro-high-og-black-white-sail-gym-red-142282', '/air-jordan-1-low-og-sp-t-black-sail-dark-mocha-146236', '/wmns-air-jordan-1high-og-black-black-white-varsity-red-140740', '/air-jordan-1-retro-high-og-gs-red-green-575441-030', '/air-jordan-1-retro-high-og-black-royal-white-800564', '/air-jordan-1-mid-chicago-black-toe-554724-069', '/the-10-air-jordan-1-white-black-varsity-red-black-801781', '/air-jordan-1-retro-high-sb-light-bone-crimson-tint-hyper-pink-black-135711', '/wmns-air-jordan-1-retro-high-og-black-black-metallic-gold-141219', '/air-jordan-1-retro-high-og-black-white-varsity-red-012566']\n"
     ]
    }
   ],
   "source": [
    "for url in containers:\n",
    "    links.append(url.get(\"href\"))\n",
    "    print(links)"
   ]
  },
  {
   "cell_type": "code",
   "execution_count": null,
   "metadata": {},
   "outputs": [],
   "source": []
  },
  {
   "cell_type": "code",
   "execution_count": null,
   "metadata": {},
   "outputs": [],
   "source": []
  },
  {
   "cell_type": "code",
   "execution_count": null,
   "metadata": {},
   "outputs": [],
   "source": []
  },
  {
   "cell_type": "code",
   "execution_count": null,
   "metadata": {},
   "outputs": [],
   "source": []
  },
  {
   "cell_type": "code",
   "execution_count": null,
   "metadata": {},
   "outputs": [],
   "source": []
  },
  {
   "cell_type": "code",
   "execution_count": null,
   "metadata": {},
   "outputs": [],
   "source": []
  }
 ],
 "metadata": {
  "kernelspec": {
   "display_name": "Python 3",
   "language": "python",
   "name": "python3"
  },
  "language_info": {
   "codemirror_mode": {
    "name": "ipython",
    "version": 3
   },
   "file_extension": ".py",
   "mimetype": "text/x-python",
   "name": "python",
   "nbconvert_exporter": "python",
   "pygments_lexer": "ipython3",
   "version": "3.7.0"
  }
 },
 "nbformat": 4,
 "nbformat_minor": 2
}
