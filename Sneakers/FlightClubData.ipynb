{
 "cells": [
  {
   "cell_type": "code",
   "execution_count": 1,
   "metadata": {},
   "outputs": [],
   "source": [
    "import bs4\n",
    "from urllib.request import Request, urlopen\n",
    "from bs4 import BeautifulSoup as soup\n",
    "from selenium import webdriver\n",
    "from selenium.webdriver.common.by import By\n",
    "from selenium.webdriver.support.ui import WebDriverWait\n",
    "from selenium.webdriver.support import expected_conditions as EC\n",
    "from selenium.common.exceptions import TimeoutException"
   ]
  },
  {
   "cell_type": "code",
   "execution_count": 2,
   "metadata": {},
   "outputs": [],
   "source": [
    "my_url = \"https://www.flightclub.com/air-jordans/air-jordan-1\""
   ]
  },
  {
   "cell_type": "code",
   "execution_count": 3,
   "metadata": {},
   "outputs": [],
   "source": [
    "#req = Request(my_url, headers={'User-Agent': 'Mozilla/5.0'})\n",
    "#webpage = urlopen(req).read()"
   ]
  },
  {
   "cell_type": "code",
   "execution_count": 4,
   "metadata": {},
   "outputs": [],
   "source": [
    "#html parsing\n",
    "#page_soup = soup(webpage, \"html.parser\")\n",
    "#page_soup.title"
   ]
  },
  {
   "cell_type": "code",
   "execution_count": 5,
   "metadata": {},
   "outputs": [],
   "source": [
    "x_path_list = []"
   ]
  },
  {
   "cell_type": "code",
   "execution_count": 6,
   "metadata": {},
   "outputs": [],
   "source": [
    "jordan_shoes = []"
   ]
  },
  {
   "cell_type": "code",
   "execution_count": 7,
   "metadata": {},
   "outputs": [],
   "source": [
    "#opens initial browser\n",
    "def init_driver():\n",
    "        driver = webdriver.Chrome(executable_path='/Users/gabbyvinco/desktop/Python/Web Scraping/Drivers/chromedriver')\n",
    "        return driver"
   ]
  },
  {
   "cell_type": "code",
   "execution_count": 8,
   "metadata": {},
   "outputs": [],
   "source": [
    "class sneakers:\n",
    "    #open main air jordan 1 page on flight club\n",
    "    def main_page(self, driver):\n",
    "        driver.get(my_url)\n",
    "        count = driver.find_elements_by_css_selector(\"[class*='sc-12adlsx-0 hniSJt']\")\n",
    "        self.page_count = len(count)\n",
    "        print(page_count)\n",
    "    \n",
    "    #Function to loop through page_count and interact/scrape each container on current page\n",
    "    def shoe_page_scrape(self, driver):\n",
    "        for p in range(1, self.page_count):\n",
    "            air_jordan1 = {}\n",
    "        \n",
    "            x_path = (('/html/body/div/div[2]/div[1]/div[3]/div[3]/div[2]/div[2]/a[{}]').format(p))\n",
    "            element = WebDriverWait(driver, 20).until(EC.invisibility_of_element_located((By.XPATH, x_path)))\n",
    "            #element = driver.find_element_by_xpath(paths_by_page[p]\n",
    "            driver.maximize_window() #For maximizing window\n",
    "            element.click()\n",
    "            driver.implicitly_wait(10)\n",
    "            air_jordan1[\"shoe_title\"] = driver.find_element_by_xpath('/html/body/div/div[2]/div[1]/div/div[2]/div[1]/h1').text\n",
    "            air_jordan1[\"shoe_info\"] = driver.find_element_by_xpath('/html/body/div/div[2]/div[1]/div/div[2]/div[1]/h3').text\n",
    "            jordan_shoes.append(air_jordan1)\n",
    "            self.driver.back()\n",
    "    \n",
    "    #Once done scraping page, clicks next page button until it returns to page 1\n",
    "    def next_page(self, driver):\n",
    "        if driver.current_url != my_url:\n",
    "            next_button = driver.find_element_by_xpath('/html/body/div/div[2]/div[1]/div[3]/div[2]/ul/li[3]/button')\n",
    "            next_button.click()\n",
    "            #could add conteiner counter/numbers here\n",
    "            shoe_page_scrape(driver)\n",
    "        else:\n",
    "            print(\"Scraping for this shoe is done.\")\n",
    "            driver.quit()\n",
    "\n",
    "    "
   ]
  },
  {
   "cell_type": "code",
   "execution_count": 9,
   "metadata": {},
   "outputs": [],
   "source": [
    "#open main air jordan 1 page on flight club\n",
    "#def main_page(driver):\n",
    "    #driver.get(my_url)\n",
    "    #count =  driver.find_elements_by_css_selector(\"[class*='sc-12adlsx-0 hniSJt']\")\n",
    "    #page_count = len(count)\n",
    "    #print(page_count)\n",
    "\n",
    "    "
   ]
  },
  {
   "cell_type": "code",
   "execution_count": 10,
   "metadata": {},
   "outputs": [],
   "source": [
    "#def shoe_page_scrape(driver):\n",
    "    #for p in range(1, page_count):\n",
    "        #air_jordan1 = {}\n",
    "        \n",
    "       # x_path = (('/html/body/div/div[2]/div[1]/div[3]/div[3]/div[2]/div[2]/a[{}]').format(p))\n",
    "       # element = WebDriverWait(driver, 10).until(EC.invisibility_of_element_located((By.XPATH, x_path)))\n",
    "       # #element = driver.find_element_by_xpath(paths_by_page[p]\n",
    "       # driver.maximize_window() #For maximizing window\n",
    "       # driver.implicitly_wait(20) #gives an implicit wait for 20 seconds\n",
    "       # element.click()\n",
    "       # driver.implicitly_wait(10)\n",
    "       # air_jordan1[\"shoe_title\"] = driver.find_element_by_xpath('/html/body/div/div[2]/div[1]/div/div[2]/div[1]/h1').text\n",
    "       # air_jordan1[\"shoe_info\"] = driver.find_element_by_xpath('/html/body/div/div[2]/div[1]/div/div[2]/div[1]/h3').text\n",
    "       # jordan_shoes.append(air_jordan1)\n",
    "       # driver.back()\n",
    "\n",
    "    \n",
    "    "
   ]
  },
  {
   "cell_type": "code",
   "execution_count": 11,
   "metadata": {},
   "outputs": [],
   "source": [
    "#def next_page(driver):\n",
    "    #if driver.current_url != my_url:\n",
    "       # next_button = driver.find_element_by_xpath('/html/body/div/div[2]/div[1]/div[3]/div[2]/ul/li[3]/button')\n",
    "        #next_button.click()\n",
    "        #could add conteiner counter/numbers here\n",
    "        #shoe_page_scrape(driver)\n",
    "    #else:\n",
    "        #print(\"Scraping for this shoe is done.\")\n",
    "        #driver.quit()'''"
   ]
  },
  {
   "cell_type": "code",
   "execution_count": 12,
   "metadata": {
    "scrolled": false
   },
   "outputs": [
    {
     "ename": "NameError",
     "evalue": "name 'main_page' is not defined",
     "output_type": "error",
     "traceback": [
      "\u001b[0;31m---------------------------------------------------------------------------\u001b[0m",
      "\u001b[0;31mNameError\u001b[0m                                 Traceback (most recent call last)",
      "\u001b[0;32m<ipython-input-12-ae10001fde9a>\u001b[0m in \u001b[0;36m<module>\u001b[0;34m()\u001b[0m\n\u001b[1;32m      2\u001b[0m \u001b[0mdriver\u001b[0m \u001b[0;34m=\u001b[0m \u001b[0minit_driver\u001b[0m\u001b[0;34m(\u001b[0m\u001b[0;34m)\u001b[0m\u001b[0;34m\u001b[0m\u001b[0m\n\u001b[1;32m      3\u001b[0m \u001b[0;31m#open air jordan 1 page 1\u001b[0m\u001b[0;34m\u001b[0m\u001b[0;34m\u001b[0m\u001b[0m\n\u001b[0;32m----> 4\u001b[0;31m \u001b[0mmain_page\u001b[0m\u001b[0;34m(\u001b[0m\u001b[0mself\u001b[0m\u001b[0;34m,\u001b[0m\u001b[0mdriver\u001b[0m\u001b[0;34m)\u001b[0m\u001b[0;34m\u001b[0m\u001b[0m\n\u001b[0m\u001b[1;32m      5\u001b[0m \u001b[0;31m#loop through containers on that page, once finished return to page 1\u001b[0m\u001b[0;34m\u001b[0m\u001b[0;34m\u001b[0m\u001b[0m\n\u001b[1;32m      6\u001b[0m \u001b[0mshoe_page_scrape\u001b[0m\u001b[0;34m(\u001b[0m\u001b[0mself\u001b[0m\u001b[0;34m,\u001b[0m\u001b[0mdriver\u001b[0m\u001b[0;34m)\u001b[0m\u001b[0;34m\u001b[0m\u001b[0m\n",
      "\u001b[0;31mNameError\u001b[0m: name 'main_page' is not defined"
     ]
    }
   ],
   "source": [
    "#run functions\n",
    "driver = init_driver()\n",
    "#open air jordan 1 page 1\n",
    "main_page(self,driver)\n",
    "#loop through containers on that page, once finished return to page 1\n",
    "shoe_page_scrape(self,driver)\n",
    "#advances through pages by hitting button and progresses to next page until fail\n",
    "#next_page(driver)"
   ]
  },
  {
   "cell_type": "code",
   "execution_count": null,
   "metadata": {},
   "outputs": [],
   "source": []
  },
  {
   "cell_type": "code",
   "execution_count": null,
   "metadata": {},
   "outputs": [],
   "source": []
  },
  {
   "cell_type": "code",
   "execution_count": null,
   "metadata": {},
   "outputs": [],
   "source": [
    "#page 1 data\n",
    "#print(jordan_shoes)"
   ]
  },
  {
   "cell_type": "code",
   "execution_count": null,
   "metadata": {},
   "outputs": [],
   "source": []
  },
  {
   "cell_type": "code",
   "execution_count": null,
   "metadata": {},
   "outputs": [],
   "source": []
  }
 ],
 "metadata": {
  "kernelspec": {
   "display_name": "Python 3",
   "language": "python",
   "name": "python3"
  },
  "language_info": {
   "codemirror_mode": {
    "name": "ipython",
    "version": 3
   },
   "file_extension": ".py",
   "mimetype": "text/x-python",
   "name": "python",
   "nbconvert_exporter": "python",
   "pygments_lexer": "ipython3",
   "version": "3.7.0"
  }
 },
 "nbformat": 4,
 "nbformat_minor": 2
}
