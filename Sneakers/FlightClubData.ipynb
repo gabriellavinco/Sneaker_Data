{
 "cells": [
  {
   "cell_type": "code",
   "execution_count": 1,
   "metadata": {},
   "outputs": [],
   "source": [
    "import bs4\n",
    "from urllib.request import Request, urlopen\n",
    "from bs4 import BeautifulSoup as soup\n",
    "from selenium import webdriver\n",
    "from selenium.webdriver.common.by import By\n",
    "from selenium.webdriver.support.ui import WebDriverWait\n",
    "from selenium.webdriver.support import expected_conditions as EC\n",
    "from selenium.common.exceptions import TimeoutException"
   ]
  },
  {
   "cell_type": "code",
   "execution_count": 2,
   "metadata": {},
   "outputs": [],
   "source": [
    "my_url = \"https://www.flightclub.com/air-jordans/air-jordan-1\""
   ]
  },
  {
   "cell_type": "code",
   "execution_count": 3,
   "metadata": {},
   "outputs": [],
   "source": [
    "#req = Request(my_url, headers={'User-Agent': 'Mozilla/5.0'})\n",
    "#webpage = urlopen(req).read()"
   ]
  },
  {
   "cell_type": "code",
   "execution_count": 4,
   "metadata": {},
   "outputs": [],
   "source": [
    "#html parsing\n",
    "#page_soup = soup(webpage, \"html.parser\")\n",
    "#page_soup.title"
   ]
  },
  {
   "cell_type": "code",
   "execution_count": 5,
   "metadata": {},
   "outputs": [],
   "source": [
    "x_path_list = []"
   ]
  },
  {
   "cell_type": "code",
   "execution_count": 6,
   "metadata": {},
   "outputs": [],
   "source": [
    "jordan_shoes = []"
   ]
  },
  {
   "cell_type": "code",
   "execution_count": null,
   "metadata": {},
   "outputs": [],
   "source": []
  },
  {
   "cell_type": "code",
   "execution_count": 7,
   "metadata": {},
   "outputs": [],
   "source": [
    "#opens initial browser\n",
    "#def init_driver():\n",
    "        #driver = webdriver.Chrome(executable_path='/Users/gabbyvinco/desktop/Python/Web Scraping/Drivers/chromedriver')\n",
    "        #return driver"
   ]
  },
  {
   "cell_type": "code",
   "execution_count": 8,
   "metadata": {},
   "outputs": [],
   "source": [
    "jordan_shoes = []\n",
    "\n",
    "class Sneakers():\n",
    "    #initialize browser\n",
    "    def init_driver(self, driver):\n",
    "        self.driver = driver\n",
    "        #driver = webdriver.Chrome(executable_path='/Users/gabbyvinco/desktop/Python/Web Scraping/Drivers/chromedriver')\n",
    "        \n",
    "    #open main air jordan 1 page on flight club\n",
    "    def main_page(self, driver):\n",
    "        self.driver.get(my_url)\n",
    "        count = self.driver.find_elements_by_css_selector(\"[class*='sc-12adlsx-0 hniSJt']\")\n",
    "        page_count = len(count)\n",
    "        self.page_count = page_count\n",
    "        return page_count\n",
    "    \n",
    "    #Creates xpaths based on the amount of containers on the current page\n",
    "    def x_path_creator(self, driver):\n",
    "        for p in range(1, self.page_count):\n",
    "            x_path = (('/html/body/div/div[2]/div[1]/div[3]/div/div[2]/div[2]/a[{}]').format(p))\n",
    "            x_path_list.append(x_path)\n",
    "            page_list = (self.page_count - 1)\n",
    "            self.page_list = page_list\n",
    "            \n",
    "#             print(x_path_list)\n",
    "    #Function to loop through page_count and interact/scrape each container on current page\n",
    "    def shoe_page_scrape(self, driver):\n",
    "        for q in range(0, self.page_list):\n",
    "            air_jordan1 = {}\n",
    "            \n",
    "            driver.implicitly_wait(15)\n",
    "            element = driver.find_element_by_xpath(x_path_list[q])\n",
    "            element.click()\n",
    "            driver.implicitly_wait(10)\n",
    "            air_jordan1[\"shoe_title\"] = self.driver.find_element_by_xpath('/html/body/div/div[2]/div[1]/div/div[2]/div[1]/h1').text\n",
    "            air_jordan1[\"shoe_info\"] = self.driver.find_element_by_xpath('/html/body/div/div[2]/div[1]/div/div[2]/div[1]/h3').text\n",
    "            jordan_shoes.append(air_jordan1)\n",
    "            self.driver.back()\n",
    "            \n",
    "    #Once done scraping page, clicks next page button until it returns to page 1\n",
    "    def next_page(self, driver):\n",
    "        next_button = driver.find_element_by_xpath('/html/body/div/div[2]/div[1]/div[3]/div/div[2]/ul/li[3]/button')\n",
    "        next_button.click()\n",
    "        driver.implicitly_wait(10)\n",
    "        if driver.current_url != my_url:\n",
    "            next_button = driver.find_element_by_xpath('/html/body/div/div[2]/div[1]/div[3]/div/div[2]/ul/li[3]/button')\n",
    "#             next_button.click()\n",
    "            print(\"ready for the next page\")\n",
    "            driver.implicitly_wait(15)\n",
    "            #need to perform main_page(), x_path_creator(), and shoe_page_scrape() after each next_button.click()\n",
    "        else:\n",
    "            print(\"Scraping for this shoe is done.\")\n",
    "            driver.quit()\n",
    "\n",
    "    "
   ]
  },
  {
   "cell_type": "code",
   "execution_count": 9,
   "metadata": {},
   "outputs": [],
   "source": [
    "#open main air jordan 1 page on flight club\n",
    "#def main_page(driver):\n",
    "    #driver.get(my_url)\n",
    "    #count =  driver.find_elements_by_css_selector(\"[class*='sc-12adlsx-0 hniSJt']\")\n",
    "    #page_count = len(count)\n",
    "    #print(page_count)\n",
    "\n",
    "    "
   ]
  },
  {
   "cell_type": "code",
   "execution_count": 10,
   "metadata": {},
   "outputs": [],
   "source": [
    "#def shoe_page_scrape(driver):\n",
    "    #for p in range(1, page_count):\n",
    "        #air_jordan1 = {}\n",
    "        \n",
    "       # x_path = (('/html/body/div/div[2]/div[1]/div[3]/div[3]/div[2]/div[2]/a[{}]').format(p))\n",
    "       # element = WebDriverWait(driver, 10).until(EC.invisibility_of_element_located((By.XPATH, x_path)))\n",
    "       # #element = driver.find_element_by_xpath(paths_by_page[p]\n",
    "       # driver.maximize_window() #For maximizing window\n",
    "       # driver.implicitly_wait(20) #gives an implicit wait for 20 seconds\n",
    "       # element.click()\n",
    "       # driver.implicitly_wait(10)\n",
    "       # air_jordan1[\"shoe_title\"] = driver.find_element_by_xpath('/html/body/div/div[2]/div[1]/div/div[2]/div[1]/h1').text\n",
    "       # air_jordan1[\"shoe_info\"] = driver.find_element_by_xpath('/html/body/div/div[2]/div[1]/div/div[2]/div[1]/h3').text\n",
    "       # jordan_shoes.append(air_jordan1)\n",
    "       # driver.back()\n",
    "\n",
    "    \n",
    "    "
   ]
  },
  {
   "cell_type": "code",
   "execution_count": 11,
   "metadata": {},
   "outputs": [],
   "source": [
    "#def next_page(driver):\n",
    "    #if driver.current_url != my_url:\n",
    "       # next_button = driver.find_element_by_xpath('/html/body/div/div[2]/div[1]/div[3]/div[2]/ul/li[3]/button')\n",
    "        #next_button.click()\n",
    "        #could add container counter/numbers here\n",
    "        #shoe_page_scrape(driver)\n",
    "    #else:\n",
    "        #print(\"Scraping for this shoe is done.\")\n",
    "        #driver.quit()'''"
   ]
  },
  {
   "cell_type": "code",
   "execution_count": 12,
   "metadata": {
    "scrolled": false
   },
   "outputs": [
    {
     "name": "stdout",
     "output_type": "stream",
     "text": [
      "ready for the next page\n"
     ]
    }
   ],
   "source": [
    "\n",
    "driver = webdriver.Chrome(executable_path='/Users/gabbyvinco/desktop/Python/Web Scraping/Drivers/chromedriver')\n",
    "scraper = Sneakers()\n",
    "\n",
    "#initializes web browser\n",
    "scraper.init_driver(driver)\n",
    "#open air jordan 1 page 1\n",
    "scraper.main_page(driver)\n",
    "#creates x_path list to loop through\n",
    "# scraper.x_path_creator(driver)\n",
    "#loop through containers on that page, once finished return to page 1\n",
    "# scraper.shoe_page_scrape(driver)\n",
    "#advances through pages by hitting button and progresses to next page until fail\n",
    "scraper.next_page(driver)\n",
    "\n",
    "\n",
    "\n"
   ]
  },
  {
   "cell_type": "code",
   "execution_count": null,
   "metadata": {},
   "outputs": [],
   "source": []
  },
  {
   "cell_type": "code",
   "execution_count": 13,
   "metadata": {},
   "outputs": [
    {
     "name": "stdout",
     "output_type": "stream",
     "text": [
      "[]\n"
     ]
    }
   ],
   "source": [
    "#page 1 data\n",
    "print(jordan_shoes)"
   ]
  },
  {
   "cell_type": "code",
   "execution_count": null,
   "metadata": {},
   "outputs": [],
   "source": []
  },
  {
   "cell_type": "code",
   "execution_count": null,
   "metadata": {},
   "outputs": [],
   "source": []
  }
 ],
 "metadata": {
  "kernelspec": {
   "display_name": "Python 3",
   "language": "python",
   "name": "python3"
  },
  "language_info": {
   "codemirror_mode": {
    "name": "ipython",
    "version": 3
   },
   "file_extension": ".py",
   "mimetype": "text/x-python",
   "name": "python",
   "nbconvert_exporter": "python",
   "pygments_lexer": "ipython3",
   "version": "3.7.0"
  }
 },
 "nbformat": 4,
 "nbformat_minor": 2
}
