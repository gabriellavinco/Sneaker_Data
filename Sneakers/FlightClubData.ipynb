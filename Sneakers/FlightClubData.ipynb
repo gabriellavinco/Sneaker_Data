{
 "cells": [
  {
   "cell_type": "code",
   "execution_count": 249,
   "metadata": {},
   "outputs": [],
   "source": [
    "import bs4\n",
    "from urllib.request import Request, urlopen\n",
    "from bs4 import BeautifulSoup as soup\n",
    "from selenium import webdriver\n",
    "from selenium.webdriver.common.by import By\n",
    "from selenium.webdriver.support.ui import WebDriverWait\n",
    "from selenium.webdriver.support import expected_conditions as EC\n",
    "from selenium.common.exceptions import TimeoutException"
   ]
  },
  {
   "cell_type": "code",
   "execution_count": 250,
   "metadata": {},
   "outputs": [],
   "source": [
    "my_url = \"https://www.flightclub.com/air-jordans/air-jordan-1\""
   ]
  },
  {
   "cell_type": "code",
   "execution_count": 251,
   "metadata": {},
   "outputs": [],
   "source": [
    "req = Request(my_url, headers={'User-Agent': 'Mozilla/5.0'})\n",
    "webpage = urlopen(req).read()"
   ]
  },
  {
   "cell_type": "code",
   "execution_count": 252,
   "metadata": {},
   "outputs": [
    {
     "data": {
      "text/plain": [
       "<title>Air Jordan 1 - Air Jordans | Flight Club</title>"
      ]
     },
     "execution_count": 252,
     "metadata": {},
     "output_type": "execute_result"
    }
   ],
   "source": [
    "#html parsing\n",
    "page_soup = soup(webpage, \"html.parser\")\n",
    "page_soup.title"
   ]
  },
  {
   "cell_type": "code",
   "execution_count": 253,
   "metadata": {},
   "outputs": [],
   "source": [
    "wait = WebDriverWait(driver, 10)"
   ]
  },
  {
   "cell_type": "code",
   "execution_count": 254,
   "metadata": {},
   "outputs": [],
   "source": [
    "# Set the executable path and initialize the chrome browser \n",
    "def init_driver():\n",
    "    driver = webdriver.Chrome(executable_path='/Users/gabbyvinco/desktop/Python/Web Scraping/Drivers/chromedriver')\n",
    "    return driver"
   ]
  },
  {
   "cell_type": "code",
   "execution_count": 255,
   "metadata": {},
   "outputs": [],
   "source": [
    "#open main air jordan 1 page on flight club\n",
    "def main_page(driver):\n",
    "    driver.get(my_url)\n",
    "    driver.implicitly_wait(20)\n"
   ]
  },
  {
   "cell_type": "code",
   "execution_count": 256,
   "metadata": {},
   "outputs": [],
   "source": [
    "paths_by_page = []"
   ]
  },
  {
   "cell_type": "code",
   "execution_count": 257,
   "metadata": {},
   "outputs": [
    {
     "name": "stdout",
     "output_type": "stream",
     "text": [
      "['/html/body/div/div[2]/div[1]/div[3]/div[3]/div[2]/div[2]/a[1]']\n",
      "['/html/body/div/div[2]/div[1]/div[3]/div[3]/div[2]/div[2]/a[1]', '/html/body/div/div[2]/div[1]/div[3]/div[3]/div[2]/div[2]/a[2]']\n",
      "['/html/body/div/div[2]/div[1]/div[3]/div[3]/div[2]/div[2]/a[1]', '/html/body/div/div[2]/div[1]/div[3]/div[3]/div[2]/div[2]/a[2]', '/html/body/div/div[2]/div[1]/div[3]/div[3]/div[2]/div[2]/a[3]']\n",
      "['/html/body/div/div[2]/div[1]/div[3]/div[3]/div[2]/div[2]/a[1]', '/html/body/div/div[2]/div[1]/div[3]/div[3]/div[2]/div[2]/a[2]', '/html/body/div/div[2]/div[1]/div[3]/div[3]/div[2]/div[2]/a[3]', '/html/body/div/div[2]/div[1]/div[3]/div[3]/div[2]/div[2]/a[4]']\n",
      "['/html/body/div/div[2]/div[1]/div[3]/div[3]/div[2]/div[2]/a[1]', '/html/body/div/div[2]/div[1]/div[3]/div[3]/div[2]/div[2]/a[2]', '/html/body/div/div[2]/div[1]/div[3]/div[3]/div[2]/div[2]/a[3]', '/html/body/div/div[2]/div[1]/div[3]/div[3]/div[2]/div[2]/a[4]', '/html/body/div/div[2]/div[1]/div[3]/div[3]/div[2]/div[2]/a[5]']\n",
      "['/html/body/div/div[2]/div[1]/div[3]/div[3]/div[2]/div[2]/a[1]', '/html/body/div/div[2]/div[1]/div[3]/div[3]/div[2]/div[2]/a[2]', '/html/body/div/div[2]/div[1]/div[3]/div[3]/div[2]/div[2]/a[3]', '/html/body/div/div[2]/div[1]/div[3]/div[3]/div[2]/div[2]/a[4]', '/html/body/div/div[2]/div[1]/div[3]/div[3]/div[2]/div[2]/a[5]', '/html/body/div/div[2]/div[1]/div[3]/div[3]/div[2]/div[2]/a[6]']\n",
      "['/html/body/div/div[2]/div[1]/div[3]/div[3]/div[2]/div[2]/a[1]', '/html/body/div/div[2]/div[1]/div[3]/div[3]/div[2]/div[2]/a[2]', '/html/body/div/div[2]/div[1]/div[3]/div[3]/div[2]/div[2]/a[3]', '/html/body/div/div[2]/div[1]/div[3]/div[3]/div[2]/div[2]/a[4]', '/html/body/div/div[2]/div[1]/div[3]/div[3]/div[2]/div[2]/a[5]', '/html/body/div/div[2]/div[1]/div[3]/div[3]/div[2]/div[2]/a[6]', '/html/body/div/div[2]/div[1]/div[3]/div[3]/div[2]/div[2]/a[7]']\n",
      "['/html/body/div/div[2]/div[1]/div[3]/div[3]/div[2]/div[2]/a[1]', '/html/body/div/div[2]/div[1]/div[3]/div[3]/div[2]/div[2]/a[2]', '/html/body/div/div[2]/div[1]/div[3]/div[3]/div[2]/div[2]/a[3]', '/html/body/div/div[2]/div[1]/div[3]/div[3]/div[2]/div[2]/a[4]', '/html/body/div/div[2]/div[1]/div[3]/div[3]/div[2]/div[2]/a[5]', '/html/body/div/div[2]/div[1]/div[3]/div[3]/div[2]/div[2]/a[6]', '/html/body/div/div[2]/div[1]/div[3]/div[3]/div[2]/div[2]/a[7]', '/html/body/div/div[2]/div[1]/div[3]/div[3]/div[2]/div[2]/a[8]']\n",
      "['/html/body/div/div[2]/div[1]/div[3]/div[3]/div[2]/div[2]/a[1]', '/html/body/div/div[2]/div[1]/div[3]/div[3]/div[2]/div[2]/a[2]', '/html/body/div/div[2]/div[1]/div[3]/div[3]/div[2]/div[2]/a[3]', '/html/body/div/div[2]/div[1]/div[3]/div[3]/div[2]/div[2]/a[4]', '/html/body/div/div[2]/div[1]/div[3]/div[3]/div[2]/div[2]/a[5]', '/html/body/div/div[2]/div[1]/div[3]/div[3]/div[2]/div[2]/a[6]', '/html/body/div/div[2]/div[1]/div[3]/div[3]/div[2]/div[2]/a[7]', '/html/body/div/div[2]/div[1]/div[3]/div[3]/div[2]/div[2]/a[8]', '/html/body/div/div[2]/div[1]/div[3]/div[3]/div[2]/div[2]/a[9]']\n",
      "['/html/body/div/div[2]/div[1]/div[3]/div[3]/div[2]/div[2]/a[1]', '/html/body/div/div[2]/div[1]/div[3]/div[3]/div[2]/div[2]/a[2]', '/html/body/div/div[2]/div[1]/div[3]/div[3]/div[2]/div[2]/a[3]', '/html/body/div/div[2]/div[1]/div[3]/div[3]/div[2]/div[2]/a[4]', '/html/body/div/div[2]/div[1]/div[3]/div[3]/div[2]/div[2]/a[5]', '/html/body/div/div[2]/div[1]/div[3]/div[3]/div[2]/div[2]/a[6]', '/html/body/div/div[2]/div[1]/div[3]/div[3]/div[2]/div[2]/a[7]', '/html/body/div/div[2]/div[1]/div[3]/div[3]/div[2]/div[2]/a[8]', '/html/body/div/div[2]/div[1]/div[3]/div[3]/div[2]/div[2]/a[9]', '/html/body/div/div[2]/div[1]/div[3]/div[3]/div[2]/div[2]/a[10]']\n",
      "['/html/body/div/div[2]/div[1]/div[3]/div[3]/div[2]/div[2]/a[1]', '/html/body/div/div[2]/div[1]/div[3]/div[3]/div[2]/div[2]/a[2]', '/html/body/div/div[2]/div[1]/div[3]/div[3]/div[2]/div[2]/a[3]', '/html/body/div/div[2]/div[1]/div[3]/div[3]/div[2]/div[2]/a[4]', '/html/body/div/div[2]/div[1]/div[3]/div[3]/div[2]/div[2]/a[5]', '/html/body/div/div[2]/div[1]/div[3]/div[3]/div[2]/div[2]/a[6]', '/html/body/div/div[2]/div[1]/div[3]/div[3]/div[2]/div[2]/a[7]', '/html/body/div/div[2]/div[1]/div[3]/div[3]/div[2]/div[2]/a[8]', '/html/body/div/div[2]/div[1]/div[3]/div[3]/div[2]/div[2]/a[9]', '/html/body/div/div[2]/div[1]/div[3]/div[3]/div[2]/div[2]/a[10]', '/html/body/div/div[2]/div[1]/div[3]/div[3]/div[2]/div[2]/a[11]']\n",
      "['/html/body/div/div[2]/div[1]/div[3]/div[3]/div[2]/div[2]/a[1]', '/html/body/div/div[2]/div[1]/div[3]/div[3]/div[2]/div[2]/a[2]', '/html/body/div/div[2]/div[1]/div[3]/div[3]/div[2]/div[2]/a[3]', '/html/body/div/div[2]/div[1]/div[3]/div[3]/div[2]/div[2]/a[4]', '/html/body/div/div[2]/div[1]/div[3]/div[3]/div[2]/div[2]/a[5]', '/html/body/div/div[2]/div[1]/div[3]/div[3]/div[2]/div[2]/a[6]', '/html/body/div/div[2]/div[1]/div[3]/div[3]/div[2]/div[2]/a[7]', '/html/body/div/div[2]/div[1]/div[3]/div[3]/div[2]/div[2]/a[8]', '/html/body/div/div[2]/div[1]/div[3]/div[3]/div[2]/div[2]/a[9]', '/html/body/div/div[2]/div[1]/div[3]/div[3]/div[2]/div[2]/a[10]', '/html/body/div/div[2]/div[1]/div[3]/div[3]/div[2]/div[2]/a[11]', '/html/body/div/div[2]/div[1]/div[3]/div[3]/div[2]/div[2]/a[12]']\n",
      "['/html/body/div/div[2]/div[1]/div[3]/div[3]/div[2]/div[2]/a[1]', '/html/body/div/div[2]/div[1]/div[3]/div[3]/div[2]/div[2]/a[2]', '/html/body/div/div[2]/div[1]/div[3]/div[3]/div[2]/div[2]/a[3]', '/html/body/div/div[2]/div[1]/div[3]/div[3]/div[2]/div[2]/a[4]', '/html/body/div/div[2]/div[1]/div[3]/div[3]/div[2]/div[2]/a[5]', '/html/body/div/div[2]/div[1]/div[3]/div[3]/div[2]/div[2]/a[6]', '/html/body/div/div[2]/div[1]/div[3]/div[3]/div[2]/div[2]/a[7]', '/html/body/div/div[2]/div[1]/div[3]/div[3]/div[2]/div[2]/a[8]', '/html/body/div/div[2]/div[1]/div[3]/div[3]/div[2]/div[2]/a[9]', '/html/body/div/div[2]/div[1]/div[3]/div[3]/div[2]/div[2]/a[10]', '/html/body/div/div[2]/div[1]/div[3]/div[3]/div[2]/div[2]/a[11]', '/html/body/div/div[2]/div[1]/div[3]/div[3]/div[2]/div[2]/a[12]', '/html/body/div/div[2]/div[1]/div[3]/div[3]/div[2]/div[2]/a[13]']\n",
      "['/html/body/div/div[2]/div[1]/div[3]/div[3]/div[2]/div[2]/a[1]', '/html/body/div/div[2]/div[1]/div[3]/div[3]/div[2]/div[2]/a[2]', '/html/body/div/div[2]/div[1]/div[3]/div[3]/div[2]/div[2]/a[3]', '/html/body/div/div[2]/div[1]/div[3]/div[3]/div[2]/div[2]/a[4]', '/html/body/div/div[2]/div[1]/div[3]/div[3]/div[2]/div[2]/a[5]', '/html/body/div/div[2]/div[1]/div[3]/div[3]/div[2]/div[2]/a[6]', '/html/body/div/div[2]/div[1]/div[3]/div[3]/div[2]/div[2]/a[7]', '/html/body/div/div[2]/div[1]/div[3]/div[3]/div[2]/div[2]/a[8]', '/html/body/div/div[2]/div[1]/div[3]/div[3]/div[2]/div[2]/a[9]', '/html/body/div/div[2]/div[1]/div[3]/div[3]/div[2]/div[2]/a[10]', '/html/body/div/div[2]/div[1]/div[3]/div[3]/div[2]/div[2]/a[11]', '/html/body/div/div[2]/div[1]/div[3]/div[3]/div[2]/div[2]/a[12]', '/html/body/div/div[2]/div[1]/div[3]/div[3]/div[2]/div[2]/a[13]', '/html/body/div/div[2]/div[1]/div[3]/div[3]/div[2]/div[2]/a[14]']\n",
      "['/html/body/div/div[2]/div[1]/div[3]/div[3]/div[2]/div[2]/a[1]', '/html/body/div/div[2]/div[1]/div[3]/div[3]/div[2]/div[2]/a[2]', '/html/body/div/div[2]/div[1]/div[3]/div[3]/div[2]/div[2]/a[3]', '/html/body/div/div[2]/div[1]/div[3]/div[3]/div[2]/div[2]/a[4]', '/html/body/div/div[2]/div[1]/div[3]/div[3]/div[2]/div[2]/a[5]', '/html/body/div/div[2]/div[1]/div[3]/div[3]/div[2]/div[2]/a[6]', '/html/body/div/div[2]/div[1]/div[3]/div[3]/div[2]/div[2]/a[7]', '/html/body/div/div[2]/div[1]/div[3]/div[3]/div[2]/div[2]/a[8]', '/html/body/div/div[2]/div[1]/div[3]/div[3]/div[2]/div[2]/a[9]', '/html/body/div/div[2]/div[1]/div[3]/div[3]/div[2]/div[2]/a[10]', '/html/body/div/div[2]/div[1]/div[3]/div[3]/div[2]/div[2]/a[11]', '/html/body/div/div[2]/div[1]/div[3]/div[3]/div[2]/div[2]/a[12]', '/html/body/div/div[2]/div[1]/div[3]/div[3]/div[2]/div[2]/a[13]', '/html/body/div/div[2]/div[1]/div[3]/div[3]/div[2]/div[2]/a[14]', '/html/body/div/div[2]/div[1]/div[3]/div[3]/div[2]/div[2]/a[15]']\n",
      "['/html/body/div/div[2]/div[1]/div[3]/div[3]/div[2]/div[2]/a[1]', '/html/body/div/div[2]/div[1]/div[3]/div[3]/div[2]/div[2]/a[2]', '/html/body/div/div[2]/div[1]/div[3]/div[3]/div[2]/div[2]/a[3]', '/html/body/div/div[2]/div[1]/div[3]/div[3]/div[2]/div[2]/a[4]', '/html/body/div/div[2]/div[1]/div[3]/div[3]/div[2]/div[2]/a[5]', '/html/body/div/div[2]/div[1]/div[3]/div[3]/div[2]/div[2]/a[6]', '/html/body/div/div[2]/div[1]/div[3]/div[3]/div[2]/div[2]/a[7]', '/html/body/div/div[2]/div[1]/div[3]/div[3]/div[2]/div[2]/a[8]', '/html/body/div/div[2]/div[1]/div[3]/div[3]/div[2]/div[2]/a[9]', '/html/body/div/div[2]/div[1]/div[3]/div[3]/div[2]/div[2]/a[10]', '/html/body/div/div[2]/div[1]/div[3]/div[3]/div[2]/div[2]/a[11]', '/html/body/div/div[2]/div[1]/div[3]/div[3]/div[2]/div[2]/a[12]', '/html/body/div/div[2]/div[1]/div[3]/div[3]/div[2]/div[2]/a[13]', '/html/body/div/div[2]/div[1]/div[3]/div[3]/div[2]/div[2]/a[14]', '/html/body/div/div[2]/div[1]/div[3]/div[3]/div[2]/div[2]/a[15]', '/html/body/div/div[2]/div[1]/div[3]/div[3]/div[2]/div[2]/a[16]']\n",
      "['/html/body/div/div[2]/div[1]/div[3]/div[3]/div[2]/div[2]/a[1]', '/html/body/div/div[2]/div[1]/div[3]/div[3]/div[2]/div[2]/a[2]', '/html/body/div/div[2]/div[1]/div[3]/div[3]/div[2]/div[2]/a[3]', '/html/body/div/div[2]/div[1]/div[3]/div[3]/div[2]/div[2]/a[4]', '/html/body/div/div[2]/div[1]/div[3]/div[3]/div[2]/div[2]/a[5]', '/html/body/div/div[2]/div[1]/div[3]/div[3]/div[2]/div[2]/a[6]', '/html/body/div/div[2]/div[1]/div[3]/div[3]/div[2]/div[2]/a[7]', '/html/body/div/div[2]/div[1]/div[3]/div[3]/div[2]/div[2]/a[8]', '/html/body/div/div[2]/div[1]/div[3]/div[3]/div[2]/div[2]/a[9]', '/html/body/div/div[2]/div[1]/div[3]/div[3]/div[2]/div[2]/a[10]', '/html/body/div/div[2]/div[1]/div[3]/div[3]/div[2]/div[2]/a[11]', '/html/body/div/div[2]/div[1]/div[3]/div[3]/div[2]/div[2]/a[12]', '/html/body/div/div[2]/div[1]/div[3]/div[3]/div[2]/div[2]/a[13]', '/html/body/div/div[2]/div[1]/div[3]/div[3]/div[2]/div[2]/a[14]', '/html/body/div/div[2]/div[1]/div[3]/div[3]/div[2]/div[2]/a[15]', '/html/body/div/div[2]/div[1]/div[3]/div[3]/div[2]/div[2]/a[16]', '/html/body/div/div[2]/div[1]/div[3]/div[3]/div[2]/div[2]/a[17]']\n",
      "['/html/body/div/div[2]/div[1]/div[3]/div[3]/div[2]/div[2]/a[1]', '/html/body/div/div[2]/div[1]/div[3]/div[3]/div[2]/div[2]/a[2]', '/html/body/div/div[2]/div[1]/div[3]/div[3]/div[2]/div[2]/a[3]', '/html/body/div/div[2]/div[1]/div[3]/div[3]/div[2]/div[2]/a[4]', '/html/body/div/div[2]/div[1]/div[3]/div[3]/div[2]/div[2]/a[5]', '/html/body/div/div[2]/div[1]/div[3]/div[3]/div[2]/div[2]/a[6]', '/html/body/div/div[2]/div[1]/div[3]/div[3]/div[2]/div[2]/a[7]', '/html/body/div/div[2]/div[1]/div[3]/div[3]/div[2]/div[2]/a[8]', '/html/body/div/div[2]/div[1]/div[3]/div[3]/div[2]/div[2]/a[9]', '/html/body/div/div[2]/div[1]/div[3]/div[3]/div[2]/div[2]/a[10]', '/html/body/div/div[2]/div[1]/div[3]/div[3]/div[2]/div[2]/a[11]', '/html/body/div/div[2]/div[1]/div[3]/div[3]/div[2]/div[2]/a[12]', '/html/body/div/div[2]/div[1]/div[3]/div[3]/div[2]/div[2]/a[13]', '/html/body/div/div[2]/div[1]/div[3]/div[3]/div[2]/div[2]/a[14]', '/html/body/div/div[2]/div[1]/div[3]/div[3]/div[2]/div[2]/a[15]', '/html/body/div/div[2]/div[1]/div[3]/div[3]/div[2]/div[2]/a[16]', '/html/body/div/div[2]/div[1]/div[3]/div[3]/div[2]/div[2]/a[17]', '/html/body/div/div[2]/div[1]/div[3]/div[3]/div[2]/div[2]/a[18]']\n",
      "['/html/body/div/div[2]/div[1]/div[3]/div[3]/div[2]/div[2]/a[1]', '/html/body/div/div[2]/div[1]/div[3]/div[3]/div[2]/div[2]/a[2]', '/html/body/div/div[2]/div[1]/div[3]/div[3]/div[2]/div[2]/a[3]', '/html/body/div/div[2]/div[1]/div[3]/div[3]/div[2]/div[2]/a[4]', '/html/body/div/div[2]/div[1]/div[3]/div[3]/div[2]/div[2]/a[5]', '/html/body/div/div[2]/div[1]/div[3]/div[3]/div[2]/div[2]/a[6]', '/html/body/div/div[2]/div[1]/div[3]/div[3]/div[2]/div[2]/a[7]', '/html/body/div/div[2]/div[1]/div[3]/div[3]/div[2]/div[2]/a[8]', '/html/body/div/div[2]/div[1]/div[3]/div[3]/div[2]/div[2]/a[9]', '/html/body/div/div[2]/div[1]/div[3]/div[3]/div[2]/div[2]/a[10]', '/html/body/div/div[2]/div[1]/div[3]/div[3]/div[2]/div[2]/a[11]', '/html/body/div/div[2]/div[1]/div[3]/div[3]/div[2]/div[2]/a[12]', '/html/body/div/div[2]/div[1]/div[3]/div[3]/div[2]/div[2]/a[13]', '/html/body/div/div[2]/div[1]/div[3]/div[3]/div[2]/div[2]/a[14]', '/html/body/div/div[2]/div[1]/div[3]/div[3]/div[2]/div[2]/a[15]', '/html/body/div/div[2]/div[1]/div[3]/div[3]/div[2]/div[2]/a[16]', '/html/body/div/div[2]/div[1]/div[3]/div[3]/div[2]/div[2]/a[17]', '/html/body/div/div[2]/div[1]/div[3]/div[3]/div[2]/div[2]/a[18]', '/html/body/div/div[2]/div[1]/div[3]/div[3]/div[2]/div[2]/a[19]']\n",
      "['/html/body/div/div[2]/div[1]/div[3]/div[3]/div[2]/div[2]/a[1]', '/html/body/div/div[2]/div[1]/div[3]/div[3]/div[2]/div[2]/a[2]', '/html/body/div/div[2]/div[1]/div[3]/div[3]/div[2]/div[2]/a[3]', '/html/body/div/div[2]/div[1]/div[3]/div[3]/div[2]/div[2]/a[4]', '/html/body/div/div[2]/div[1]/div[3]/div[3]/div[2]/div[2]/a[5]', '/html/body/div/div[2]/div[1]/div[3]/div[3]/div[2]/div[2]/a[6]', '/html/body/div/div[2]/div[1]/div[3]/div[3]/div[2]/div[2]/a[7]', '/html/body/div/div[2]/div[1]/div[3]/div[3]/div[2]/div[2]/a[8]', '/html/body/div/div[2]/div[1]/div[3]/div[3]/div[2]/div[2]/a[9]', '/html/body/div/div[2]/div[1]/div[3]/div[3]/div[2]/div[2]/a[10]', '/html/body/div/div[2]/div[1]/div[3]/div[3]/div[2]/div[2]/a[11]', '/html/body/div/div[2]/div[1]/div[3]/div[3]/div[2]/div[2]/a[12]', '/html/body/div/div[2]/div[1]/div[3]/div[3]/div[2]/div[2]/a[13]', '/html/body/div/div[2]/div[1]/div[3]/div[3]/div[2]/div[2]/a[14]', '/html/body/div/div[2]/div[1]/div[3]/div[3]/div[2]/div[2]/a[15]', '/html/body/div/div[2]/div[1]/div[3]/div[3]/div[2]/div[2]/a[16]', '/html/body/div/div[2]/div[1]/div[3]/div[3]/div[2]/div[2]/a[17]', '/html/body/div/div[2]/div[1]/div[3]/div[3]/div[2]/div[2]/a[18]', '/html/body/div/div[2]/div[1]/div[3]/div[3]/div[2]/div[2]/a[19]', '/html/body/div/div[2]/div[1]/div[3]/div[3]/div[2]/div[2]/a[20]']\n",
      "['/html/body/div/div[2]/div[1]/div[3]/div[3]/div[2]/div[2]/a[1]', '/html/body/div/div[2]/div[1]/div[3]/div[3]/div[2]/div[2]/a[2]', '/html/body/div/div[2]/div[1]/div[3]/div[3]/div[2]/div[2]/a[3]', '/html/body/div/div[2]/div[1]/div[3]/div[3]/div[2]/div[2]/a[4]', '/html/body/div/div[2]/div[1]/div[3]/div[3]/div[2]/div[2]/a[5]', '/html/body/div/div[2]/div[1]/div[3]/div[3]/div[2]/div[2]/a[6]', '/html/body/div/div[2]/div[1]/div[3]/div[3]/div[2]/div[2]/a[7]', '/html/body/div/div[2]/div[1]/div[3]/div[3]/div[2]/div[2]/a[8]', '/html/body/div/div[2]/div[1]/div[3]/div[3]/div[2]/div[2]/a[9]', '/html/body/div/div[2]/div[1]/div[3]/div[3]/div[2]/div[2]/a[10]', '/html/body/div/div[2]/div[1]/div[3]/div[3]/div[2]/div[2]/a[11]', '/html/body/div/div[2]/div[1]/div[3]/div[3]/div[2]/div[2]/a[12]', '/html/body/div/div[2]/div[1]/div[3]/div[3]/div[2]/div[2]/a[13]', '/html/body/div/div[2]/div[1]/div[3]/div[3]/div[2]/div[2]/a[14]', '/html/body/div/div[2]/div[1]/div[3]/div[3]/div[2]/div[2]/a[15]', '/html/body/div/div[2]/div[1]/div[3]/div[3]/div[2]/div[2]/a[16]', '/html/body/div/div[2]/div[1]/div[3]/div[3]/div[2]/div[2]/a[17]', '/html/body/div/div[2]/div[1]/div[3]/div[3]/div[2]/div[2]/a[18]', '/html/body/div/div[2]/div[1]/div[3]/div[3]/div[2]/div[2]/a[19]', '/html/body/div/div[2]/div[1]/div[3]/div[3]/div[2]/div[2]/a[20]', '/html/body/div/div[2]/div[1]/div[3]/div[3]/div[2]/div[2]/a[21]']\n",
      "['/html/body/div/div[2]/div[1]/div[3]/div[3]/div[2]/div[2]/a[1]', '/html/body/div/div[2]/div[1]/div[3]/div[3]/div[2]/div[2]/a[2]', '/html/body/div/div[2]/div[1]/div[3]/div[3]/div[2]/div[2]/a[3]', '/html/body/div/div[2]/div[1]/div[3]/div[3]/div[2]/div[2]/a[4]', '/html/body/div/div[2]/div[1]/div[3]/div[3]/div[2]/div[2]/a[5]', '/html/body/div/div[2]/div[1]/div[3]/div[3]/div[2]/div[2]/a[6]', '/html/body/div/div[2]/div[1]/div[3]/div[3]/div[2]/div[2]/a[7]', '/html/body/div/div[2]/div[1]/div[3]/div[3]/div[2]/div[2]/a[8]', '/html/body/div/div[2]/div[1]/div[3]/div[3]/div[2]/div[2]/a[9]', '/html/body/div/div[2]/div[1]/div[3]/div[3]/div[2]/div[2]/a[10]', '/html/body/div/div[2]/div[1]/div[3]/div[3]/div[2]/div[2]/a[11]', '/html/body/div/div[2]/div[1]/div[3]/div[3]/div[2]/div[2]/a[12]', '/html/body/div/div[2]/div[1]/div[3]/div[3]/div[2]/div[2]/a[13]', '/html/body/div/div[2]/div[1]/div[3]/div[3]/div[2]/div[2]/a[14]', '/html/body/div/div[2]/div[1]/div[3]/div[3]/div[2]/div[2]/a[15]', '/html/body/div/div[2]/div[1]/div[3]/div[3]/div[2]/div[2]/a[16]', '/html/body/div/div[2]/div[1]/div[3]/div[3]/div[2]/div[2]/a[17]', '/html/body/div/div[2]/div[1]/div[3]/div[3]/div[2]/div[2]/a[18]', '/html/body/div/div[2]/div[1]/div[3]/div[3]/div[2]/div[2]/a[19]', '/html/body/div/div[2]/div[1]/div[3]/div[3]/div[2]/div[2]/a[20]', '/html/body/div/div[2]/div[1]/div[3]/div[3]/div[2]/div[2]/a[21]', '/html/body/div/div[2]/div[1]/div[3]/div[3]/div[2]/div[2]/a[22]']\n",
      "['/html/body/div/div[2]/div[1]/div[3]/div[3]/div[2]/div[2]/a[1]', '/html/body/div/div[2]/div[1]/div[3]/div[3]/div[2]/div[2]/a[2]', '/html/body/div/div[2]/div[1]/div[3]/div[3]/div[2]/div[2]/a[3]', '/html/body/div/div[2]/div[1]/div[3]/div[3]/div[2]/div[2]/a[4]', '/html/body/div/div[2]/div[1]/div[3]/div[3]/div[2]/div[2]/a[5]', '/html/body/div/div[2]/div[1]/div[3]/div[3]/div[2]/div[2]/a[6]', '/html/body/div/div[2]/div[1]/div[3]/div[3]/div[2]/div[2]/a[7]', '/html/body/div/div[2]/div[1]/div[3]/div[3]/div[2]/div[2]/a[8]', '/html/body/div/div[2]/div[1]/div[3]/div[3]/div[2]/div[2]/a[9]', '/html/body/div/div[2]/div[1]/div[3]/div[3]/div[2]/div[2]/a[10]', '/html/body/div/div[2]/div[1]/div[3]/div[3]/div[2]/div[2]/a[11]', '/html/body/div/div[2]/div[1]/div[3]/div[3]/div[2]/div[2]/a[12]', '/html/body/div/div[2]/div[1]/div[3]/div[3]/div[2]/div[2]/a[13]', '/html/body/div/div[2]/div[1]/div[3]/div[3]/div[2]/div[2]/a[14]', '/html/body/div/div[2]/div[1]/div[3]/div[3]/div[2]/div[2]/a[15]', '/html/body/div/div[2]/div[1]/div[3]/div[3]/div[2]/div[2]/a[16]', '/html/body/div/div[2]/div[1]/div[3]/div[3]/div[2]/div[2]/a[17]', '/html/body/div/div[2]/div[1]/div[3]/div[3]/div[2]/div[2]/a[18]', '/html/body/div/div[2]/div[1]/div[3]/div[3]/div[2]/div[2]/a[19]', '/html/body/div/div[2]/div[1]/div[3]/div[3]/div[2]/div[2]/a[20]', '/html/body/div/div[2]/div[1]/div[3]/div[3]/div[2]/div[2]/a[21]', '/html/body/div/div[2]/div[1]/div[3]/div[3]/div[2]/div[2]/a[22]', '/html/body/div/div[2]/div[1]/div[3]/div[3]/div[2]/div[2]/a[23]']\n",
      "['/html/body/div/div[2]/div[1]/div[3]/div[3]/div[2]/div[2]/a[1]', '/html/body/div/div[2]/div[1]/div[3]/div[3]/div[2]/div[2]/a[2]', '/html/body/div/div[2]/div[1]/div[3]/div[3]/div[2]/div[2]/a[3]', '/html/body/div/div[2]/div[1]/div[3]/div[3]/div[2]/div[2]/a[4]', '/html/body/div/div[2]/div[1]/div[3]/div[3]/div[2]/div[2]/a[5]', '/html/body/div/div[2]/div[1]/div[3]/div[3]/div[2]/div[2]/a[6]', '/html/body/div/div[2]/div[1]/div[3]/div[3]/div[2]/div[2]/a[7]', '/html/body/div/div[2]/div[1]/div[3]/div[3]/div[2]/div[2]/a[8]', '/html/body/div/div[2]/div[1]/div[3]/div[3]/div[2]/div[2]/a[9]', '/html/body/div/div[2]/div[1]/div[3]/div[3]/div[2]/div[2]/a[10]', '/html/body/div/div[2]/div[1]/div[3]/div[3]/div[2]/div[2]/a[11]', '/html/body/div/div[2]/div[1]/div[3]/div[3]/div[2]/div[2]/a[12]', '/html/body/div/div[2]/div[1]/div[3]/div[3]/div[2]/div[2]/a[13]', '/html/body/div/div[2]/div[1]/div[3]/div[3]/div[2]/div[2]/a[14]', '/html/body/div/div[2]/div[1]/div[3]/div[3]/div[2]/div[2]/a[15]', '/html/body/div/div[2]/div[1]/div[3]/div[3]/div[2]/div[2]/a[16]', '/html/body/div/div[2]/div[1]/div[3]/div[3]/div[2]/div[2]/a[17]', '/html/body/div/div[2]/div[1]/div[3]/div[3]/div[2]/div[2]/a[18]', '/html/body/div/div[2]/div[1]/div[3]/div[3]/div[2]/div[2]/a[19]', '/html/body/div/div[2]/div[1]/div[3]/div[3]/div[2]/div[2]/a[20]', '/html/body/div/div[2]/div[1]/div[3]/div[3]/div[2]/div[2]/a[21]', '/html/body/div/div[2]/div[1]/div[3]/div[3]/div[2]/div[2]/a[22]', '/html/body/div/div[2]/div[1]/div[3]/div[3]/div[2]/div[2]/a[23]', '/html/body/div/div[2]/div[1]/div[3]/div[3]/div[2]/div[2]/a[24]']\n",
      "['/html/body/div/div[2]/div[1]/div[3]/div[3]/div[2]/div[2]/a[1]', '/html/body/div/div[2]/div[1]/div[3]/div[3]/div[2]/div[2]/a[2]', '/html/body/div/div[2]/div[1]/div[3]/div[3]/div[2]/div[2]/a[3]', '/html/body/div/div[2]/div[1]/div[3]/div[3]/div[2]/div[2]/a[4]', '/html/body/div/div[2]/div[1]/div[3]/div[3]/div[2]/div[2]/a[5]', '/html/body/div/div[2]/div[1]/div[3]/div[3]/div[2]/div[2]/a[6]', '/html/body/div/div[2]/div[1]/div[3]/div[3]/div[2]/div[2]/a[7]', '/html/body/div/div[2]/div[1]/div[3]/div[3]/div[2]/div[2]/a[8]', '/html/body/div/div[2]/div[1]/div[3]/div[3]/div[2]/div[2]/a[9]', '/html/body/div/div[2]/div[1]/div[3]/div[3]/div[2]/div[2]/a[10]', '/html/body/div/div[2]/div[1]/div[3]/div[3]/div[2]/div[2]/a[11]', '/html/body/div/div[2]/div[1]/div[3]/div[3]/div[2]/div[2]/a[12]', '/html/body/div/div[2]/div[1]/div[3]/div[3]/div[2]/div[2]/a[13]', '/html/body/div/div[2]/div[1]/div[3]/div[3]/div[2]/div[2]/a[14]', '/html/body/div/div[2]/div[1]/div[3]/div[3]/div[2]/div[2]/a[15]', '/html/body/div/div[2]/div[1]/div[3]/div[3]/div[2]/div[2]/a[16]', '/html/body/div/div[2]/div[1]/div[3]/div[3]/div[2]/div[2]/a[17]', '/html/body/div/div[2]/div[1]/div[3]/div[3]/div[2]/div[2]/a[18]', '/html/body/div/div[2]/div[1]/div[3]/div[3]/div[2]/div[2]/a[19]', '/html/body/div/div[2]/div[1]/div[3]/div[3]/div[2]/div[2]/a[20]', '/html/body/div/div[2]/div[1]/div[3]/div[3]/div[2]/div[2]/a[21]', '/html/body/div/div[2]/div[1]/div[3]/div[3]/div[2]/div[2]/a[22]', '/html/body/div/div[2]/div[1]/div[3]/div[3]/div[2]/div[2]/a[23]', '/html/body/div/div[2]/div[1]/div[3]/div[3]/div[2]/div[2]/a[24]', '/html/body/div/div[2]/div[1]/div[3]/div[3]/div[2]/div[2]/a[25]']\n",
      "['/html/body/div/div[2]/div[1]/div[3]/div[3]/div[2]/div[2]/a[1]', '/html/body/div/div[2]/div[1]/div[3]/div[3]/div[2]/div[2]/a[2]', '/html/body/div/div[2]/div[1]/div[3]/div[3]/div[2]/div[2]/a[3]', '/html/body/div/div[2]/div[1]/div[3]/div[3]/div[2]/div[2]/a[4]', '/html/body/div/div[2]/div[1]/div[3]/div[3]/div[2]/div[2]/a[5]', '/html/body/div/div[2]/div[1]/div[3]/div[3]/div[2]/div[2]/a[6]', '/html/body/div/div[2]/div[1]/div[3]/div[3]/div[2]/div[2]/a[7]', '/html/body/div/div[2]/div[1]/div[3]/div[3]/div[2]/div[2]/a[8]', '/html/body/div/div[2]/div[1]/div[3]/div[3]/div[2]/div[2]/a[9]', '/html/body/div/div[2]/div[1]/div[3]/div[3]/div[2]/div[2]/a[10]', '/html/body/div/div[2]/div[1]/div[3]/div[3]/div[2]/div[2]/a[11]', '/html/body/div/div[2]/div[1]/div[3]/div[3]/div[2]/div[2]/a[12]', '/html/body/div/div[2]/div[1]/div[3]/div[3]/div[2]/div[2]/a[13]', '/html/body/div/div[2]/div[1]/div[3]/div[3]/div[2]/div[2]/a[14]', '/html/body/div/div[2]/div[1]/div[3]/div[3]/div[2]/div[2]/a[15]', '/html/body/div/div[2]/div[1]/div[3]/div[3]/div[2]/div[2]/a[16]', '/html/body/div/div[2]/div[1]/div[3]/div[3]/div[2]/div[2]/a[17]', '/html/body/div/div[2]/div[1]/div[3]/div[3]/div[2]/div[2]/a[18]', '/html/body/div/div[2]/div[1]/div[3]/div[3]/div[2]/div[2]/a[19]', '/html/body/div/div[2]/div[1]/div[3]/div[3]/div[2]/div[2]/a[20]', '/html/body/div/div[2]/div[1]/div[3]/div[3]/div[2]/div[2]/a[21]', '/html/body/div/div[2]/div[1]/div[3]/div[3]/div[2]/div[2]/a[22]', '/html/body/div/div[2]/div[1]/div[3]/div[3]/div[2]/div[2]/a[23]', '/html/body/div/div[2]/div[1]/div[3]/div[3]/div[2]/div[2]/a[24]', '/html/body/div/div[2]/div[1]/div[3]/div[3]/div[2]/div[2]/a[25]', '/html/body/div/div[2]/div[1]/div[3]/div[3]/div[2]/div[2]/a[26]']\n",
      "['/html/body/div/div[2]/div[1]/div[3]/div[3]/div[2]/div[2]/a[1]', '/html/body/div/div[2]/div[1]/div[3]/div[3]/div[2]/div[2]/a[2]', '/html/body/div/div[2]/div[1]/div[3]/div[3]/div[2]/div[2]/a[3]', '/html/body/div/div[2]/div[1]/div[3]/div[3]/div[2]/div[2]/a[4]', '/html/body/div/div[2]/div[1]/div[3]/div[3]/div[2]/div[2]/a[5]', '/html/body/div/div[2]/div[1]/div[3]/div[3]/div[2]/div[2]/a[6]', '/html/body/div/div[2]/div[1]/div[3]/div[3]/div[2]/div[2]/a[7]', '/html/body/div/div[2]/div[1]/div[3]/div[3]/div[2]/div[2]/a[8]', '/html/body/div/div[2]/div[1]/div[3]/div[3]/div[2]/div[2]/a[9]', '/html/body/div/div[2]/div[1]/div[3]/div[3]/div[2]/div[2]/a[10]', '/html/body/div/div[2]/div[1]/div[3]/div[3]/div[2]/div[2]/a[11]', '/html/body/div/div[2]/div[1]/div[3]/div[3]/div[2]/div[2]/a[12]', '/html/body/div/div[2]/div[1]/div[3]/div[3]/div[2]/div[2]/a[13]', '/html/body/div/div[2]/div[1]/div[3]/div[3]/div[2]/div[2]/a[14]', '/html/body/div/div[2]/div[1]/div[3]/div[3]/div[2]/div[2]/a[15]', '/html/body/div/div[2]/div[1]/div[3]/div[3]/div[2]/div[2]/a[16]', '/html/body/div/div[2]/div[1]/div[3]/div[3]/div[2]/div[2]/a[17]', '/html/body/div/div[2]/div[1]/div[3]/div[3]/div[2]/div[2]/a[18]', '/html/body/div/div[2]/div[1]/div[3]/div[3]/div[2]/div[2]/a[19]', '/html/body/div/div[2]/div[1]/div[3]/div[3]/div[2]/div[2]/a[20]', '/html/body/div/div[2]/div[1]/div[3]/div[3]/div[2]/div[2]/a[21]', '/html/body/div/div[2]/div[1]/div[3]/div[3]/div[2]/div[2]/a[22]', '/html/body/div/div[2]/div[1]/div[3]/div[3]/div[2]/div[2]/a[23]', '/html/body/div/div[2]/div[1]/div[3]/div[3]/div[2]/div[2]/a[24]', '/html/body/div/div[2]/div[1]/div[3]/div[3]/div[2]/div[2]/a[25]', '/html/body/div/div[2]/div[1]/div[3]/div[3]/div[2]/div[2]/a[26]', '/html/body/div/div[2]/div[1]/div[3]/div[3]/div[2]/div[2]/a[27]']\n",
      "['/html/body/div/div[2]/div[1]/div[3]/div[3]/div[2]/div[2]/a[1]', '/html/body/div/div[2]/div[1]/div[3]/div[3]/div[2]/div[2]/a[2]', '/html/body/div/div[2]/div[1]/div[3]/div[3]/div[2]/div[2]/a[3]', '/html/body/div/div[2]/div[1]/div[3]/div[3]/div[2]/div[2]/a[4]', '/html/body/div/div[2]/div[1]/div[3]/div[3]/div[2]/div[2]/a[5]', '/html/body/div/div[2]/div[1]/div[3]/div[3]/div[2]/div[2]/a[6]', '/html/body/div/div[2]/div[1]/div[3]/div[3]/div[2]/div[2]/a[7]', '/html/body/div/div[2]/div[1]/div[3]/div[3]/div[2]/div[2]/a[8]', '/html/body/div/div[2]/div[1]/div[3]/div[3]/div[2]/div[2]/a[9]', '/html/body/div/div[2]/div[1]/div[3]/div[3]/div[2]/div[2]/a[10]', '/html/body/div/div[2]/div[1]/div[3]/div[3]/div[2]/div[2]/a[11]', '/html/body/div/div[2]/div[1]/div[3]/div[3]/div[2]/div[2]/a[12]', '/html/body/div/div[2]/div[1]/div[3]/div[3]/div[2]/div[2]/a[13]', '/html/body/div/div[2]/div[1]/div[3]/div[3]/div[2]/div[2]/a[14]', '/html/body/div/div[2]/div[1]/div[3]/div[3]/div[2]/div[2]/a[15]', '/html/body/div/div[2]/div[1]/div[3]/div[3]/div[2]/div[2]/a[16]', '/html/body/div/div[2]/div[1]/div[3]/div[3]/div[2]/div[2]/a[17]', '/html/body/div/div[2]/div[1]/div[3]/div[3]/div[2]/div[2]/a[18]', '/html/body/div/div[2]/div[1]/div[3]/div[3]/div[2]/div[2]/a[19]', '/html/body/div/div[2]/div[1]/div[3]/div[3]/div[2]/div[2]/a[20]', '/html/body/div/div[2]/div[1]/div[3]/div[3]/div[2]/div[2]/a[21]', '/html/body/div/div[2]/div[1]/div[3]/div[3]/div[2]/div[2]/a[22]', '/html/body/div/div[2]/div[1]/div[3]/div[3]/div[2]/div[2]/a[23]', '/html/body/div/div[2]/div[1]/div[3]/div[3]/div[2]/div[2]/a[24]', '/html/body/div/div[2]/div[1]/div[3]/div[3]/div[2]/div[2]/a[25]', '/html/body/div/div[2]/div[1]/div[3]/div[3]/div[2]/div[2]/a[26]', '/html/body/div/div[2]/div[1]/div[3]/div[3]/div[2]/div[2]/a[27]', '/html/body/div/div[2]/div[1]/div[3]/div[3]/div[2]/div[2]/a[28]']\n",
      "['/html/body/div/div[2]/div[1]/div[3]/div[3]/div[2]/div[2]/a[1]', '/html/body/div/div[2]/div[1]/div[3]/div[3]/div[2]/div[2]/a[2]', '/html/body/div/div[2]/div[1]/div[3]/div[3]/div[2]/div[2]/a[3]', '/html/body/div/div[2]/div[1]/div[3]/div[3]/div[2]/div[2]/a[4]', '/html/body/div/div[2]/div[1]/div[3]/div[3]/div[2]/div[2]/a[5]', '/html/body/div/div[2]/div[1]/div[3]/div[3]/div[2]/div[2]/a[6]', '/html/body/div/div[2]/div[1]/div[3]/div[3]/div[2]/div[2]/a[7]', '/html/body/div/div[2]/div[1]/div[3]/div[3]/div[2]/div[2]/a[8]', '/html/body/div/div[2]/div[1]/div[3]/div[3]/div[2]/div[2]/a[9]', '/html/body/div/div[2]/div[1]/div[3]/div[3]/div[2]/div[2]/a[10]', '/html/body/div/div[2]/div[1]/div[3]/div[3]/div[2]/div[2]/a[11]', '/html/body/div/div[2]/div[1]/div[3]/div[3]/div[2]/div[2]/a[12]', '/html/body/div/div[2]/div[1]/div[3]/div[3]/div[2]/div[2]/a[13]', '/html/body/div/div[2]/div[1]/div[3]/div[3]/div[2]/div[2]/a[14]', '/html/body/div/div[2]/div[1]/div[3]/div[3]/div[2]/div[2]/a[15]', '/html/body/div/div[2]/div[1]/div[3]/div[3]/div[2]/div[2]/a[16]', '/html/body/div/div[2]/div[1]/div[3]/div[3]/div[2]/div[2]/a[17]', '/html/body/div/div[2]/div[1]/div[3]/div[3]/div[2]/div[2]/a[18]', '/html/body/div/div[2]/div[1]/div[3]/div[3]/div[2]/div[2]/a[19]', '/html/body/div/div[2]/div[1]/div[3]/div[3]/div[2]/div[2]/a[20]', '/html/body/div/div[2]/div[1]/div[3]/div[3]/div[2]/div[2]/a[21]', '/html/body/div/div[2]/div[1]/div[3]/div[3]/div[2]/div[2]/a[22]', '/html/body/div/div[2]/div[1]/div[3]/div[3]/div[2]/div[2]/a[23]', '/html/body/div/div[2]/div[1]/div[3]/div[3]/div[2]/div[2]/a[24]', '/html/body/div/div[2]/div[1]/div[3]/div[3]/div[2]/div[2]/a[25]', '/html/body/div/div[2]/div[1]/div[3]/div[3]/div[2]/div[2]/a[26]', '/html/body/div/div[2]/div[1]/div[3]/div[3]/div[2]/div[2]/a[27]', '/html/body/div/div[2]/div[1]/div[3]/div[3]/div[2]/div[2]/a[28]', '/html/body/div/div[2]/div[1]/div[3]/div[3]/div[2]/div[2]/a[29]']\n",
      "['/html/body/div/div[2]/div[1]/div[3]/div[3]/div[2]/div[2]/a[1]', '/html/body/div/div[2]/div[1]/div[3]/div[3]/div[2]/div[2]/a[2]', '/html/body/div/div[2]/div[1]/div[3]/div[3]/div[2]/div[2]/a[3]', '/html/body/div/div[2]/div[1]/div[3]/div[3]/div[2]/div[2]/a[4]', '/html/body/div/div[2]/div[1]/div[3]/div[3]/div[2]/div[2]/a[5]', '/html/body/div/div[2]/div[1]/div[3]/div[3]/div[2]/div[2]/a[6]', '/html/body/div/div[2]/div[1]/div[3]/div[3]/div[2]/div[2]/a[7]', '/html/body/div/div[2]/div[1]/div[3]/div[3]/div[2]/div[2]/a[8]', '/html/body/div/div[2]/div[1]/div[3]/div[3]/div[2]/div[2]/a[9]', '/html/body/div/div[2]/div[1]/div[3]/div[3]/div[2]/div[2]/a[10]', '/html/body/div/div[2]/div[1]/div[3]/div[3]/div[2]/div[2]/a[11]', '/html/body/div/div[2]/div[1]/div[3]/div[3]/div[2]/div[2]/a[12]', '/html/body/div/div[2]/div[1]/div[3]/div[3]/div[2]/div[2]/a[13]', '/html/body/div/div[2]/div[1]/div[3]/div[3]/div[2]/div[2]/a[14]', '/html/body/div/div[2]/div[1]/div[3]/div[3]/div[2]/div[2]/a[15]', '/html/body/div/div[2]/div[1]/div[3]/div[3]/div[2]/div[2]/a[16]', '/html/body/div/div[2]/div[1]/div[3]/div[3]/div[2]/div[2]/a[17]', '/html/body/div/div[2]/div[1]/div[3]/div[3]/div[2]/div[2]/a[18]', '/html/body/div/div[2]/div[1]/div[3]/div[3]/div[2]/div[2]/a[19]', '/html/body/div/div[2]/div[1]/div[3]/div[3]/div[2]/div[2]/a[20]', '/html/body/div/div[2]/div[1]/div[3]/div[3]/div[2]/div[2]/a[21]', '/html/body/div/div[2]/div[1]/div[3]/div[3]/div[2]/div[2]/a[22]', '/html/body/div/div[2]/div[1]/div[3]/div[3]/div[2]/div[2]/a[23]', '/html/body/div/div[2]/div[1]/div[3]/div[3]/div[2]/div[2]/a[24]', '/html/body/div/div[2]/div[1]/div[3]/div[3]/div[2]/div[2]/a[25]', '/html/body/div/div[2]/div[1]/div[3]/div[3]/div[2]/div[2]/a[26]', '/html/body/div/div[2]/div[1]/div[3]/div[3]/div[2]/div[2]/a[27]', '/html/body/div/div[2]/div[1]/div[3]/div[3]/div[2]/div[2]/a[28]', '/html/body/div/div[2]/div[1]/div[3]/div[3]/div[2]/div[2]/a[29]', '/html/body/div/div[2]/div[1]/div[3]/div[3]/div[2]/div[2]/a[30]']\n"
     ]
    }
   ],
   "source": [
    "#need to make something that either loops through containers to failure or counts them\n",
    "for x in range(1,31):\n",
    "    paths = ('/html/body/div/div[2]/div[1]/div[3]/div[3]/div[2]/div[2]/a[{}]').format(x)\n",
    "    paths_by_page.append(paths)\n",
    "    print(paths_by_page)\n",
    "    \n",
    "    \n",
    "    "
   ]
  },
  {
   "cell_type": "code",
   "execution_count": 258,
   "metadata": {},
   "outputs": [
    {
     "data": {
      "text/plain": [
       "'/html/body/div/div[2]/div[1]/div[3]/div[3]/div[2]/div[2]/a[30]'"
      ]
     },
     "execution_count": 258,
     "metadata": {},
     "output_type": "execute_result"
    }
   ],
   "source": [
    "paths_by_page[29]"
   ]
  },
  {
   "cell_type": "code",
   "execution_count": 259,
   "metadata": {},
   "outputs": [],
   "source": [
    "jordan_shoes = []"
   ]
  },
  {
   "cell_type": "code",
   "execution_count": 260,
   "metadata": {},
   "outputs": [],
   "source": [
    "def shoe_page_scrape(driver):\n",
    "    for p in range(0,30):\n",
    "        air_jordan1 = {}\n",
    "        \n",
    "        #element = wait.until(EC.element_to_be_clickable((By.XPATH, path)))\n",
    "        element = driver.find_element_by_xpath(paths_by_page[p])\n",
    "        driver.maximize_window() #For maximizing window\n",
    "        driver.implicitly_wait(20) #gives an implicit wait for 20 seconds\n",
    "        element.click()\n",
    "        driver.implicitly_wait(10)\n",
    "        air_jordan1[\"shoe_title\"] = driver.find_element_by_xpath('/html/body/div/div[2]/div[1]/div/div[2]/div[1]/h1').text\n",
    "        air_jordan1[\"shoe_info\"] = driver.find_element_by_xpath('/html/body/div/div[2]/div[1]/div/div[2]/div[1]/h3').text\n",
    "        jordan_shoes.append(air_jordan1)\n",
    "        driver.implicitly_wait(10)\n",
    "        driver.back()\n",
    "    \n",
    "    \n",
    "        \n",
    "        "
   ]
  },
  {
   "cell_type": "code",
   "execution_count": 261,
   "metadata": {},
   "outputs": [],
   "source": [
    "def next_page(driver):\n",
    "    if driver.current_url != my_url:\n",
    "        next_button = driver.find_element_by_xpath('/html/body/div/div[2]/div[1]/div[3]/div[2]/ul/li[3]/button')\n",
    "        next_button.click()\n",
    "        #could add conteiner counter/numbers here\n",
    "        shoe_page_scrape(driver)\n",
    "    else:\n",
    "        print(\"Scraping for this shoe is done.\")"
   ]
  },
  {
   "cell_type": "code",
   "execution_count": 263,
   "metadata": {},
   "outputs": [
    {
     "ename": "NoSuchElementException",
     "evalue": "Message: no such element: Unable to locate element: {\"method\":\"xpath\",\"selector\":\"/html/body/div/div[2]/div[1]/div[3]/div[3]/div[2]/div[2]/a[1]\"}\n  (Session info: chrome=81.0.4044.138)\n",
     "output_type": "error",
     "traceback": [
      "\u001b[0;31m---------------------------------------------------------------------------\u001b[0m",
      "\u001b[0;31mNoSuchElementException\u001b[0m                    Traceback (most recent call last)",
      "\u001b[0;32m<ipython-input-263-d035377fc620>\u001b[0m in \u001b[0;36m<module>\u001b[0;34m()\u001b[0m\n\u001b[1;32m      4\u001b[0m \u001b[0mmain_page\u001b[0m\u001b[0;34m(\u001b[0m\u001b[0mdriver\u001b[0m\u001b[0;34m)\u001b[0m\u001b[0;34m\u001b[0m\u001b[0m\n\u001b[1;32m      5\u001b[0m \u001b[0;31m#loop through containers on that page, once finished return to page 1\u001b[0m\u001b[0;34m\u001b[0m\u001b[0;34m\u001b[0m\u001b[0m\n\u001b[0;32m----> 6\u001b[0;31m \u001b[0mshoe_page_scrape\u001b[0m\u001b[0;34m(\u001b[0m\u001b[0mdriver\u001b[0m\u001b[0;34m)\u001b[0m\u001b[0;34m\u001b[0m\u001b[0m\n\u001b[0m\u001b[1;32m      7\u001b[0m \u001b[0;31m#advances through pages by hitting button and progresses to next page until fail\u001b[0m\u001b[0;34m\u001b[0m\u001b[0;34m\u001b[0m\u001b[0m\n\u001b[1;32m      8\u001b[0m \u001b[0mnext_page\u001b[0m\u001b[0;34m(\u001b[0m\u001b[0mdriver\u001b[0m\u001b[0;34m)\u001b[0m\u001b[0;34m\u001b[0m\u001b[0m\n",
      "\u001b[0;32m<ipython-input-260-a033bc310b22>\u001b[0m in \u001b[0;36mshoe_page_scrape\u001b[0;34m(driver)\u001b[0m\n\u001b[1;32m      4\u001b[0m \u001b[0;34m\u001b[0m\u001b[0m\n\u001b[1;32m      5\u001b[0m         \u001b[0;31m#element = wait.until(EC.element_to_be_clickable((By.XPATH, path)))\u001b[0m\u001b[0;34m\u001b[0m\u001b[0;34m\u001b[0m\u001b[0m\n\u001b[0;32m----> 6\u001b[0;31m         \u001b[0melement\u001b[0m \u001b[0;34m=\u001b[0m \u001b[0mdriver\u001b[0m\u001b[0;34m.\u001b[0m\u001b[0mfind_element_by_xpath\u001b[0m\u001b[0;34m(\u001b[0m\u001b[0mpaths_by_page\u001b[0m\u001b[0;34m[\u001b[0m\u001b[0mp\u001b[0m\u001b[0;34m]\u001b[0m\u001b[0;34m)\u001b[0m\u001b[0;34m\u001b[0m\u001b[0m\n\u001b[0m\u001b[1;32m      7\u001b[0m         \u001b[0mdriver\u001b[0m\u001b[0;34m.\u001b[0m\u001b[0mmaximize_window\u001b[0m\u001b[0;34m(\u001b[0m\u001b[0;34m)\u001b[0m \u001b[0;31m#For maximizing window\u001b[0m\u001b[0;34m\u001b[0m\u001b[0m\n\u001b[1;32m      8\u001b[0m         \u001b[0mdriver\u001b[0m\u001b[0;34m.\u001b[0m\u001b[0mimplicitly_wait\u001b[0m\u001b[0;34m(\u001b[0m\u001b[0;36m20\u001b[0m\u001b[0;34m)\u001b[0m \u001b[0;31m#gives an implicit wait for 20 seconds\u001b[0m\u001b[0;34m\u001b[0m\u001b[0m\n",
      "\u001b[0;32m~/anaconda3/lib/python3.7/site-packages/selenium/webdriver/remote/webdriver.py\u001b[0m in \u001b[0;36mfind_element_by_xpath\u001b[0;34m(self, xpath)\u001b[0m\n\u001b[1;32m    392\u001b[0m             \u001b[0melement\u001b[0m \u001b[0;34m=\u001b[0m \u001b[0mdriver\u001b[0m\u001b[0;34m.\u001b[0m\u001b[0mfind_element_by_xpath\u001b[0m\u001b[0;34m(\u001b[0m\u001b[0;34m'//div/td[1]'\u001b[0m\u001b[0;34m)\u001b[0m\u001b[0;34m\u001b[0m\u001b[0m\n\u001b[1;32m    393\u001b[0m         \"\"\"\n\u001b[0;32m--> 394\u001b[0;31m         \u001b[0;32mreturn\u001b[0m \u001b[0mself\u001b[0m\u001b[0;34m.\u001b[0m\u001b[0mfind_element\u001b[0m\u001b[0;34m(\u001b[0m\u001b[0mby\u001b[0m\u001b[0;34m=\u001b[0m\u001b[0mBy\u001b[0m\u001b[0;34m.\u001b[0m\u001b[0mXPATH\u001b[0m\u001b[0;34m,\u001b[0m \u001b[0mvalue\u001b[0m\u001b[0;34m=\u001b[0m\u001b[0mxpath\u001b[0m\u001b[0;34m)\u001b[0m\u001b[0;34m\u001b[0m\u001b[0m\n\u001b[0m\u001b[1;32m    395\u001b[0m \u001b[0;34m\u001b[0m\u001b[0m\n\u001b[1;32m    396\u001b[0m     \u001b[0;32mdef\u001b[0m \u001b[0mfind_elements_by_xpath\u001b[0m\u001b[0;34m(\u001b[0m\u001b[0mself\u001b[0m\u001b[0;34m,\u001b[0m \u001b[0mxpath\u001b[0m\u001b[0;34m)\u001b[0m\u001b[0;34m:\u001b[0m\u001b[0;34m\u001b[0m\u001b[0m\n",
      "\u001b[0;32m~/anaconda3/lib/python3.7/site-packages/selenium/webdriver/remote/webdriver.py\u001b[0m in \u001b[0;36mfind_element\u001b[0;34m(self, by, value)\u001b[0m\n\u001b[1;32m    976\u001b[0m         return self.execute(Command.FIND_ELEMENT, {\n\u001b[1;32m    977\u001b[0m             \u001b[0;34m'using'\u001b[0m\u001b[0;34m:\u001b[0m \u001b[0mby\u001b[0m\u001b[0;34m,\u001b[0m\u001b[0;34m\u001b[0m\u001b[0m\n\u001b[0;32m--> 978\u001b[0;31m             'value': value})['value']\n\u001b[0m\u001b[1;32m    979\u001b[0m \u001b[0;34m\u001b[0m\u001b[0m\n\u001b[1;32m    980\u001b[0m     \u001b[0;32mdef\u001b[0m \u001b[0mfind_elements\u001b[0m\u001b[0;34m(\u001b[0m\u001b[0mself\u001b[0m\u001b[0;34m,\u001b[0m \u001b[0mby\u001b[0m\u001b[0;34m=\u001b[0m\u001b[0mBy\u001b[0m\u001b[0;34m.\u001b[0m\u001b[0mID\u001b[0m\u001b[0;34m,\u001b[0m \u001b[0mvalue\u001b[0m\u001b[0;34m=\u001b[0m\u001b[0;32mNone\u001b[0m\u001b[0;34m)\u001b[0m\u001b[0;34m:\u001b[0m\u001b[0;34m\u001b[0m\u001b[0m\n",
      "\u001b[0;32m~/anaconda3/lib/python3.7/site-packages/selenium/webdriver/remote/webdriver.py\u001b[0m in \u001b[0;36mexecute\u001b[0;34m(self, driver_command, params)\u001b[0m\n\u001b[1;32m    319\u001b[0m         \u001b[0mresponse\u001b[0m \u001b[0;34m=\u001b[0m \u001b[0mself\u001b[0m\u001b[0;34m.\u001b[0m\u001b[0mcommand_executor\u001b[0m\u001b[0;34m.\u001b[0m\u001b[0mexecute\u001b[0m\u001b[0;34m(\u001b[0m\u001b[0mdriver_command\u001b[0m\u001b[0;34m,\u001b[0m \u001b[0mparams\u001b[0m\u001b[0;34m)\u001b[0m\u001b[0;34m\u001b[0m\u001b[0m\n\u001b[1;32m    320\u001b[0m         \u001b[0;32mif\u001b[0m \u001b[0mresponse\u001b[0m\u001b[0;34m:\u001b[0m\u001b[0;34m\u001b[0m\u001b[0m\n\u001b[0;32m--> 321\u001b[0;31m             \u001b[0mself\u001b[0m\u001b[0;34m.\u001b[0m\u001b[0merror_handler\u001b[0m\u001b[0;34m.\u001b[0m\u001b[0mcheck_response\u001b[0m\u001b[0;34m(\u001b[0m\u001b[0mresponse\u001b[0m\u001b[0;34m)\u001b[0m\u001b[0;34m\u001b[0m\u001b[0m\n\u001b[0m\u001b[1;32m    322\u001b[0m             response['value'] = self._unwrap_value(\n\u001b[1;32m    323\u001b[0m                 response.get('value', None))\n",
      "\u001b[0;32m~/anaconda3/lib/python3.7/site-packages/selenium/webdriver/remote/errorhandler.py\u001b[0m in \u001b[0;36mcheck_response\u001b[0;34m(self, response)\u001b[0m\n\u001b[1;32m    240\u001b[0m                 \u001b[0malert_text\u001b[0m \u001b[0;34m=\u001b[0m \u001b[0mvalue\u001b[0m\u001b[0;34m[\u001b[0m\u001b[0;34m'alert'\u001b[0m\u001b[0;34m]\u001b[0m\u001b[0;34m.\u001b[0m\u001b[0mget\u001b[0m\u001b[0;34m(\u001b[0m\u001b[0;34m'text'\u001b[0m\u001b[0;34m)\u001b[0m\u001b[0;34m\u001b[0m\u001b[0m\n\u001b[1;32m    241\u001b[0m             \u001b[0;32mraise\u001b[0m \u001b[0mexception_class\u001b[0m\u001b[0;34m(\u001b[0m\u001b[0mmessage\u001b[0m\u001b[0;34m,\u001b[0m \u001b[0mscreen\u001b[0m\u001b[0;34m,\u001b[0m \u001b[0mstacktrace\u001b[0m\u001b[0;34m,\u001b[0m \u001b[0malert_text\u001b[0m\u001b[0;34m)\u001b[0m\u001b[0;34m\u001b[0m\u001b[0m\n\u001b[0;32m--> 242\u001b[0;31m         \u001b[0;32mraise\u001b[0m \u001b[0mexception_class\u001b[0m\u001b[0;34m(\u001b[0m\u001b[0mmessage\u001b[0m\u001b[0;34m,\u001b[0m \u001b[0mscreen\u001b[0m\u001b[0;34m,\u001b[0m \u001b[0mstacktrace\u001b[0m\u001b[0;34m)\u001b[0m\u001b[0;34m\u001b[0m\u001b[0m\n\u001b[0m\u001b[1;32m    243\u001b[0m \u001b[0;34m\u001b[0m\u001b[0m\n\u001b[1;32m    244\u001b[0m     \u001b[0;32mdef\u001b[0m \u001b[0m_value_or_default\u001b[0m\u001b[0;34m(\u001b[0m\u001b[0mself\u001b[0m\u001b[0;34m,\u001b[0m \u001b[0mobj\u001b[0m\u001b[0;34m,\u001b[0m \u001b[0mkey\u001b[0m\u001b[0;34m,\u001b[0m \u001b[0mdefault\u001b[0m\u001b[0;34m)\u001b[0m\u001b[0;34m:\u001b[0m\u001b[0;34m\u001b[0m\u001b[0m\n",
      "\u001b[0;31mNoSuchElementException\u001b[0m: Message: no such element: Unable to locate element: {\"method\":\"xpath\",\"selector\":\"/html/body/div/div[2]/div[1]/div[3]/div[3]/div[2]/div[2]/a[1]\"}\n  (Session info: chrome=81.0.4044.138)\n"
     ]
    }
   ],
   "source": [
    "#run functions\n",
    "driver = init_driver()\n",
    "#open air jordan 1 page 1\n",
    "main_page(driver)\n",
    "#loop through containers on that page, once finished return to page 1\n",
    "shoe_page_scrape(driver)\n",
    "#advances through pages by hitting button and progresses to next page until fail\n",
    "next_page(driver)"
   ]
  },
  {
   "cell_type": "code",
   "execution_count": null,
   "metadata": {},
   "outputs": [],
   "source": []
  },
  {
   "cell_type": "code",
   "execution_count": null,
   "metadata": {},
   "outputs": [],
   "source": []
  },
  {
   "cell_type": "code",
   "execution_count": 154,
   "metadata": {},
   "outputs": [
    {
     "name": "stdout",
     "output_type": "stream",
     "text": [
      "[{'shoe_title': 'AIR JORDAN 1 HIGH OG \"COURT PURPLE\"', 'shoe_info': '555088 500 | court purple/white/black | 4/11/20'}, {'shoe_title': 'AIR JORDAN 1 HIGH OG \"COURT PURPLE\"', 'shoe_info': '555088 500 | court purple/white/black | 4/11/20'}, {'shoe_title': 'AIR JORDAN 1 RETRO HIGH OG \"OBSIDIAN, UNC\"', 'shoe_info': '555088 140 | sail/obsidian-university blue | 8/31/19'}, {'shoe_title': 'AIR JORDAN 1 RETRO HIGH OG \"SHATTERED BACKBOARD 3.0\"', 'shoe_info': '555088 028 | black/pale vanilla-starfish | 10/26/19'}, {'shoe_title': 'AIR JORDAN 1 RETRO HIGH OG \"CHICAGO\"', 'shoe_info': '555088 101 | white/black-varsity red | 5/29/15'}, {'shoe_title': 'AIR JORDAN 1 RETRO HIGH OG \"GAME ROYAL\"', 'shoe_info': '555088 403 | game royal/summit white-black | 3/23/18'}, {'shoe_title': 'AIR JORDAN 1 HIGH OG TS SP \"TRAVIS SCOTT\"', 'shoe_info': 'cd4487 100 | sail/dark mocha-university red-black | 5/11/19'}, {'shoe_title': 'AIR JORDAN 1 RETRO HIGH OG \"PINE GREEN 2.0\"', 'shoe_info': '555088 030 | black/white-gym red-pine green | 2/29/20'}, {'shoe_title': 'AIR JORDAN 1 RETRO HIGH OG \"SHADOW\"', 'shoe_info': '555088 013 | black/white-medium grey | 4/14/18'}, {'shoe_title': 'WMNS AIR JORDAN 1 RETRO HIGH OG \"BLUE CHILL\"', 'shoe_info': 'cd0461 401 | obsidian/blue chill-white | 2/14/19'}, {'shoe_title': 'AIR JORDAN 1 RETRO HIGH OG \"BRED TOE\"', 'shoe_info': '555088 610 | gym red/summit white-black | 2/24/18'}, {'shoe_title': 'WMNS AIR JORDAN 1 HIGH OG \\'UNC TO CHICAGO\\' \"UNC TO CHICAGO\"', 'shoe_info': 'cd0461 046 | black/dark powder blue/gym red | 2/13/20'}, {'shoe_title': 'AIR JORDAN 1 X OFF-WHITE NRG \"OFF WHITE UNC\"', 'shoe_info': 'aq0818 148 | white/dark powder blue-cone | 5/23/18'}, {'shoe_title': 'WMNS AIR JORDAN 1 MID SE', 'shoe_info': 'cw1140 100 | white/black/lightbulb/team orange | 4/9/20'}, {'shoe_title': 'AIR JORDAN 1 RETRO HIGH OG \"CRIMSON TINT\"', 'shoe_info': '555088 081 | black/crimson tint-hyper pink-white | 4/11/19'}, {'shoe_title': 'AIR JORDAN 1 RETRO HIGH OG \"BLOODLINE\"', 'shoe_info': '555088 062 | black/gym red/white | 11/29/19'}, {'shoe_title': 'AIR JORDAN 1 RETRO HIGH OG \"BANNED 2016 RELEASE\"', 'shoe_info': '555088 001 | black/varsity red-white | 9/2/16'}, {'shoe_title': 'AIR JORDAN 1 HIGH OG FEARLESS \"FEARLESS\"', 'shoe_info': 'ck5666 100 | white/university blue-varsity red-black | 11/2/19'}, {'shoe_title': 'AIR JORDAN 1 RETRO HIGH OG \"TURBO GREEN\"', 'shoe_info': '555088 311 | turbo green/white-light smoke grey-sail | 2/15/19'}, {'shoe_title': 'AIR JORDAN 1 RETRO HIGH ZOOM \"RACER BLUE\"', 'shoe_info': 'ck6637 104 | white/racer blue/white | 3/14/20'}, {'shoe_title': 'AIR JORDAN 1 RETRO HIGH OG GS \"OBSIDIAN\"', 'shoe_info': '575441 140 | sail/obsidian/university blue | 8/31/19'}, {'shoe_title': 'AIR JORDAN 1 RETRO HIGH OG \"GYM RED\"', 'shoe_info': '555088 061 | black/white-sail-gym red | 6/28/19'}, {'shoe_title': 'AIR JORDAN 1 LOW OG SP-T \"TRAVIS SCOTT\"', 'shoe_info': 'cq4277 001 | black/dark mocha-university red-sail | 7/19/19'}, {'shoe_title': 'WMNS AIR JORDAN 1HIGH OG \"SATIN BLACK TOE\"', 'shoe_info': 'cd0461 016 | black/white-varsity red | 8/17/19'}, {'shoe_title': 'AIR JORDAN 1 RETRO HIGH OG GS \"PINE GREEN 2.0\"', 'shoe_info': '575441 030 | black/pine green/white/gym red | 2/29/20'}, {'shoe_title': 'AIR JORDAN 1 RETRO HIGH OG \"ROYAL 2017 RELEASE\"', 'shoe_info': '555088 007 | black/royal-white | 4/1/17'}, {'shoe_title': 'AIR JORDAN 1 MID', 'shoe_info': '554724 069 | black/gym red/white | 4/1/20'}, {'shoe_title': 'THE 10: AIR JORDAN 1 \"OFF WHITE\"', 'shoe_info': 'aa3834 101 | white/black-varsity red-black | 9/6/17'}, {'shoe_title': 'AIR JORDAN 1 RETRO HIGH SB \"NYC TO PARIS\"', 'shoe_info': 'cd6578 006 | light bone/crimson tint-hyper pink-black | 5/24/19'}, {'shoe_title': 'WMNS AIR JORDAN 1 RETRO HIGH OG \"TWIST, PONY\"', 'shoe_info': 'cd0461 007 | black/black-metallic gold-white | 5/9/19'}, {'shoe_title': 'AIR JORDAN 1 RETRO HIGH OG \"BLACK TOE\"', 'shoe_info': '555088 125 | black/white-varsity red | 11/4/16'}]\n"
     ]
    }
   ],
   "source": [
    "#page 1 data\n",
    "print(jordan_shoes)"
   ]
  },
  {
   "cell_type": "code",
   "execution_count": null,
   "metadata": {},
   "outputs": [],
   "source": []
  },
  {
   "cell_type": "code",
   "execution_count": null,
   "metadata": {},
   "outputs": [],
   "source": []
  },
  {
   "cell_type": "code",
   "execution_count": 6,
   "metadata": {},
   "outputs": [
    {
     "data": {
      "text/plain": [
       "<button aria-label=\"Navigation menu\" class=\"sc-1ym5jjq-4 jCpMEX\" data-qa=\"MobileHamburgerMenu\"><span class=\"sc-1eexhri-0 fUZEQh\"><svg class=\"svg-icon \" height=\"16\" viewbox=\"0 0 16 16\" width=\"16\" xmlns=\"http://www.w3.org/2000/svg\"><g fill=\"none\" fill-rule=\"nonzero\" stroke=\"#000\" stroke-linecap=\"square\" stroke-width=\"2\"><path d=\"M1 1h18M1 7h18M1 13h18\"></path></g></svg></span></button>"
      ]
     },
     "execution_count": 6,
     "metadata": {},
     "output_type": "execute_result"
    }
   ],
   "source": [
    "page_soup.body.button"
   ]
  },
  {
   "cell_type": "code",
   "execution_count": 9,
   "metadata": {},
   "outputs": [
    {
     "data": {
      "text/plain": [
       "<a class=\"sc-12adlsx-0 hniSJt\" color=\"inherit\" href=\"/air-jordan-1-high-og-court-purple-white-black-144204\"><figure class=\"yszfz8-0 WmBgi\" data-qa=\"ProductItems\"><div class=\"yszfz8-1 kOlyPc\"><img alt='Air Jordan 1 High OG \"Court Purple\"' class=\"sc-htpNat ipJcZu\" data-qa=\"ProductItemThumbnail\" data-testid=\"gridItemImage\" src=\"https://cdn.flightclub.com/750/TEMPLATE/144204/1.jpg\" srcset=\"https://cdn.flightclub.com/75/TEMPLATE/144204/1.jpg 75w, https://cdn.flightclub.com/120/TEMPLATE/144204/1.jpg 120w, https://cdn.flightclub.com/150/TEMPLATE/144204/1.jpg 150w, https://cdn.flightclub.com/240/TEMPLATE/144204/1.jpg 240w, https://cdn.flightclub.com/375/TEMPLATE/144204/1.jpg 375w, https://cdn.flightclub.com/500/TEMPLATE/144204/1.jpg 500w, https://cdn.flightclub.com/750/TEMPLATE/144204/1.jpg 750w, https://cdn.flightclub.com/1000/TEMPLATE/144204/1.jpg 1000w, https://cdn.flightclub.com/1250/TEMPLATE/144204/1.jpg 1250w, https://cdn.flightclub.com/1500/TEMPLATE/144204/1.jpg 1500w, https://cdn.flightclub.com/1800/TEMPLATE/144204/1.jpg 1800w, https://cdn.flightclub.com/2200/TEMPLATE/144204/1.jpg 2200w, https://cdn.flightclub.com/2600/TEMPLATE/144204/1.jpg 2600w, https://cdn.flightclub.com/3000/TEMPLATE/144204/1.jpg 3000w, https://cdn.flightclub.com/3500/TEMPLATE/144204/1.jpg 3500w\"/></div><figcaption class=\"yszfz8-3 dqRPIk\"><div class=\"yszfz8-2 cCuuxh\"><div class=\"yszfz8-4 cwJayf\" data-qa=\"ProductItemBrandName\" data-testid=\"gridItemBrand\">Air Jordan</div><h2 class=\"bt2tlo-0 sc-13zm8u8-0 cQeHPV\" data-qa=\"ProductItemTitle\">Air Jordan 1 High OG \"Court Purple\"</h2></div><div class=\"yszfz8-5 lbGKhm\" data-qa=\"ProductItemPrice\" data-testid=\"gridItemPrice\">$235+</div></figcaption></figure></a>"
      ]
     },
     "execution_count": 9,
     "metadata": {},
     "output_type": "execute_result"
    }
   ],
   "source": [
    "#examining the html of the first shoe container\n",
    "containers[1]"
   ]
  },
  {
   "cell_type": "code",
   "execution_count": 10,
   "metadata": {},
   "outputs": [
    {
     "data": {
      "text/plain": [
       "<a class=\"sc-12adlsx-0 hniSJt\" color=\"inherit\" href=\"/\"><img alt=\"Flight Club Logo\" class=\"sc-1ym5jjq-2 grkinc\" data-qa=\"HeaderFlightClubHome\" src=\"/static/flightclub_logo.svg\"/></a>"
      ]
     },
     "execution_count": 10,
     "metadata": {},
     "output_type": "execute_result"
    }
   ],
   "source": [
    "containers.pop(0)"
   ]
  },
  {
   "cell_type": "code",
   "execution_count": 11,
   "metadata": {},
   "outputs": [
    {
     "data": {
      "text/plain": [
       "30"
      ]
     },
     "execution_count": 11,
     "metadata": {},
     "output_type": "execute_result"
    }
   ],
   "source": [
    "len(containers)"
   ]
  },
  {
   "cell_type": "code",
   "execution_count": 12,
   "metadata": {},
   "outputs": [],
   "source": [
    "  links = []"
   ]
  },
  {
   "cell_type": "code",
   "execution_count": 13,
   "metadata": {},
   "outputs": [
    {
     "name": "stdout",
     "output_type": "stream",
     "text": [
      "['/air-jordan-1-high-og-court-purple-white-black-144204']\n",
      "['/air-jordan-1-high-og-court-purple-white-black-144204', '/air-jordan-1-retro-high-og-sail-obsidian-university-blue-152035']\n",
      "['/air-jordan-1-high-og-court-purple-white-black-144204', '/air-jordan-1-retro-high-og-sail-obsidian-university-blue-152035', '/air-jordan-1-retro-high-og-black-pale-vanilla-starfish-147128']\n",
      "['/air-jordan-1-high-og-court-purple-white-black-144204', '/air-jordan-1-retro-high-og-sail-obsidian-university-blue-152035', '/air-jordan-1-retro-high-og-black-pale-vanilla-starfish-147128', '/air-jordan-1-retro-high-og-white-black-varsity-red-012234']\n",
      "['/air-jordan-1-high-og-court-purple-white-black-144204', '/air-jordan-1-retro-high-og-sail-obsidian-university-blue-152035', '/air-jordan-1-retro-high-og-black-pale-vanilla-starfish-147128', '/air-jordan-1-retro-high-og-white-black-varsity-red-012234', '/air-jordan-1-retro-high-og-game-royal-summit-white-black-803480']\n",
      "['/air-jordan-1-high-og-court-purple-white-black-144204', '/air-jordan-1-retro-high-og-sail-obsidian-university-blue-152035', '/air-jordan-1-retro-high-og-black-pale-vanilla-starfish-147128', '/air-jordan-1-retro-high-og-white-black-varsity-red-012234', '/air-jordan-1-retro-high-og-game-royal-summit-white-black-803480', '/air-jordan-1-high-og-ts-sp-sail-black-dark-mocha-806920']\n",
      "['/air-jordan-1-high-og-court-purple-white-black-144204', '/air-jordan-1-retro-high-og-sail-obsidian-university-blue-152035', '/air-jordan-1-retro-high-og-black-pale-vanilla-starfish-147128', '/air-jordan-1-retro-high-og-white-black-varsity-red-012234', '/air-jordan-1-retro-high-og-game-royal-summit-white-black-803480', '/air-jordan-1-high-og-ts-sp-sail-black-dark-mocha-806920', '/air-jordan-1-retro-high-og-black-white-gym-red-pine-green-135278']\n",
      "['/air-jordan-1-high-og-court-purple-white-black-144204', '/air-jordan-1-retro-high-og-sail-obsidian-university-blue-152035', '/air-jordan-1-retro-high-og-black-pale-vanilla-starfish-147128', '/air-jordan-1-retro-high-og-white-black-varsity-red-012234', '/air-jordan-1-retro-high-og-game-royal-summit-white-black-803480', '/air-jordan-1-high-og-ts-sp-sail-black-dark-mocha-806920', '/air-jordan-1-retro-high-og-black-white-gym-red-pine-green-135278', '/air-jordan-1-retro-high-og-black-white-medium-grey-803598']\n",
      "['/air-jordan-1-high-og-court-purple-white-black-144204', '/air-jordan-1-retro-high-og-sail-obsidian-university-blue-152035', '/air-jordan-1-retro-high-og-black-pale-vanilla-starfish-147128', '/air-jordan-1-retro-high-og-white-black-varsity-red-012234', '/air-jordan-1-retro-high-og-game-royal-summit-white-black-803480', '/air-jordan-1-high-og-ts-sp-sail-black-dark-mocha-806920', '/air-jordan-1-retro-high-og-black-white-gym-red-pine-green-135278', '/air-jordan-1-retro-high-og-black-white-medium-grey-803598', '/wmns-air-jordan-1-retro-high-og-obsidian-blue-chill-white-806667']\n",
      "['/air-jordan-1-high-og-court-purple-white-black-144204', '/air-jordan-1-retro-high-og-sail-obsidian-university-blue-152035', '/air-jordan-1-retro-high-og-black-pale-vanilla-starfish-147128', '/air-jordan-1-retro-high-og-white-black-varsity-red-012234', '/air-jordan-1-retro-high-og-game-royal-summit-white-black-803480', '/air-jordan-1-high-og-ts-sp-sail-black-dark-mocha-806920', '/air-jordan-1-retro-high-og-black-white-gym-red-pine-green-135278', '/air-jordan-1-retro-high-og-black-white-medium-grey-803598', '/wmns-air-jordan-1-retro-high-og-obsidian-blue-chill-white-806667', '/air-jordan-1-retro-high-og-gym-red-black-summit-white-802799']\n",
      "['/air-jordan-1-high-og-court-purple-white-black-144204', '/air-jordan-1-retro-high-og-sail-obsidian-university-blue-152035', '/air-jordan-1-retro-high-og-black-pale-vanilla-starfish-147128', '/air-jordan-1-retro-high-og-white-black-varsity-red-012234', '/air-jordan-1-retro-high-og-game-royal-summit-white-black-803480', '/air-jordan-1-high-og-ts-sp-sail-black-dark-mocha-806920', '/air-jordan-1-retro-high-og-black-white-gym-red-pine-green-135278', '/air-jordan-1-retro-high-og-black-white-medium-grey-803598', '/wmns-air-jordan-1-retro-high-og-obsidian-blue-chill-white-806667', '/air-jordan-1-retro-high-og-gym-red-black-summit-white-802799', '/wmns-air-jordan-1-high-og-black-dk-powder-blue-gym-red-149288']\n",
      "['/air-jordan-1-high-og-court-purple-white-black-144204', '/air-jordan-1-retro-high-og-sail-obsidian-university-blue-152035', '/air-jordan-1-retro-high-og-black-pale-vanilla-starfish-147128', '/air-jordan-1-retro-high-og-white-black-varsity-red-012234', '/air-jordan-1-retro-high-og-game-royal-summit-white-black-803480', '/air-jordan-1-high-og-ts-sp-sail-black-dark-mocha-806920', '/air-jordan-1-retro-high-og-black-white-gym-red-pine-green-135278', '/air-jordan-1-retro-high-og-black-white-medium-grey-803598', '/wmns-air-jordan-1-retro-high-og-obsidian-blue-chill-white-806667', '/air-jordan-1-retro-high-og-gym-red-black-summit-white-802799', '/wmns-air-jordan-1-high-og-black-dk-powder-blue-gym-red-149288', '/air-jordan-1-x-off-white-nrg-white-dark-powder-blue-cone-804093']\n",
      "['/air-jordan-1-high-og-court-purple-white-black-144204', '/air-jordan-1-retro-high-og-sail-obsidian-university-blue-152035', '/air-jordan-1-retro-high-og-black-pale-vanilla-starfish-147128', '/air-jordan-1-retro-high-og-white-black-varsity-red-012234', '/air-jordan-1-retro-high-og-game-royal-summit-white-black-803480', '/air-jordan-1-high-og-ts-sp-sail-black-dark-mocha-806920', '/air-jordan-1-retro-high-og-black-white-gym-red-pine-green-135278', '/air-jordan-1-retro-high-og-black-white-medium-grey-803598', '/wmns-air-jordan-1-retro-high-og-obsidian-blue-chill-white-806667', '/air-jordan-1-retro-high-og-gym-red-black-summit-white-802799', '/wmns-air-jordan-1-high-og-black-dk-powder-blue-gym-red-149288', '/air-jordan-1-x-off-white-nrg-white-dark-powder-blue-cone-804093', '/wmns-air-jordan-1-mid-se-white-black-lightbulb-team-orange-166381']\n",
      "['/air-jordan-1-high-og-court-purple-white-black-144204', '/air-jordan-1-retro-high-og-sail-obsidian-university-blue-152035', '/air-jordan-1-retro-high-og-black-pale-vanilla-starfish-147128', '/air-jordan-1-retro-high-og-white-black-varsity-red-012234', '/air-jordan-1-retro-high-og-game-royal-summit-white-black-803480', '/air-jordan-1-high-og-ts-sp-sail-black-dark-mocha-806920', '/air-jordan-1-retro-high-og-black-white-gym-red-pine-green-135278', '/air-jordan-1-retro-high-og-black-white-medium-grey-803598', '/wmns-air-jordan-1-retro-high-og-obsidian-blue-chill-white-806667', '/air-jordan-1-retro-high-og-gym-red-black-summit-white-802799', '/wmns-air-jordan-1-high-og-black-dk-powder-blue-gym-red-149288', '/air-jordan-1-x-off-white-nrg-white-dark-powder-blue-cone-804093', '/wmns-air-jordan-1-mid-se-white-black-lightbulb-team-orange-166381', '/air-jordan-1-retro-high-og-black-crimson-tint-white-137821']\n",
      "['/air-jordan-1-high-og-court-purple-white-black-144204', '/air-jordan-1-retro-high-og-sail-obsidian-university-blue-152035', '/air-jordan-1-retro-high-og-black-pale-vanilla-starfish-147128', '/air-jordan-1-retro-high-og-white-black-varsity-red-012234', '/air-jordan-1-retro-high-og-game-royal-summit-white-black-803480', '/air-jordan-1-high-og-ts-sp-sail-black-dark-mocha-806920', '/air-jordan-1-retro-high-og-black-white-gym-red-pine-green-135278', '/air-jordan-1-retro-high-og-black-white-medium-grey-803598', '/wmns-air-jordan-1-retro-high-og-obsidian-blue-chill-white-806667', '/air-jordan-1-retro-high-og-gym-red-black-summit-white-802799', '/wmns-air-jordan-1-high-og-black-dk-powder-blue-gym-red-149288', '/air-jordan-1-x-off-white-nrg-white-dark-powder-blue-cone-804093', '/wmns-air-jordan-1-mid-se-white-black-lightbulb-team-orange-166381', '/air-jordan-1-retro-high-og-black-crimson-tint-white-137821', '/air-jordan-1-retro-high-og-black-gym-red-white-140229']\n",
      "['/air-jordan-1-high-og-court-purple-white-black-144204', '/air-jordan-1-retro-high-og-sail-obsidian-university-blue-152035', '/air-jordan-1-retro-high-og-black-pale-vanilla-starfish-147128', '/air-jordan-1-retro-high-og-white-black-varsity-red-012234', '/air-jordan-1-retro-high-og-game-royal-summit-white-black-803480', '/air-jordan-1-high-og-ts-sp-sail-black-dark-mocha-806920', '/air-jordan-1-retro-high-og-black-white-gym-red-pine-green-135278', '/air-jordan-1-retro-high-og-black-white-medium-grey-803598', '/wmns-air-jordan-1-retro-high-og-obsidian-blue-chill-white-806667', '/air-jordan-1-retro-high-og-gym-red-black-summit-white-802799', '/wmns-air-jordan-1-high-og-black-dk-powder-blue-gym-red-149288', '/air-jordan-1-x-off-white-nrg-white-dark-powder-blue-cone-804093', '/wmns-air-jordan-1-mid-se-white-black-lightbulb-team-orange-166381', '/air-jordan-1-retro-high-og-black-crimson-tint-white-137821', '/air-jordan-1-retro-high-og-black-gym-red-white-140229', '/air-jordan-1-retro-high-og-black-varsity-red-white-012496']\n",
      "['/air-jordan-1-high-og-court-purple-white-black-144204', '/air-jordan-1-retro-high-og-sail-obsidian-university-blue-152035', '/air-jordan-1-retro-high-og-black-pale-vanilla-starfish-147128', '/air-jordan-1-retro-high-og-white-black-varsity-red-012234', '/air-jordan-1-retro-high-og-game-royal-summit-white-black-803480', '/air-jordan-1-high-og-ts-sp-sail-black-dark-mocha-806920', '/air-jordan-1-retro-high-og-black-white-gym-red-pine-green-135278', '/air-jordan-1-retro-high-og-black-white-medium-grey-803598', '/wmns-air-jordan-1-retro-high-og-obsidian-blue-chill-white-806667', '/air-jordan-1-retro-high-og-gym-red-black-summit-white-802799', '/wmns-air-jordan-1-high-og-black-dk-powder-blue-gym-red-149288', '/air-jordan-1-x-off-white-nrg-white-dark-powder-blue-cone-804093', '/wmns-air-jordan-1-mid-se-white-black-lightbulb-team-orange-166381', '/air-jordan-1-retro-high-og-black-crimson-tint-white-137821', '/air-jordan-1-retro-high-og-black-gym-red-white-140229', '/air-jordan-1-retro-high-og-black-varsity-red-white-012496', '/air-jordan-1-high-og-fearless-white-university-blue-varsity-red-black-149390']\n",
      "['/air-jordan-1-high-og-court-purple-white-black-144204', '/air-jordan-1-retro-high-og-sail-obsidian-university-blue-152035', '/air-jordan-1-retro-high-og-black-pale-vanilla-starfish-147128', '/air-jordan-1-retro-high-og-white-black-varsity-red-012234', '/air-jordan-1-retro-high-og-game-royal-summit-white-black-803480', '/air-jordan-1-high-og-ts-sp-sail-black-dark-mocha-806920', '/air-jordan-1-retro-high-og-black-white-gym-red-pine-green-135278', '/air-jordan-1-retro-high-og-black-white-medium-grey-803598', '/wmns-air-jordan-1-retro-high-og-obsidian-blue-chill-white-806667', '/air-jordan-1-retro-high-og-gym-red-black-summit-white-802799', '/wmns-air-jordan-1-high-og-black-dk-powder-blue-gym-red-149288', '/air-jordan-1-x-off-white-nrg-white-dark-powder-blue-cone-804093', '/wmns-air-jordan-1-mid-se-white-black-lightbulb-team-orange-166381', '/air-jordan-1-retro-high-og-black-crimson-tint-white-137821', '/air-jordan-1-retro-high-og-black-gym-red-white-140229', '/air-jordan-1-retro-high-og-black-varsity-red-white-012496', '/air-jordan-1-high-og-fearless-white-university-blue-varsity-red-black-149390', '/air-jordan-1-retro-high-og-turbo-green-sail-white-806889']\n",
      "['/air-jordan-1-high-og-court-purple-white-black-144204', '/air-jordan-1-retro-high-og-sail-obsidian-university-blue-152035', '/air-jordan-1-retro-high-og-black-pale-vanilla-starfish-147128', '/air-jordan-1-retro-high-og-white-black-varsity-red-012234', '/air-jordan-1-retro-high-og-game-royal-summit-white-black-803480', '/air-jordan-1-high-og-ts-sp-sail-black-dark-mocha-806920', '/air-jordan-1-retro-high-og-black-white-gym-red-pine-green-135278', '/air-jordan-1-retro-high-og-black-white-medium-grey-803598', '/wmns-air-jordan-1-retro-high-og-obsidian-blue-chill-white-806667', '/air-jordan-1-retro-high-og-gym-red-black-summit-white-802799', '/wmns-air-jordan-1-high-og-black-dk-powder-blue-gym-red-149288', '/air-jordan-1-x-off-white-nrg-white-dark-powder-blue-cone-804093', '/wmns-air-jordan-1-mid-se-white-black-lightbulb-team-orange-166381', '/air-jordan-1-retro-high-og-black-crimson-tint-white-137821', '/air-jordan-1-retro-high-og-black-gym-red-white-140229', '/air-jordan-1-retro-high-og-black-varsity-red-white-012496', '/air-jordan-1-high-og-fearless-white-university-blue-varsity-red-black-149390', '/air-jordan-1-retro-high-og-turbo-green-sail-white-806889', '/air-jordan-1-retro-high-zoom-white-racer-blue-white-164667']\n",
      "['/air-jordan-1-high-og-court-purple-white-black-144204', '/air-jordan-1-retro-high-og-sail-obsidian-university-blue-152035', '/air-jordan-1-retro-high-og-black-pale-vanilla-starfish-147128', '/air-jordan-1-retro-high-og-white-black-varsity-red-012234', '/air-jordan-1-retro-high-og-game-royal-summit-white-black-803480', '/air-jordan-1-high-og-ts-sp-sail-black-dark-mocha-806920', '/air-jordan-1-retro-high-og-black-white-gym-red-pine-green-135278', '/air-jordan-1-retro-high-og-black-white-medium-grey-803598', '/wmns-air-jordan-1-retro-high-og-obsidian-blue-chill-white-806667', '/air-jordan-1-retro-high-og-gym-red-black-summit-white-802799', '/wmns-air-jordan-1-high-og-black-dk-powder-blue-gym-red-149288', '/air-jordan-1-x-off-white-nrg-white-dark-powder-blue-cone-804093', '/wmns-air-jordan-1-mid-se-white-black-lightbulb-team-orange-166381', '/air-jordan-1-retro-high-og-black-crimson-tint-white-137821', '/air-jordan-1-retro-high-og-black-gym-red-white-140229', '/air-jordan-1-retro-high-og-black-varsity-red-white-012496', '/air-jordan-1-high-og-fearless-white-university-blue-varsity-red-black-149390', '/air-jordan-1-retro-high-og-turbo-green-sail-white-806889', '/air-jordan-1-retro-high-zoom-white-racer-blue-white-164667', '/air-jordan-1-retro-high-og-gs-sail-obsidian-university-blue-152180']\n",
      "['/air-jordan-1-high-og-court-purple-white-black-144204', '/air-jordan-1-retro-high-og-sail-obsidian-university-blue-152035', '/air-jordan-1-retro-high-og-black-pale-vanilla-starfish-147128', '/air-jordan-1-retro-high-og-white-black-varsity-red-012234', '/air-jordan-1-retro-high-og-game-royal-summit-white-black-803480', '/air-jordan-1-high-og-ts-sp-sail-black-dark-mocha-806920', '/air-jordan-1-retro-high-og-black-white-gym-red-pine-green-135278', '/air-jordan-1-retro-high-og-black-white-medium-grey-803598', '/wmns-air-jordan-1-retro-high-og-obsidian-blue-chill-white-806667', '/air-jordan-1-retro-high-og-gym-red-black-summit-white-802799', '/wmns-air-jordan-1-high-og-black-dk-powder-blue-gym-red-149288', '/air-jordan-1-x-off-white-nrg-white-dark-powder-blue-cone-804093', '/wmns-air-jordan-1-mid-se-white-black-lightbulb-team-orange-166381', '/air-jordan-1-retro-high-og-black-crimson-tint-white-137821', '/air-jordan-1-retro-high-og-black-gym-red-white-140229', '/air-jordan-1-retro-high-og-black-varsity-red-white-012496', '/air-jordan-1-high-og-fearless-white-university-blue-varsity-red-black-149390', '/air-jordan-1-retro-high-og-turbo-green-sail-white-806889', '/air-jordan-1-retro-high-zoom-white-racer-blue-white-164667', '/air-jordan-1-retro-high-og-gs-sail-obsidian-university-blue-152180', '/air-jordan-1-retro-high-og-black-white-sail-gym-red-142282']\n",
      "['/air-jordan-1-high-og-court-purple-white-black-144204', '/air-jordan-1-retro-high-og-sail-obsidian-university-blue-152035', '/air-jordan-1-retro-high-og-black-pale-vanilla-starfish-147128', '/air-jordan-1-retro-high-og-white-black-varsity-red-012234', '/air-jordan-1-retro-high-og-game-royal-summit-white-black-803480', '/air-jordan-1-high-og-ts-sp-sail-black-dark-mocha-806920', '/air-jordan-1-retro-high-og-black-white-gym-red-pine-green-135278', '/air-jordan-1-retro-high-og-black-white-medium-grey-803598', '/wmns-air-jordan-1-retro-high-og-obsidian-blue-chill-white-806667', '/air-jordan-1-retro-high-og-gym-red-black-summit-white-802799', '/wmns-air-jordan-1-high-og-black-dk-powder-blue-gym-red-149288', '/air-jordan-1-x-off-white-nrg-white-dark-powder-blue-cone-804093', '/wmns-air-jordan-1-mid-se-white-black-lightbulb-team-orange-166381', '/air-jordan-1-retro-high-og-black-crimson-tint-white-137821', '/air-jordan-1-retro-high-og-black-gym-red-white-140229', '/air-jordan-1-retro-high-og-black-varsity-red-white-012496', '/air-jordan-1-high-og-fearless-white-university-blue-varsity-red-black-149390', '/air-jordan-1-retro-high-og-turbo-green-sail-white-806889', '/air-jordan-1-retro-high-zoom-white-racer-blue-white-164667', '/air-jordan-1-retro-high-og-gs-sail-obsidian-university-blue-152180', '/air-jordan-1-retro-high-og-black-white-sail-gym-red-142282', '/air-jordan-1-low-og-sp-t-black-sail-dark-mocha-146236']\n",
      "['/air-jordan-1-high-og-court-purple-white-black-144204', '/air-jordan-1-retro-high-og-sail-obsidian-university-blue-152035', '/air-jordan-1-retro-high-og-black-pale-vanilla-starfish-147128', '/air-jordan-1-retro-high-og-white-black-varsity-red-012234', '/air-jordan-1-retro-high-og-game-royal-summit-white-black-803480', '/air-jordan-1-high-og-ts-sp-sail-black-dark-mocha-806920', '/air-jordan-1-retro-high-og-black-white-gym-red-pine-green-135278', '/air-jordan-1-retro-high-og-black-white-medium-grey-803598', '/wmns-air-jordan-1-retro-high-og-obsidian-blue-chill-white-806667', '/air-jordan-1-retro-high-og-gym-red-black-summit-white-802799', '/wmns-air-jordan-1-high-og-black-dk-powder-blue-gym-red-149288', '/air-jordan-1-x-off-white-nrg-white-dark-powder-blue-cone-804093', '/wmns-air-jordan-1-mid-se-white-black-lightbulb-team-orange-166381', '/air-jordan-1-retro-high-og-black-crimson-tint-white-137821', '/air-jordan-1-retro-high-og-black-gym-red-white-140229', '/air-jordan-1-retro-high-og-black-varsity-red-white-012496', '/air-jordan-1-high-og-fearless-white-university-blue-varsity-red-black-149390', '/air-jordan-1-retro-high-og-turbo-green-sail-white-806889', '/air-jordan-1-retro-high-zoom-white-racer-blue-white-164667', '/air-jordan-1-retro-high-og-gs-sail-obsidian-university-blue-152180', '/air-jordan-1-retro-high-og-black-white-sail-gym-red-142282', '/air-jordan-1-low-og-sp-t-black-sail-dark-mocha-146236', '/wmns-air-jordan-1high-og-black-black-white-varsity-red-140740']\n",
      "['/air-jordan-1-high-og-court-purple-white-black-144204', '/air-jordan-1-retro-high-og-sail-obsidian-university-blue-152035', '/air-jordan-1-retro-high-og-black-pale-vanilla-starfish-147128', '/air-jordan-1-retro-high-og-white-black-varsity-red-012234', '/air-jordan-1-retro-high-og-game-royal-summit-white-black-803480', '/air-jordan-1-high-og-ts-sp-sail-black-dark-mocha-806920', '/air-jordan-1-retro-high-og-black-white-gym-red-pine-green-135278', '/air-jordan-1-retro-high-og-black-white-medium-grey-803598', '/wmns-air-jordan-1-retro-high-og-obsidian-blue-chill-white-806667', '/air-jordan-1-retro-high-og-gym-red-black-summit-white-802799', '/wmns-air-jordan-1-high-og-black-dk-powder-blue-gym-red-149288', '/air-jordan-1-x-off-white-nrg-white-dark-powder-blue-cone-804093', '/wmns-air-jordan-1-mid-se-white-black-lightbulb-team-orange-166381', '/air-jordan-1-retro-high-og-black-crimson-tint-white-137821', '/air-jordan-1-retro-high-og-black-gym-red-white-140229', '/air-jordan-1-retro-high-og-black-varsity-red-white-012496', '/air-jordan-1-high-og-fearless-white-university-blue-varsity-red-black-149390', '/air-jordan-1-retro-high-og-turbo-green-sail-white-806889', '/air-jordan-1-retro-high-zoom-white-racer-blue-white-164667', '/air-jordan-1-retro-high-og-gs-sail-obsidian-university-blue-152180', '/air-jordan-1-retro-high-og-black-white-sail-gym-red-142282', '/air-jordan-1-low-og-sp-t-black-sail-dark-mocha-146236', '/wmns-air-jordan-1high-og-black-black-white-varsity-red-140740', '/air-jordan-1-retro-high-og-gs-red-green-575441-030']\n",
      "['/air-jordan-1-high-og-court-purple-white-black-144204', '/air-jordan-1-retro-high-og-sail-obsidian-university-blue-152035', '/air-jordan-1-retro-high-og-black-pale-vanilla-starfish-147128', '/air-jordan-1-retro-high-og-white-black-varsity-red-012234', '/air-jordan-1-retro-high-og-game-royal-summit-white-black-803480', '/air-jordan-1-high-og-ts-sp-sail-black-dark-mocha-806920', '/air-jordan-1-retro-high-og-black-white-gym-red-pine-green-135278', '/air-jordan-1-retro-high-og-black-white-medium-grey-803598', '/wmns-air-jordan-1-retro-high-og-obsidian-blue-chill-white-806667', '/air-jordan-1-retro-high-og-gym-red-black-summit-white-802799', '/wmns-air-jordan-1-high-og-black-dk-powder-blue-gym-red-149288', '/air-jordan-1-x-off-white-nrg-white-dark-powder-blue-cone-804093', '/wmns-air-jordan-1-mid-se-white-black-lightbulb-team-orange-166381', '/air-jordan-1-retro-high-og-black-crimson-tint-white-137821', '/air-jordan-1-retro-high-og-black-gym-red-white-140229', '/air-jordan-1-retro-high-og-black-varsity-red-white-012496', '/air-jordan-1-high-og-fearless-white-university-blue-varsity-red-black-149390', '/air-jordan-1-retro-high-og-turbo-green-sail-white-806889', '/air-jordan-1-retro-high-zoom-white-racer-blue-white-164667', '/air-jordan-1-retro-high-og-gs-sail-obsidian-university-blue-152180', '/air-jordan-1-retro-high-og-black-white-sail-gym-red-142282', '/air-jordan-1-low-og-sp-t-black-sail-dark-mocha-146236', '/wmns-air-jordan-1high-og-black-black-white-varsity-red-140740', '/air-jordan-1-retro-high-og-gs-red-green-575441-030', '/air-jordan-1-retro-high-og-black-royal-white-800564']\n",
      "['/air-jordan-1-high-og-court-purple-white-black-144204', '/air-jordan-1-retro-high-og-sail-obsidian-university-blue-152035', '/air-jordan-1-retro-high-og-black-pale-vanilla-starfish-147128', '/air-jordan-1-retro-high-og-white-black-varsity-red-012234', '/air-jordan-1-retro-high-og-game-royal-summit-white-black-803480', '/air-jordan-1-high-og-ts-sp-sail-black-dark-mocha-806920', '/air-jordan-1-retro-high-og-black-white-gym-red-pine-green-135278', '/air-jordan-1-retro-high-og-black-white-medium-grey-803598', '/wmns-air-jordan-1-retro-high-og-obsidian-blue-chill-white-806667', '/air-jordan-1-retro-high-og-gym-red-black-summit-white-802799', '/wmns-air-jordan-1-high-og-black-dk-powder-blue-gym-red-149288', '/air-jordan-1-x-off-white-nrg-white-dark-powder-blue-cone-804093', '/wmns-air-jordan-1-mid-se-white-black-lightbulb-team-orange-166381', '/air-jordan-1-retro-high-og-black-crimson-tint-white-137821', '/air-jordan-1-retro-high-og-black-gym-red-white-140229', '/air-jordan-1-retro-high-og-black-varsity-red-white-012496', '/air-jordan-1-high-og-fearless-white-university-blue-varsity-red-black-149390', '/air-jordan-1-retro-high-og-turbo-green-sail-white-806889', '/air-jordan-1-retro-high-zoom-white-racer-blue-white-164667', '/air-jordan-1-retro-high-og-gs-sail-obsidian-university-blue-152180', '/air-jordan-1-retro-high-og-black-white-sail-gym-red-142282', '/air-jordan-1-low-og-sp-t-black-sail-dark-mocha-146236', '/wmns-air-jordan-1high-og-black-black-white-varsity-red-140740', '/air-jordan-1-retro-high-og-gs-red-green-575441-030', '/air-jordan-1-retro-high-og-black-royal-white-800564', '/air-jordan-1-mid-chicago-black-toe-554724-069']\n",
      "['/air-jordan-1-high-og-court-purple-white-black-144204', '/air-jordan-1-retro-high-og-sail-obsidian-university-blue-152035', '/air-jordan-1-retro-high-og-black-pale-vanilla-starfish-147128', '/air-jordan-1-retro-high-og-white-black-varsity-red-012234', '/air-jordan-1-retro-high-og-game-royal-summit-white-black-803480', '/air-jordan-1-high-og-ts-sp-sail-black-dark-mocha-806920', '/air-jordan-1-retro-high-og-black-white-gym-red-pine-green-135278', '/air-jordan-1-retro-high-og-black-white-medium-grey-803598', '/wmns-air-jordan-1-retro-high-og-obsidian-blue-chill-white-806667', '/air-jordan-1-retro-high-og-gym-red-black-summit-white-802799', '/wmns-air-jordan-1-high-og-black-dk-powder-blue-gym-red-149288', '/air-jordan-1-x-off-white-nrg-white-dark-powder-blue-cone-804093', '/wmns-air-jordan-1-mid-se-white-black-lightbulb-team-orange-166381', '/air-jordan-1-retro-high-og-black-crimson-tint-white-137821', '/air-jordan-1-retro-high-og-black-gym-red-white-140229', '/air-jordan-1-retro-high-og-black-varsity-red-white-012496', '/air-jordan-1-high-og-fearless-white-university-blue-varsity-red-black-149390', '/air-jordan-1-retro-high-og-turbo-green-sail-white-806889', '/air-jordan-1-retro-high-zoom-white-racer-blue-white-164667', '/air-jordan-1-retro-high-og-gs-sail-obsidian-university-blue-152180', '/air-jordan-1-retro-high-og-black-white-sail-gym-red-142282', '/air-jordan-1-low-og-sp-t-black-sail-dark-mocha-146236', '/wmns-air-jordan-1high-og-black-black-white-varsity-red-140740', '/air-jordan-1-retro-high-og-gs-red-green-575441-030', '/air-jordan-1-retro-high-og-black-royal-white-800564', '/air-jordan-1-mid-chicago-black-toe-554724-069', '/the-10-air-jordan-1-white-black-varsity-red-black-801781']\n",
      "['/air-jordan-1-high-og-court-purple-white-black-144204', '/air-jordan-1-retro-high-og-sail-obsidian-university-blue-152035', '/air-jordan-1-retro-high-og-black-pale-vanilla-starfish-147128', '/air-jordan-1-retro-high-og-white-black-varsity-red-012234', '/air-jordan-1-retro-high-og-game-royal-summit-white-black-803480', '/air-jordan-1-high-og-ts-sp-sail-black-dark-mocha-806920', '/air-jordan-1-retro-high-og-black-white-gym-red-pine-green-135278', '/air-jordan-1-retro-high-og-black-white-medium-grey-803598', '/wmns-air-jordan-1-retro-high-og-obsidian-blue-chill-white-806667', '/air-jordan-1-retro-high-og-gym-red-black-summit-white-802799', '/wmns-air-jordan-1-high-og-black-dk-powder-blue-gym-red-149288', '/air-jordan-1-x-off-white-nrg-white-dark-powder-blue-cone-804093', '/wmns-air-jordan-1-mid-se-white-black-lightbulb-team-orange-166381', '/air-jordan-1-retro-high-og-black-crimson-tint-white-137821', '/air-jordan-1-retro-high-og-black-gym-red-white-140229', '/air-jordan-1-retro-high-og-black-varsity-red-white-012496', '/air-jordan-1-high-og-fearless-white-university-blue-varsity-red-black-149390', '/air-jordan-1-retro-high-og-turbo-green-sail-white-806889', '/air-jordan-1-retro-high-zoom-white-racer-blue-white-164667', '/air-jordan-1-retro-high-og-gs-sail-obsidian-university-blue-152180', '/air-jordan-1-retro-high-og-black-white-sail-gym-red-142282', '/air-jordan-1-low-og-sp-t-black-sail-dark-mocha-146236', '/wmns-air-jordan-1high-og-black-black-white-varsity-red-140740', '/air-jordan-1-retro-high-og-gs-red-green-575441-030', '/air-jordan-1-retro-high-og-black-royal-white-800564', '/air-jordan-1-mid-chicago-black-toe-554724-069', '/the-10-air-jordan-1-white-black-varsity-red-black-801781', '/air-jordan-1-retro-high-sb-light-bone-crimson-tint-hyper-pink-black-135711']\n",
      "['/air-jordan-1-high-og-court-purple-white-black-144204', '/air-jordan-1-retro-high-og-sail-obsidian-university-blue-152035', '/air-jordan-1-retro-high-og-black-pale-vanilla-starfish-147128', '/air-jordan-1-retro-high-og-white-black-varsity-red-012234', '/air-jordan-1-retro-high-og-game-royal-summit-white-black-803480', '/air-jordan-1-high-og-ts-sp-sail-black-dark-mocha-806920', '/air-jordan-1-retro-high-og-black-white-gym-red-pine-green-135278', '/air-jordan-1-retro-high-og-black-white-medium-grey-803598', '/wmns-air-jordan-1-retro-high-og-obsidian-blue-chill-white-806667', '/air-jordan-1-retro-high-og-gym-red-black-summit-white-802799', '/wmns-air-jordan-1-high-og-black-dk-powder-blue-gym-red-149288', '/air-jordan-1-x-off-white-nrg-white-dark-powder-blue-cone-804093', '/wmns-air-jordan-1-mid-se-white-black-lightbulb-team-orange-166381', '/air-jordan-1-retro-high-og-black-crimson-tint-white-137821', '/air-jordan-1-retro-high-og-black-gym-red-white-140229', '/air-jordan-1-retro-high-og-black-varsity-red-white-012496', '/air-jordan-1-high-og-fearless-white-university-blue-varsity-red-black-149390', '/air-jordan-1-retro-high-og-turbo-green-sail-white-806889', '/air-jordan-1-retro-high-zoom-white-racer-blue-white-164667', '/air-jordan-1-retro-high-og-gs-sail-obsidian-university-blue-152180', '/air-jordan-1-retro-high-og-black-white-sail-gym-red-142282', '/air-jordan-1-low-og-sp-t-black-sail-dark-mocha-146236', '/wmns-air-jordan-1high-og-black-black-white-varsity-red-140740', '/air-jordan-1-retro-high-og-gs-red-green-575441-030', '/air-jordan-1-retro-high-og-black-royal-white-800564', '/air-jordan-1-mid-chicago-black-toe-554724-069', '/the-10-air-jordan-1-white-black-varsity-red-black-801781', '/air-jordan-1-retro-high-sb-light-bone-crimson-tint-hyper-pink-black-135711', '/wmns-air-jordan-1-retro-high-og-black-black-metallic-gold-141219']\n",
      "['/air-jordan-1-high-og-court-purple-white-black-144204', '/air-jordan-1-retro-high-og-sail-obsidian-university-blue-152035', '/air-jordan-1-retro-high-og-black-pale-vanilla-starfish-147128', '/air-jordan-1-retro-high-og-white-black-varsity-red-012234', '/air-jordan-1-retro-high-og-game-royal-summit-white-black-803480', '/air-jordan-1-high-og-ts-sp-sail-black-dark-mocha-806920', '/air-jordan-1-retro-high-og-black-white-gym-red-pine-green-135278', '/air-jordan-1-retro-high-og-black-white-medium-grey-803598', '/wmns-air-jordan-1-retro-high-og-obsidian-blue-chill-white-806667', '/air-jordan-1-retro-high-og-gym-red-black-summit-white-802799', '/wmns-air-jordan-1-high-og-black-dk-powder-blue-gym-red-149288', '/air-jordan-1-x-off-white-nrg-white-dark-powder-blue-cone-804093', '/wmns-air-jordan-1-mid-se-white-black-lightbulb-team-orange-166381', '/air-jordan-1-retro-high-og-black-crimson-tint-white-137821', '/air-jordan-1-retro-high-og-black-gym-red-white-140229', '/air-jordan-1-retro-high-og-black-varsity-red-white-012496', '/air-jordan-1-high-og-fearless-white-university-blue-varsity-red-black-149390', '/air-jordan-1-retro-high-og-turbo-green-sail-white-806889', '/air-jordan-1-retro-high-zoom-white-racer-blue-white-164667', '/air-jordan-1-retro-high-og-gs-sail-obsidian-university-blue-152180', '/air-jordan-1-retro-high-og-black-white-sail-gym-red-142282', '/air-jordan-1-low-og-sp-t-black-sail-dark-mocha-146236', '/wmns-air-jordan-1high-og-black-black-white-varsity-red-140740', '/air-jordan-1-retro-high-og-gs-red-green-575441-030', '/air-jordan-1-retro-high-og-black-royal-white-800564', '/air-jordan-1-mid-chicago-black-toe-554724-069', '/the-10-air-jordan-1-white-black-varsity-red-black-801781', '/air-jordan-1-retro-high-sb-light-bone-crimson-tint-hyper-pink-black-135711', '/wmns-air-jordan-1-retro-high-og-black-black-metallic-gold-141219', '/air-jordan-1-retro-high-og-black-white-varsity-red-012566']\n"
     ]
    }
   ],
   "source": [
    "for url in containers:\n",
    "    links.append(url.get(\"href\"))\n",
    "    print(links)"
   ]
  },
  {
   "cell_type": "code",
   "execution_count": null,
   "metadata": {},
   "outputs": [],
   "source": []
  },
  {
   "cell_type": "code",
   "execution_count": null,
   "metadata": {},
   "outputs": [],
   "source": []
  },
  {
   "cell_type": "code",
   "execution_count": null,
   "metadata": {},
   "outputs": [],
   "source": []
  },
  {
   "cell_type": "code",
   "execution_count": null,
   "metadata": {},
   "outputs": [],
   "source": []
  },
  {
   "cell_type": "code",
   "execution_count": null,
   "metadata": {},
   "outputs": [],
   "source": []
  },
  {
   "cell_type": "code",
   "execution_count": null,
   "metadata": {},
   "outputs": [],
   "source": []
  }
 ],
 "metadata": {
  "kernelspec": {
   "display_name": "Python 3",
   "language": "python",
   "name": "python3"
  },
  "language_info": {
   "codemirror_mode": {
    "name": "ipython",
    "version": 3
   },
   "file_extension": ".py",
   "mimetype": "text/x-python",
   "name": "python",
   "nbconvert_exporter": "python",
   "pygments_lexer": "ipython3",
   "version": "3.7.0"
  }
 },
 "nbformat": 4,
 "nbformat_minor": 2
}
