{
 "cells": [
  {
   "cell_type": "code",
   "execution_count": 1,
   "metadata": {},
   "outputs": [],
   "source": [
    "import bs4\n",
    "from urllib.request import Request, urlopen\n",
    "from bs4 import BeautifulSoup as soup\n",
    "from selenium import webdriver\n",
    "from selenium.webdriver.common.by import By\n",
    "from selenium.webdriver.support.ui import WebDriverWait\n",
    "from selenium.webdriver.support import expected_conditions as EC\n",
    "from selenium.common.exceptions import TimeoutException"
   ]
  },
  {
   "cell_type": "code",
   "execution_count": 2,
   "metadata": {},
   "outputs": [],
   "source": [
    "my_url = \"https://www.flightclub.com/air-jordans/air-jordan-1\""
   ]
  },
  {
   "cell_type": "code",
   "execution_count": 3,
   "metadata": {},
   "outputs": [],
   "source": [
    "#req = Request(my_url, headers={'User-Agent': 'Mozilla/5.0'})\n",
    "#webpage = urlopen(req).read()"
   ]
  },
  {
   "cell_type": "code",
   "execution_count": 4,
   "metadata": {},
   "outputs": [],
   "source": [
    "#html parsing\n",
    "#page_soup = soup(webpage, \"html.parser\")\n",
    "#page_soup.title"
   ]
  },
  {
   "cell_type": "code",
   "execution_count": 5,
   "metadata": {},
   "outputs": [],
   "source": [
    "x_path_list = []"
   ]
  },
  {
   "cell_type": "code",
   "execution_count": 6,
   "metadata": {},
   "outputs": [],
   "source": [
    "jordan_shoes = []"
   ]
  },
  {
   "cell_type": "code",
   "execution_count": null,
   "metadata": {},
   "outputs": [],
   "source": []
  },
  {
   "cell_type": "code",
   "execution_count": 7,
   "metadata": {},
   "outputs": [],
   "source": [
    "#opens initial browser\n",
    "#def init_driver():\n",
    "        #driver = webdriver.Chrome(executable_path='/Users/gabbyvinco/desktop/Python/Web Scraping/Drivers/chromedriver')\n",
    "        #return driver"
   ]
  },
  {
   "cell_type": "code",
   "execution_count": 8,
   "metadata": {},
   "outputs": [],
   "source": [
    "jordan_shoes = []\n",
    "\n",
    "class Sneakers():\n",
    "    #initialize browser\n",
    "    def init_driver(self, driver):\n",
    "        self.driver = driver\n",
    "        #driver = webdriver.Chrome(executable_path='/Users/gabbyvinco/desktop/Python/Web Scraping/Drivers/chromedriver')\n",
    "        \n",
    "    #open main air jordan 1 page on flight club\n",
    "    def main_page(self, driver):\n",
    "        self.driver.get(my_url)\n",
    "        count = self.driver.find_elements_by_css_selector(\"[class*='sc-12adlsx-0 hniSJt']\")\n",
    "        page_count = len(count)\n",
    "        self.page_count = page_count\n",
    "        return page_count\n",
    "    #Function to loop through page_count and interact/scrape each container on current page\n",
    "    def x_path_creator(self, driver):\n",
    "        for p in range(1, self.page_count):\n",
    "            x_path = (('/html/body/div/div[2]/div[1]/div[3]/div/div[2]/div[2]/a[{}]').format(p))\n",
    "            x_path_list.append(x_path)\n",
    "            page_list = (self.page_count - 1)\n",
    "            self.page_list = page_list\n",
    "            \n",
    "#             print(x_path_list)\n",
    "    def shoe_page_scrape(self, driver):\n",
    "        for q in range(0, self.page_list):\n",
    "            air_jordan1 = {}\n",
    "            \n",
    "#            element = WebDriverWait(driver, 20).until(EC.invisibility_of_element_located((By.XPATH, (x_path_list[{}]).format(q))\n",
    "            driver.implicitly_wait(15)\n",
    "            element = driver.find_element_by_xpath(x_path_list[q])\n",
    "            element.click()\n",
    "            driver.implicitly_wait(10)\n",
    "            air_jordan1[\"shoe_title\"] = self.driver.find_element_by_xpath('/html/body/div/div[2]/div[1]/div/div[2]/div[1]/h1').text\n",
    "            air_jordan1[\"shoe_info\"] = self.driver.find_element_by_xpath('/html/body/div/div[2]/div[1]/div/div[2]/div[1]/h3').text\n",
    "            jordan_shoes.append(air_jordan1)\n",
    "            self.driver.back()\n",
    "    #Once done scraping page, clicks next page button until it returns to page 1\n",
    "    def next_page(self, driver):\n",
    "        if self.driver.current_url != my_url:\n",
    "            next_button = self.driver.find_element_by_xpath('/html/body/div/div[2]/div[1]/div[3]/div[2]/ul/li[3]/button')\n",
    "            next_button.click()\n",
    "            shoe_page_scrape(driver)\n",
    "        else:\n",
    "            print(\"Scraping for this shoe is done.\")\n",
    "            self.driver.quit()\n",
    "\n",
    "    "
   ]
  },
  {
   "cell_type": "code",
   "execution_count": 9,
   "metadata": {},
   "outputs": [],
   "source": [
    "#open main air jordan 1 page on flight club\n",
    "#def main_page(driver):\n",
    "    #driver.get(my_url)\n",
    "    #count =  driver.find_elements_by_css_selector(\"[class*='sc-12adlsx-0 hniSJt']\")\n",
    "    #page_count = len(count)\n",
    "    #print(page_count)\n",
    "\n",
    "    "
   ]
  },
  {
   "cell_type": "code",
   "execution_count": 10,
   "metadata": {},
   "outputs": [],
   "source": [
    "#def shoe_page_scrape(driver):\n",
    "    #for p in range(1, page_count):\n",
    "        #air_jordan1 = {}\n",
    "        \n",
    "       # x_path = (('/html/body/div/div[2]/div[1]/div[3]/div[3]/div[2]/div[2]/a[{}]').format(p))\n",
    "       # element = WebDriverWait(driver, 10).until(EC.invisibility_of_element_located((By.XPATH, x_path)))\n",
    "       # #element = driver.find_element_by_xpath(paths_by_page[p]\n",
    "       # driver.maximize_window() #For maximizing window\n",
    "       # driver.implicitly_wait(20) #gives an implicit wait for 20 seconds\n",
    "       # element.click()\n",
    "       # driver.implicitly_wait(10)\n",
    "       # air_jordan1[\"shoe_title\"] = driver.find_element_by_xpath('/html/body/div/div[2]/div[1]/div/div[2]/div[1]/h1').text\n",
    "       # air_jordan1[\"shoe_info\"] = driver.find_element_by_xpath('/html/body/div/div[2]/div[1]/div/div[2]/div[1]/h3').text\n",
    "       # jordan_shoes.append(air_jordan1)\n",
    "       # driver.back()\n",
    "\n",
    "    \n",
    "    "
   ]
  },
  {
   "cell_type": "code",
   "execution_count": 11,
   "metadata": {},
   "outputs": [],
   "source": [
    "#def next_page(driver):\n",
    "    #if driver.current_url != my_url:\n",
    "       # next_button = driver.find_element_by_xpath('/html/body/div/div[2]/div[1]/div[3]/div[2]/ul/li[3]/button')\n",
    "        #next_button.click()\n",
    "        #could add conteiner counter/numbers here\n",
    "        #shoe_page_scrape(driver)\n",
    "    #else:\n",
    "        #print(\"Scraping for this shoe is done.\")\n",
    "        #driver.quit()'''"
   ]
  },
  {
   "cell_type": "code",
   "execution_count": 12,
   "metadata": {
    "scrolled": false
   },
   "outputs": [],
   "source": [
    "#run functions\n",
    "driver = webdriver.Chrome(executable_path='/Users/gabbyvinco/desktop/Python/Web Scraping/Drivers/chromedriver')\n",
    "scraper = Sneakers()\n",
    "scraper.init_driver(driver)\n",
    "\n",
    "scraper.main_page(driver)\n",
    "scraper.x_path_creator(driver)\n",
    "scraper.shoe_page_scrape(driver)\n",
    "#open air jordan 1 page 1\n",
    "#sneakers.main_page(self,driver)\n",
    "#loop through containers on that page, once finished return to page 1\n",
    "#sneakers.shoe_page_scrape(self,driver)\n",
    "#advances through pages by hitting button and progresses to next page until fail\n",
    "#next_page(driver)"
   ]
  },
  {
   "cell_type": "code",
   "execution_count": 13,
   "metadata": {},
   "outputs": [],
   "source": [
    "#/html/body/div/div[2]/div[1]/div[3]/div/div[2]/div[2]/a[1]"
   ]
  },
  {
   "cell_type": "code",
   "execution_count": null,
   "metadata": {},
   "outputs": [],
   "source": []
  },
  {
   "cell_type": "code",
   "execution_count": 15,
   "metadata": {},
   "outputs": [
    {
     "name": "stdout",
     "output_type": "stream",
     "text": [
      "[{'shoe_title': 'AIR JORDAN 1 RETRO HIGH OG \"ROYAL TOE\"', 'shoe_info': '555088 041 | black/white/game royal/black | 5/9/20'}, {'shoe_title': 'AIR JORDAN 1 HIGH OG \"COURT PURPLE\"', 'shoe_info': '555088 500 | court purple/white/black | 4/11/20'}, {'shoe_title': 'AIR JORDAN 1 RETRO HIGH OG \"OBSIDIAN, UNC\"', 'shoe_info': '555088 140 | sail/obsidian-university blue | 8/31/19'}, {'shoe_title': 'AIR JORDAN 1 RETRO HIGH OG \"GAME ROYAL\"', 'shoe_info': '555088 403 | game royal/summit white-black | 3/23/18'}, {'shoe_title': 'AIR JORDAN 1 RETRO HIGH OG \"CHICAGO\"', 'shoe_info': '555088 101 | white/black-varsity red | 5/29/15'}, {'shoe_title': 'AIR JORDAN 1 RETRO HIGH OG \"SHATTERED BACKBOARD 3.0\"', 'shoe_info': '555088 028 | black/pale vanilla-starfish | 10/26/19'}, {'shoe_title': 'AIR JORDAN 1 RETRO HIGH OG \"PINE GREEN 2.0\"', 'shoe_info': '555088 030 | black/white-gym red-pine green | 2/29/20'}, {'shoe_title': 'AIR JORDAN 1 RETRO HIGH OG GS', 'shoe_info': '575441 041 | black/white/game royal/black | 5/9/20'}, {'shoe_title': 'AIR JORDAN 1 RETRO HIGH OG \"SHADOW\"', 'shoe_info': '555088 013 | black/white-medium grey | 4/14/18'}, {'shoe_title': 'AIR JORDAN 1 HIGH OG TS SP \"TRAVIS SCOTT\"', 'shoe_info': 'cd4487 100 | sail/dark mocha-university red-black | 5/11/19'}, {'shoe_title': 'WMNS AIR JORDAN 1 RETRO HIGH OG \"BLUE CHILL\"', 'shoe_info': 'cd0461 401 | obsidian/blue chill-white | 2/14/19'}, {'shoe_title': 'AIR JORDAN 1 RETRO HIGH OG \"BRED TOE\"', 'shoe_info': '555088 610 | gym red/summit white-black | 2/24/18'}, {'shoe_title': 'WMNS AIR JORDAN 1 HIGH OG \\'UNC TO CHICAGO\\' \"UNC TO CHICAGO\"', 'shoe_info': 'cd0461 046 | black/dark powder blue/gym red | 2/13/20'}, {'shoe_title': 'AIR JORDAN 1 RETRO HIGH OG \"CRIMSON TINT\"', 'shoe_info': '555088 081 | black/crimson tint-hyper pink-white | 4/11/19'}, {'shoe_title': 'AIR JORDAN 1 RETRO HIGH OG \"BANNED 2016 RELEASE\"', 'shoe_info': '555088 001 | black/varsity red-white | 9/2/16'}, {'shoe_title': 'AIR JORDAN 1 X OFF-WHITE NRG \"OFF WHITE UNC\"', 'shoe_info': 'aq0818 148 | white/dark powder blue-cone | 5/23/18'}, {'shoe_title': 'AIR JORDAN 1 RETRO HIGH OG \"BLOODLINE\"', 'shoe_info': '555088 062 | black/gym red/white | 11/29/19'}, {'shoe_title': 'AIR JORDAN 1 RETRO HIGH ZOOM \"RACER BLUE\"', 'shoe_info': 'ck6637 104 | white/racer blue/white | 3/14/20'}, {'shoe_title': 'AIR JORDAN 1 HIGH OG FEARLESS \"FEARLESS\"', 'shoe_info': 'ck5666 100 | white/university blue-varsity red-black | 11/2/19'}, {'shoe_title': 'AIR JORDAN 1 RETRO HIGH OG \"TURBO GREEN\"', 'shoe_info': '555088 311 | turbo green/white-light smoke grey-sail | 2/15/19'}, {'shoe_title': 'WMNS AIR JORDAN 1 MID SE', 'shoe_info': 'cw1140 100 | white/black/lightbulb/team orange | 4/9/20'}, {'shoe_title': 'AIR JORDAN 1 RETRO HIGH OG \"GYM RED\"', 'shoe_info': '555088 061 | black/white-sail-gym red | 6/28/19'}, {'shoe_title': 'AIR JORDAN 1 RETRO HIGH OG GS \"OBSIDIAN\"', 'shoe_info': '575441 140 | sail/obsidian/university blue | 8/31/19'}, {'shoe_title': 'AIR JORDAN 1 MID', 'shoe_info': '554724 069 | black/gym red/white | 4/1/20'}, {'shoe_title': 'AIR JORDAN 1 RETRO HIGH OG \"ROYAL 2017 RELEASE\"', 'shoe_info': '555088 007 | black/royal-white | 4/1/17'}, {'shoe_title': 'AIR JORDAN 1 LOW OG SP-T \"TRAVIS SCOTT\"', 'shoe_info': 'cq4277 001 | black/dark mocha-university red-sail | 7/19/19'}, {'shoe_title': 'AIR JORDAN 1 RETRO HIGH OG GS \"PINE GREEN 2.0\"', 'shoe_info': '575441 030 | black/pine green/white/gym red | 2/29/20'}, {'shoe_title': 'WMNS AIR JORDAN 1HIGH OG \"SATIN BLACK TOE\"', 'shoe_info': 'cd0461 016 | black/white-varsity red | 8/17/19'}, {'shoe_title': 'AIR JORDAN 1 LOW', 'shoe_info': 'ao9944 441 | university blue/white | 4/5/20'}, {'shoe_title': 'WMNS AIR JORDAN 1 RETRO HIGH OG \"TWIST, PONY\"', 'shoe_info': 'cd0461 007 | black/black-metallic gold-white | 5/9/19'}]\n"
     ]
    }
   ],
   "source": [
    "#page 1 data\n",
    "print(jordan_shoes)"
   ]
  },
  {
   "cell_type": "code",
   "execution_count": null,
   "metadata": {},
   "outputs": [],
   "source": []
  },
  {
   "cell_type": "code",
   "execution_count": null,
   "metadata": {},
   "outputs": [],
   "source": []
  }
 ],
 "metadata": {
  "kernelspec": {
   "display_name": "Python 3",
   "language": "python",
   "name": "python3"
  },
  "language_info": {
   "codemirror_mode": {
    "name": "ipython",
    "version": 3
   },
   "file_extension": ".py",
   "mimetype": "text/x-python",
   "name": "python",
   "nbconvert_exporter": "python",
   "pygments_lexer": "ipython3",
   "version": "3.7.0"
  }
 },
 "nbformat": 4,
 "nbformat_minor": 2
}
